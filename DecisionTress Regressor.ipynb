{
 "cells": [
  {
   "cell_type": "code",
   "execution_count": 1,
   "id": "acfb78a4",
   "metadata": {
    "_cell_guid": "b1076dfc-b9ad-4769-8c92-a6c4dae69d19",
    "_uuid": "8f2839f25d086af736a60e9eeb907d3b93b6e0e5",
    "execution": {
     "iopub.execute_input": "2023-10-20T06:51:23.307051Z",
     "iopub.status.busy": "2023-10-20T06:51:23.306635Z",
     "iopub.status.idle": "2023-10-20T06:51:23.696141Z",
     "shell.execute_reply": "2023-10-20T06:51:23.695225Z"
    },
    "papermill": {
     "duration": 0.399944,
     "end_time": "2023-10-20T06:51:23.699154",
     "exception": false,
     "start_time": "2023-10-20T06:51:23.299210",
     "status": "completed"
    },
    "tags": []
   },
   "outputs": [
    {
     "name": "stdout",
     "output_type": "stream",
     "text": [
      "/kaggle/input/bike-sharing-demand/sampleSubmission.csv\n",
      "/kaggle/input/bike-sharing-demand/train.csv\n",
      "/kaggle/input/bike-sharing-demand/test.csv\n"
     ]
    }
   ],
   "source": [
    "# This Python 3 environment comes with many helpful analytics libraries installed\n",
    "# It is defined by the kaggle/python Docker image: https://github.com/kaggle/docker-python\n",
    "# For example, here's several helpful packages to load\n",
    "\n",
    "import numpy as np # linear algebra\n",
    "import pandas as pd # data processing, CSV file I/O (e.g. pd.read_csv)\n",
    "\n",
    "# Input data files are available in the read-only \"../input/\" directory\n",
    "# For example, running this (by clicking run or pressing Shift+Enter) will list all files under the input directory\n",
    "\n",
    "import os\n",
    "for dirname, _, filenames in os.walk('/kaggle/input'):\n",
    "    for filename in filenames:\n",
    "        print(os.path.join(dirname, filename))\n",
    "\n",
    "# You can write up to 20GB to the current directory (/kaggle/working/) that gets preserved as output when you create a version using \"Save & Run All\" \n",
    "# You can also write temporary files to /kaggle/temp/, but they won't be saved outside of the current session"
   ]
  },
  {
   "cell_type": "code",
   "execution_count": 2,
   "id": "3392a3f7",
   "metadata": {
    "execution": {
     "iopub.execute_input": "2023-10-20T06:51:23.712027Z",
     "iopub.status.busy": "2023-10-20T06:51:23.711558Z",
     "iopub.status.idle": "2023-10-20T06:51:23.717908Z",
     "shell.execute_reply": "2023-10-20T06:51:23.716407Z"
    },
    "papermill": {
     "duration": 0.01536,
     "end_time": "2023-10-20T06:51:23.720246",
     "exception": false,
     "start_time": "2023-10-20T06:51:23.704886",
     "status": "completed"
    },
    "tags": []
   },
   "outputs": [],
   "source": [
    "import pandas as pd\n",
    "import matplotlib.pyplot as plt\n",
    "%matplotlib inline"
   ]
  },
  {
   "cell_type": "code",
   "execution_count": 3,
   "id": "510446e7",
   "metadata": {
    "execution": {
     "iopub.execute_input": "2023-10-20T06:51:23.732294Z",
     "iopub.status.busy": "2023-10-20T06:51:23.731893Z",
     "iopub.status.idle": "2023-10-20T06:51:23.787345Z",
     "shell.execute_reply": "2023-10-20T06:51:23.785944Z"
    },
    "papermill": {
     "duration": 0.064453,
     "end_time": "2023-10-20T06:51:23.789919",
     "exception": false,
     "start_time": "2023-10-20T06:51:23.725466",
     "status": "completed"
    },
    "tags": []
   },
   "outputs": [],
   "source": [
    "df = pd.read_csv('/kaggle/input/bike-sharing-demand/train.csv')"
   ]
  },
  {
   "cell_type": "code",
   "execution_count": 4,
   "id": "3cad91c3",
   "metadata": {
    "execution": {
     "iopub.execute_input": "2023-10-20T06:51:23.801359Z",
     "iopub.status.busy": "2023-10-20T06:51:23.800996Z",
     "iopub.status.idle": "2023-10-20T06:51:23.809166Z",
     "shell.execute_reply": "2023-10-20T06:51:23.808200Z"
    },
    "papermill": {
     "duration": 0.015821,
     "end_time": "2023-10-20T06:51:23.810926",
     "exception": false,
     "start_time": "2023-10-20T06:51:23.795105",
     "status": "completed"
    },
    "tags": []
   },
   "outputs": [
    {
     "data": {
      "text/plain": [
       "(10886, 12)"
      ]
     },
     "execution_count": 4,
     "metadata": {},
     "output_type": "execute_result"
    }
   ],
   "source": [
    "df.shape"
   ]
  },
  {
   "cell_type": "code",
   "execution_count": 5,
   "id": "f1b299d0",
   "metadata": {
    "execution": {
     "iopub.execute_input": "2023-10-20T06:51:23.822553Z",
     "iopub.status.busy": "2023-10-20T06:51:23.822114Z",
     "iopub.status.idle": "2023-10-20T06:51:23.846489Z",
     "shell.execute_reply": "2023-10-20T06:51:23.845700Z"
    },
    "papermill": {
     "duration": 0.032803,
     "end_time": "2023-10-20T06:51:23.848538",
     "exception": false,
     "start_time": "2023-10-20T06:51:23.815735",
     "status": "completed"
    },
    "tags": []
   },
   "outputs": [
    {
     "data": {
      "text/html": [
       "<div>\n",
       "<style scoped>\n",
       "    .dataframe tbody tr th:only-of-type {\n",
       "        vertical-align: middle;\n",
       "    }\n",
       "\n",
       "    .dataframe tbody tr th {\n",
       "        vertical-align: top;\n",
       "    }\n",
       "\n",
       "    .dataframe thead th {\n",
       "        text-align: right;\n",
       "    }\n",
       "</style>\n",
       "<table border=\"1\" class=\"dataframe\">\n",
       "  <thead>\n",
       "    <tr style=\"text-align: right;\">\n",
       "      <th></th>\n",
       "      <th>datetime</th>\n",
       "      <th>season</th>\n",
       "      <th>holiday</th>\n",
       "      <th>workingday</th>\n",
       "      <th>weather</th>\n",
       "      <th>temp</th>\n",
       "      <th>atemp</th>\n",
       "      <th>humidity</th>\n",
       "      <th>windspeed</th>\n",
       "      <th>casual</th>\n",
       "      <th>registered</th>\n",
       "      <th>count</th>\n",
       "    </tr>\n",
       "  </thead>\n",
       "  <tbody>\n",
       "    <tr>\n",
       "      <th>0</th>\n",
       "      <td>2011-01-01 00:00:00</td>\n",
       "      <td>1</td>\n",
       "      <td>0</td>\n",
       "      <td>0</td>\n",
       "      <td>1</td>\n",
       "      <td>9.84</td>\n",
       "      <td>14.395</td>\n",
       "      <td>81</td>\n",
       "      <td>0.0</td>\n",
       "      <td>3</td>\n",
       "      <td>13</td>\n",
       "      <td>16</td>\n",
       "    </tr>\n",
       "    <tr>\n",
       "      <th>1</th>\n",
       "      <td>2011-01-01 01:00:00</td>\n",
       "      <td>1</td>\n",
       "      <td>0</td>\n",
       "      <td>0</td>\n",
       "      <td>1</td>\n",
       "      <td>9.02</td>\n",
       "      <td>13.635</td>\n",
       "      <td>80</td>\n",
       "      <td>0.0</td>\n",
       "      <td>8</td>\n",
       "      <td>32</td>\n",
       "      <td>40</td>\n",
       "    </tr>\n",
       "    <tr>\n",
       "      <th>2</th>\n",
       "      <td>2011-01-01 02:00:00</td>\n",
       "      <td>1</td>\n",
       "      <td>0</td>\n",
       "      <td>0</td>\n",
       "      <td>1</td>\n",
       "      <td>9.02</td>\n",
       "      <td>13.635</td>\n",
       "      <td>80</td>\n",
       "      <td>0.0</td>\n",
       "      <td>5</td>\n",
       "      <td>27</td>\n",
       "      <td>32</td>\n",
       "    </tr>\n",
       "    <tr>\n",
       "      <th>3</th>\n",
       "      <td>2011-01-01 03:00:00</td>\n",
       "      <td>1</td>\n",
       "      <td>0</td>\n",
       "      <td>0</td>\n",
       "      <td>1</td>\n",
       "      <td>9.84</td>\n",
       "      <td>14.395</td>\n",
       "      <td>75</td>\n",
       "      <td>0.0</td>\n",
       "      <td>3</td>\n",
       "      <td>10</td>\n",
       "      <td>13</td>\n",
       "    </tr>\n",
       "    <tr>\n",
       "      <th>4</th>\n",
       "      <td>2011-01-01 04:00:00</td>\n",
       "      <td>1</td>\n",
       "      <td>0</td>\n",
       "      <td>0</td>\n",
       "      <td>1</td>\n",
       "      <td>9.84</td>\n",
       "      <td>14.395</td>\n",
       "      <td>75</td>\n",
       "      <td>0.0</td>\n",
       "      <td>0</td>\n",
       "      <td>1</td>\n",
       "      <td>1</td>\n",
       "    </tr>\n",
       "  </tbody>\n",
       "</table>\n",
       "</div>"
      ],
      "text/plain": [
       "              datetime  season  holiday  workingday  weather  temp   atemp  \\\n",
       "0  2011-01-01 00:00:00       1        0           0        1  9.84  14.395   \n",
       "1  2011-01-01 01:00:00       1        0           0        1  9.02  13.635   \n",
       "2  2011-01-01 02:00:00       1        0           0        1  9.02  13.635   \n",
       "3  2011-01-01 03:00:00       1        0           0        1  9.84  14.395   \n",
       "4  2011-01-01 04:00:00       1        0           0        1  9.84  14.395   \n",
       "\n",
       "   humidity  windspeed  casual  registered  count  \n",
       "0        81        0.0       3          13     16  \n",
       "1        80        0.0       8          32     40  \n",
       "2        80        0.0       5          27     32  \n",
       "3        75        0.0       3          10     13  \n",
       "4        75        0.0       0           1      1  "
      ]
     },
     "execution_count": 5,
     "metadata": {},
     "output_type": "execute_result"
    }
   ],
   "source": [
    "df.head()"
   ]
  },
  {
   "cell_type": "code",
   "execution_count": 6,
   "id": "df078521",
   "metadata": {
    "execution": {
     "iopub.execute_input": "2023-10-20T06:51:23.860895Z",
     "iopub.status.busy": "2023-10-20T06:51:23.860179Z",
     "iopub.status.idle": "2023-10-20T06:51:23.871538Z",
     "shell.execute_reply": "2023-10-20T06:51:23.870420Z"
    },
    "papermill": {
     "duration": 0.020195,
     "end_time": "2023-10-20T06:51:23.873855",
     "exception": false,
     "start_time": "2023-10-20T06:51:23.853660",
     "status": "completed"
    },
    "tags": []
   },
   "outputs": [
    {
     "data": {
      "text/plain": [
       "datetime      0\n",
       "season        0\n",
       "holiday       0\n",
       "workingday    0\n",
       "weather       0\n",
       "temp          0\n",
       "atemp         0\n",
       "humidity      0\n",
       "windspeed     0\n",
       "casual        0\n",
       "registered    0\n",
       "count         0\n",
       "dtype: int64"
      ]
     },
     "execution_count": 6,
     "metadata": {},
     "output_type": "execute_result"
    }
   ],
   "source": [
    "df.isnull().sum()"
   ]
  },
  {
   "cell_type": "code",
   "execution_count": 7,
   "id": "27b0f1e9",
   "metadata": {
    "execution": {
     "iopub.execute_input": "2023-10-20T06:51:23.886857Z",
     "iopub.status.busy": "2023-10-20T06:51:23.886224Z",
     "iopub.status.idle": "2023-10-20T06:51:23.899593Z",
     "shell.execute_reply": "2023-10-20T06:51:23.898439Z"
    },
    "papermill": {
     "duration": 0.023343,
     "end_time": "2023-10-20T06:51:23.902277",
     "exception": false,
     "start_time": "2023-10-20T06:51:23.878934",
     "status": "completed"
    },
    "tags": []
   },
   "outputs": [],
   "source": [
    "df.drop([\"datetime\"],axis = 1,inplace = True)"
   ]
  },
  {
   "cell_type": "code",
   "execution_count": 8,
   "id": "956a29ee",
   "metadata": {
    "execution": {
     "iopub.execute_input": "2023-10-20T06:51:23.914541Z",
     "iopub.status.busy": "2023-10-20T06:51:23.914155Z",
     "iopub.status.idle": "2023-10-20T06:51:23.927927Z",
     "shell.execute_reply": "2023-10-20T06:51:23.926905Z"
    },
    "papermill": {
     "duration": 0.022347,
     "end_time": "2023-10-20T06:51:23.929973",
     "exception": false,
     "start_time": "2023-10-20T06:51:23.907626",
     "status": "completed"
    },
    "tags": []
   },
   "outputs": [
    {
     "data": {
      "text/html": [
       "<div>\n",
       "<style scoped>\n",
       "    .dataframe tbody tr th:only-of-type {\n",
       "        vertical-align: middle;\n",
       "    }\n",
       "\n",
       "    .dataframe tbody tr th {\n",
       "        vertical-align: top;\n",
       "    }\n",
       "\n",
       "    .dataframe thead th {\n",
       "        text-align: right;\n",
       "    }\n",
       "</style>\n",
       "<table border=\"1\" class=\"dataframe\">\n",
       "  <thead>\n",
       "    <tr style=\"text-align: right;\">\n",
       "      <th></th>\n",
       "      <th>season</th>\n",
       "      <th>holiday</th>\n",
       "      <th>workingday</th>\n",
       "      <th>weather</th>\n",
       "      <th>temp</th>\n",
       "      <th>atemp</th>\n",
       "      <th>humidity</th>\n",
       "      <th>windspeed</th>\n",
       "      <th>casual</th>\n",
       "      <th>registered</th>\n",
       "      <th>count</th>\n",
       "    </tr>\n",
       "  </thead>\n",
       "  <tbody>\n",
       "    <tr>\n",
       "      <th>0</th>\n",
       "      <td>1</td>\n",
       "      <td>0</td>\n",
       "      <td>0</td>\n",
       "      <td>1</td>\n",
       "      <td>9.84</td>\n",
       "      <td>14.395</td>\n",
       "      <td>81</td>\n",
       "      <td>0.0</td>\n",
       "      <td>3</td>\n",
       "      <td>13</td>\n",
       "      <td>16</td>\n",
       "    </tr>\n",
       "    <tr>\n",
       "      <th>1</th>\n",
       "      <td>1</td>\n",
       "      <td>0</td>\n",
       "      <td>0</td>\n",
       "      <td>1</td>\n",
       "      <td>9.02</td>\n",
       "      <td>13.635</td>\n",
       "      <td>80</td>\n",
       "      <td>0.0</td>\n",
       "      <td>8</td>\n",
       "      <td>32</td>\n",
       "      <td>40</td>\n",
       "    </tr>\n",
       "    <tr>\n",
       "      <th>2</th>\n",
       "      <td>1</td>\n",
       "      <td>0</td>\n",
       "      <td>0</td>\n",
       "      <td>1</td>\n",
       "      <td>9.02</td>\n",
       "      <td>13.635</td>\n",
       "      <td>80</td>\n",
       "      <td>0.0</td>\n",
       "      <td>5</td>\n",
       "      <td>27</td>\n",
       "      <td>32</td>\n",
       "    </tr>\n",
       "    <tr>\n",
       "      <th>3</th>\n",
       "      <td>1</td>\n",
       "      <td>0</td>\n",
       "      <td>0</td>\n",
       "      <td>1</td>\n",
       "      <td>9.84</td>\n",
       "      <td>14.395</td>\n",
       "      <td>75</td>\n",
       "      <td>0.0</td>\n",
       "      <td>3</td>\n",
       "      <td>10</td>\n",
       "      <td>13</td>\n",
       "    </tr>\n",
       "    <tr>\n",
       "      <th>4</th>\n",
       "      <td>1</td>\n",
       "      <td>0</td>\n",
       "      <td>0</td>\n",
       "      <td>1</td>\n",
       "      <td>9.84</td>\n",
       "      <td>14.395</td>\n",
       "      <td>75</td>\n",
       "      <td>0.0</td>\n",
       "      <td>0</td>\n",
       "      <td>1</td>\n",
       "      <td>1</td>\n",
       "    </tr>\n",
       "  </tbody>\n",
       "</table>\n",
       "</div>"
      ],
      "text/plain": [
       "   season  holiday  workingday  weather  temp   atemp  humidity  windspeed  \\\n",
       "0       1        0           0        1  9.84  14.395        81        0.0   \n",
       "1       1        0           0        1  9.02  13.635        80        0.0   \n",
       "2       1        0           0        1  9.02  13.635        80        0.0   \n",
       "3       1        0           0        1  9.84  14.395        75        0.0   \n",
       "4       1        0           0        1  9.84  14.395        75        0.0   \n",
       "\n",
       "   casual  registered  count  \n",
       "0       3          13     16  \n",
       "1       8          32     40  \n",
       "2       5          27     32  \n",
       "3       3          10     13  \n",
       "4       0           1      1  "
      ]
     },
     "execution_count": 8,
     "metadata": {},
     "output_type": "execute_result"
    }
   ],
   "source": [
    "df.head()"
   ]
  },
  {
   "cell_type": "code",
   "execution_count": 9,
   "id": "cda1f4d6",
   "metadata": {
    "execution": {
     "iopub.execute_input": "2023-10-20T06:51:23.943574Z",
     "iopub.status.busy": "2023-10-20T06:51:23.943104Z",
     "iopub.status.idle": "2023-10-20T06:51:24.249550Z",
     "shell.execute_reply": "2023-10-20T06:51:24.248152Z"
    },
    "papermill": {
     "duration": 0.316296,
     "end_time": "2023-10-20T06:51:24.252475",
     "exception": false,
     "start_time": "2023-10-20T06:51:23.936179",
     "status": "completed"
    },
    "tags": []
   },
   "outputs": [
    {
     "data": {
      "image/png": "[encoded data removed]",
      "text/plain": [
       "<Figure size 640x480 with 1 Axes>"
      ]
     },
     "metadata": {},
     "output_type": "display_data"
    }
   ],
   "source": [
    "plt.hist(df[\"count\"])\n",
    "plt.xlabel(\"Count of Bikes\")\n",
    "plt.ylabel(\"Frequency\")\n",
    "plt.title(\"Histogram\")\n",
    "plt.show()"
   ]
  },
  {
   "cell_type": "code",
   "execution_count": 10,
   "id": "8a7eaa93",
   "metadata": {
    "execution": {
     "iopub.execute_input": "2023-10-20T06:51:24.266981Z",
     "iopub.status.busy": "2023-10-20T06:51:24.266501Z",
     "iopub.status.idle": "2023-10-20T06:51:24.273965Z",
     "shell.execute_reply": "2023-10-20T06:51:24.272744Z"
    },
    "papermill": {
     "duration": 0.01782,
     "end_time": "2023-10-20T06:51:24.276631",
     "exception": false,
     "start_time": "2023-10-20T06:51:24.258811",
     "status": "completed"
    },
    "tags": []
   },
   "outputs": [],
   "source": [
    "x = df.iloc[:,:-1]\n",
    "y = df.iloc[:,-1]"
   ]
  },
  {
   "cell_type": "code",
   "execution_count": 11,
   "id": "e046e2ae",
   "metadata": {
    "execution": {
     "iopub.execute_input": "2023-10-20T06:51:24.290745Z",
     "iopub.status.busy": "2023-10-20T06:51:24.289571Z",
     "iopub.status.idle": "2023-10-20T06:51:24.305373Z",
     "shell.execute_reply": "2023-10-20T06:51:24.304052Z"
    },
    "papermill": {
     "duration": 0.024915,
     "end_time": "2023-10-20T06:51:24.307498",
     "exception": false,
     "start_time": "2023-10-20T06:51:24.282583",
     "status": "completed"
    },
    "tags": []
   },
   "outputs": [
    {
     "data": {
      "text/plain": [
       "(       season  holiday  workingday  weather   temp   atemp  humidity  \\\n",
       " 0           1        0           0        1   9.84  14.395        81   \n",
       " 1           1        0           0        1   9.02  13.635        80   \n",
       " 2           1        0           0        1   9.02  13.635        80   \n",
       " 3           1        0           0        1   9.84  14.395        75   \n",
       " 4           1        0           0        1   9.84  14.395        75   \n",
       " ...       ...      ...         ...      ...    ...     ...       ...   \n",
       " 10881       4        0           1        1  15.58  19.695        50   \n",
       " 10882       4        0           1        1  14.76  17.425        57   \n",
       " 10883       4        0           1        1  13.94  15.910        61   \n",
       " 10884       4        0           1        1  13.94  17.425        61   \n",
       " 10885       4        0           1        1  13.12  16.665        66   \n",
       " \n",
       "        windspeed  casual  registered  \n",
       " 0         0.0000       3          13  \n",
       " 1         0.0000       8          32  \n",
       " 2         0.0000       5          27  \n",
       " 3         0.0000       3          10  \n",
       " 4         0.0000       0           1  \n",
       " ...          ...     ...         ...  \n",
       " 10881    26.0027       7         329  \n",
       " 10882    15.0013      10         231  \n",
       " 10883    15.0013       4         164  \n",
       " 10884     6.0032      12         117  \n",
       " 10885     8.9981       4          84  \n",
       " \n",
       " [10886 rows x 10 columns],\n",
       " 0         16\n",
       " 1         40\n",
       " 2         32\n",
       " 3         13\n",
       " 4          1\n",
       "         ... \n",
       " 10881    336\n",
       " 10882    241\n",
       " 10883    168\n",
       " 10884    129\n",
       " 10885     88\n",
       " Name: count, Length: 10886, dtype: int64)"
      ]
     },
     "execution_count": 11,
     "metadata": {},
     "output_type": "execute_result"
    }
   ],
   "source": [
    "x,y"
   ]
  },
  {
   "cell_type": "code",
   "execution_count": 12,
   "id": "d95417f0",
   "metadata": {
    "execution": {
     "iopub.execute_input": "2023-10-20T06:51:24.321270Z",
     "iopub.status.busy": "2023-10-20T06:51:24.320797Z",
     "iopub.status.idle": "2023-10-20T06:51:25.814021Z",
     "shell.execute_reply": "2023-10-20T06:51:25.812686Z"
    },
    "papermill": {
     "duration": 1.503534,
     "end_time": "2023-10-20T06:51:25.817084",
     "exception": false,
     "start_time": "2023-10-20T06:51:24.313550",
     "status": "completed"
    },
    "tags": []
   },
   "outputs": [],
   "source": [
    "from sklearn.model_selection import train_test_split\n",
    "x_train,x_test,y_train,y_test = train_test_split(x,y,test_size = 0.33,random_state =42)"
   ]
  },
  {
   "cell_type": "code",
   "execution_count": 13,
   "id": "898e99e9",
   "metadata": {
    "execution": {
     "iopub.execute_input": "2023-10-20T06:51:25.832734Z",
     "iopub.status.busy": "2023-10-20T06:51:25.831595Z",
     "iopub.status.idle": "2023-10-20T06:51:25.849071Z",
     "shell.execute_reply": "2023-10-20T06:51:25.848156Z"
    },
    "papermill": {
     "duration": 0.027684,
     "end_time": "2023-10-20T06:51:25.851017",
     "exception": false,
     "start_time": "2023-10-20T06:51:25.823333",
     "status": "completed"
    },
    "tags": []
   },
   "outputs": [
    {
     "data": {
      "text/html": [
       "<div>\n",
       "<style scoped>\n",
       "    .dataframe tbody tr th:only-of-type {\n",
       "        vertical-align: middle;\n",
       "    }\n",
       "\n",
       "    .dataframe tbody tr th {\n",
       "        vertical-align: top;\n",
       "    }\n",
       "\n",
       "    .dataframe thead th {\n",
       "        text-align: right;\n",
       "    }\n",
       "</style>\n",
       "<table border=\"1\" class=\"dataframe\">\n",
       "  <thead>\n",
       "    <tr style=\"text-align: right;\">\n",
       "      <th></th>\n",
       "      <th>season</th>\n",
       "      <th>holiday</th>\n",
       "      <th>workingday</th>\n",
       "      <th>weather</th>\n",
       "      <th>temp</th>\n",
       "      <th>atemp</th>\n",
       "      <th>humidity</th>\n",
       "      <th>windspeed</th>\n",
       "      <th>casual</th>\n",
       "      <th>registered</th>\n",
       "    </tr>\n",
       "  </thead>\n",
       "  <tbody>\n",
       "    <tr>\n",
       "      <th>1101</th>\n",
       "      <td>1</td>\n",
       "      <td>0</td>\n",
       "      <td>1</td>\n",
       "      <td>3</td>\n",
       "      <td>17.22</td>\n",
       "      <td>21.210</td>\n",
       "      <td>0</td>\n",
       "      <td>15.0013</td>\n",
       "      <td>4</td>\n",
       "      <td>30</td>\n",
       "    </tr>\n",
       "    <tr>\n",
       "      <th>4194</th>\n",
       "      <td>4</td>\n",
       "      <td>0</td>\n",
       "      <td>1</td>\n",
       "      <td>1</td>\n",
       "      <td>21.32</td>\n",
       "      <td>25.000</td>\n",
       "      <td>59</td>\n",
       "      <td>7.0015</td>\n",
       "      <td>38</td>\n",
       "      <td>305</td>\n",
       "    </tr>\n",
       "    <tr>\n",
       "      <th>10389</th>\n",
       "      <td>4</td>\n",
       "      <td>0</td>\n",
       "      <td>0</td>\n",
       "      <td>1</td>\n",
       "      <td>11.48</td>\n",
       "      <td>13.635</td>\n",
       "      <td>81</td>\n",
       "      <td>12.9980</td>\n",
       "      <td>3</td>\n",
       "      <td>39</td>\n",
       "    </tr>\n",
       "    <tr>\n",
       "      <th>6969</th>\n",
       "      <td>2</td>\n",
       "      <td>0</td>\n",
       "      <td>0</td>\n",
       "      <td>1</td>\n",
       "      <td>25.42</td>\n",
       "      <td>30.305</td>\n",
       "      <td>22</td>\n",
       "      <td>19.9995</td>\n",
       "      <td>185</td>\n",
       "      <td>226</td>\n",
       "    </tr>\n",
       "    <tr>\n",
       "      <th>313</th>\n",
       "      <td>1</td>\n",
       "      <td>0</td>\n",
       "      <td>1</td>\n",
       "      <td>1</td>\n",
       "      <td>9.02</td>\n",
       "      <td>9.850</td>\n",
       "      <td>37</td>\n",
       "      <td>26.0027</td>\n",
       "      <td>4</td>\n",
       "      <td>73</td>\n",
       "    </tr>\n",
       "    <tr>\n",
       "      <th>...</th>\n",
       "      <td>...</td>\n",
       "      <td>...</td>\n",
       "      <td>...</td>\n",
       "      <td>...</td>\n",
       "      <td>...</td>\n",
       "      <td>...</td>\n",
       "      <td>...</td>\n",
       "      <td>...</td>\n",
       "      <td>...</td>\n",
       "      <td>...</td>\n",
       "    </tr>\n",
       "    <tr>\n",
       "      <th>5734</th>\n",
       "      <td>1</td>\n",
       "      <td>0</td>\n",
       "      <td>0</td>\n",
       "      <td>1</td>\n",
       "      <td>6.56</td>\n",
       "      <td>8.335</td>\n",
       "      <td>47</td>\n",
       "      <td>11.0014</td>\n",
       "      <td>6</td>\n",
       "      <td>32</td>\n",
       "    </tr>\n",
       "    <tr>\n",
       "      <th>5191</th>\n",
       "      <td>4</td>\n",
       "      <td>0</td>\n",
       "      <td>0</td>\n",
       "      <td>1</td>\n",
       "      <td>11.48</td>\n",
       "      <td>12.880</td>\n",
       "      <td>61</td>\n",
       "      <td>19.0012</td>\n",
       "      <td>15</td>\n",
       "      <td>134</td>\n",
       "    </tr>\n",
       "    <tr>\n",
       "      <th>5390</th>\n",
       "      <td>4</td>\n",
       "      <td>0</td>\n",
       "      <td>0</td>\n",
       "      <td>1</td>\n",
       "      <td>11.48</td>\n",
       "      <td>13.635</td>\n",
       "      <td>48</td>\n",
       "      <td>16.9979</td>\n",
       "      <td>27</td>\n",
       "      <td>207</td>\n",
       "    </tr>\n",
       "    <tr>\n",
       "      <th>860</th>\n",
       "      <td>1</td>\n",
       "      <td>0</td>\n",
       "      <td>0</td>\n",
       "      <td>1</td>\n",
       "      <td>15.58</td>\n",
       "      <td>19.695</td>\n",
       "      <td>17</td>\n",
       "      <td>35.0008</td>\n",
       "      <td>6</td>\n",
       "      <td>16</td>\n",
       "    </tr>\n",
       "    <tr>\n",
       "      <th>7270</th>\n",
       "      <td>2</td>\n",
       "      <td>0</td>\n",
       "      <td>1</td>\n",
       "      <td>2</td>\n",
       "      <td>22.14</td>\n",
       "      <td>25.760</td>\n",
       "      <td>88</td>\n",
       "      <td>12.9980</td>\n",
       "      <td>14</td>\n",
       "      <td>344</td>\n",
       "    </tr>\n",
       "  </tbody>\n",
       "</table>\n",
       "<p>7293 rows × 10 columns</p>\n",
       "</div>"
      ],
      "text/plain": [
       "       season  holiday  workingday  weather   temp   atemp  humidity  \\\n",
       "1101        1        0           1        3  17.22  21.210         0   \n",
       "4194        4        0           1        1  21.32  25.000        59   \n",
       "10389       4        0           0        1  11.48  13.635        81   \n",
       "6969        2        0           0        1  25.42  30.305        22   \n",
       "313         1        0           1        1   9.02   9.850        37   \n",
       "...       ...      ...         ...      ...    ...     ...       ...   \n",
       "5734        1        0           0        1   6.56   8.335        47   \n",
       "5191        4        0           0        1  11.48  12.880        61   \n",
       "5390        4        0           0        1  11.48  13.635        48   \n",
       "860         1        0           0        1  15.58  19.695        17   \n",
       "7270        2        0           1        2  22.14  25.760        88   \n",
       "\n",
       "       windspeed  casual  registered  \n",
       "1101     15.0013       4          30  \n",
       "4194      7.0015      38         305  \n",
       "10389    12.9980       3          39  \n",
       "6969     19.9995     185         226  \n",
       "313      26.0027       4          73  \n",
       "...          ...     ...         ...  \n",
       "5734     11.0014       6          32  \n",
       "5191     19.0012      15         134  \n",
       "5390     16.9979      27         207  \n",
       "860      35.0008       6          16  \n",
       "7270     12.9980      14         344  \n",
       "\n",
       "[7293 rows x 10 columns]"
      ]
     },
     "execution_count": 13,
     "metadata": {},
     "output_type": "execute_result"
    }
   ],
   "source": [
    "x_train"
   ]
  },
  {
   "cell_type": "code",
   "execution_count": 14,
   "id": "5b1fe3cb",
   "metadata": {
    "execution": {
     "iopub.execute_input": "2023-10-20T06:51:25.865878Z",
     "iopub.status.busy": "2023-10-20T06:51:25.865219Z",
     "iopub.status.idle": "2023-10-20T06:51:25.872812Z",
     "shell.execute_reply": "2023-10-20T06:51:25.871977Z"
    },
    "papermill": {
     "duration": 0.018126,
     "end_time": "2023-10-20T06:51:25.875322",
     "exception": false,
     "start_time": "2023-10-20T06:51:25.857196",
     "status": "completed"
    },
    "tags": []
   },
   "outputs": [
    {
     "data": {
      "text/plain": [
       "1101      34\n",
       "4194     343\n",
       "10389     42\n",
       "6969     411\n",
       "313       77\n",
       "        ... \n",
       "5734      38\n",
       "5191     149\n",
       "5390     234\n",
       "860       22\n",
       "7270     358\n",
       "Name: count, Length: 7293, dtype: int64"
      ]
     },
     "execution_count": 14,
     "metadata": {},
     "output_type": "execute_result"
    }
   ],
   "source": [
    "y_train"
   ]
  },
  {
   "cell_type": "code",
   "execution_count": 15,
   "id": "85ecc2dc",
   "metadata": {
    "execution": {
     "iopub.execute_input": "2023-10-20T06:51:25.890200Z",
     "iopub.status.busy": "2023-10-20T06:51:25.889803Z",
     "iopub.status.idle": "2023-10-20T06:51:26.219155Z",
     "shell.execute_reply": "2023-10-20T06:51:26.218195Z"
    },
    "papermill": {
     "duration": 0.339284,
     "end_time": "2023-10-20T06:51:26.221172",
     "exception": false,
     "start_time": "2023-10-20T06:51:25.881888",
     "status": "completed"
    },
    "tags": []
   },
   "outputs": [
    {
     "data": {
      "text/html": [
       "<style>#sk-container-id-1 {color: black;background-color: white;}#sk-container-id-1 pre{padding: 0;}#sk-container-id-1 div.sk-toggleable {background-color: white;}#sk-container-id-1 label.sk-toggleable__label {cursor: pointer;display: block;width: 100%;margin-bottom: 0;padding: 0.3em;box-sizing: border-box;text-align: center;}#sk-container-id-1 label.sk-toggleable__label-arrow:before {content: \"▸\";float: left;margin-right: 0.25em;color: #696969;}#sk-container-id-1 label.sk-toggleable__label-arrow:hover:before {color: black;}#sk-container-id-1 div.sk-estimator:hover label.sk-toggleable__label-arrow:before {color: black;}#sk-container-id-1 div.sk-toggleable__content {max-height: 0;max-width: 0;overflow: hidden;text-align: left;background-color: #f0f8ff;}#sk-container-id-1 div.sk-toggleable__content pre {margin: 0.2em;color: black;border-radius: 0.25em;background-color: #f0f8ff;}#sk-container-id-1 input.sk-toggleable__control:checked~div.sk-toggleable__content {max-height: 200px;max-width: 100%;overflow: auto;}#sk-container-id-1 input.sk-toggleable__control:checked~label.sk-toggleable__label-arrow:before {content: \"▾\";}#sk-container-id-1 div.sk-estimator input.sk-toggleable__control:checked~label.sk-toggleable__label {background-color: #d4ebff;}#sk-container-id-1 div.sk-label input.sk-toggleable__control:checked~label.sk-toggleable__label {background-color: #d4ebff;}#sk-container-id-1 input.sk-hidden--visually {border: 0;clip: rect(1px 1px 1px 1px);clip: rect(1px, 1px, 1px, 1px);height: 1px;margin: -1px;overflow: hidden;padding: 0;position: absolute;width: 1px;}#sk-container-id-1 div.sk-estimator {font-family: monospace;background-color: #f0f8ff;border: 1px dotted black;border-radius: 0.25em;box-sizing: border-box;margin-bottom: 0.5em;}#sk-container-id-1 div.sk-estimator:hover {background-color: #d4ebff;}#sk-container-id-1 div.sk-parallel-item::after {content: \"\";width: 100%;border-bottom: 1px solid gray;flex-grow: 1;}#sk-container-id-1 div.sk-label:hover label.sk-toggleable__label {background-color: #d4ebff;}#sk-container-id-1 div.sk-serial::before {content: \"\";position: absolute;border-left: 1px solid gray;box-sizing: border-box;top: 0;bottom: 0;left: 50%;z-index: 0;}#sk-container-id-1 div.sk-serial {display: flex;flex-direction: column;align-items: center;background-color: white;padding-right: 0.2em;padding-left: 0.2em;position: relative;}#sk-container-id-1 div.sk-item {position: relative;z-index: 1;}#sk-container-id-1 div.sk-parallel {display: flex;align-items: stretch;justify-content: center;background-color: white;position: relative;}#sk-container-id-1 div.sk-item::before, #sk-container-id-1 div.sk-parallel-item::before {content: \"\";position: absolute;border-left: 1px solid gray;box-sizing: border-box;top: 0;bottom: 0;left: 50%;z-index: -1;}#sk-container-id-1 div.sk-parallel-item {display: flex;flex-direction: column;z-index: 1;position: relative;background-color: white;}#sk-container-id-1 div.sk-parallel-item:first-child::after {align-self: flex-end;width: 50%;}#sk-container-id-1 div.sk-parallel-item:last-child::after {align-self: flex-start;width: 50%;}#sk-container-id-1 div.sk-parallel-item:only-child::after {width: 0;}#sk-container-id-1 div.sk-dashed-wrapped {border: 1px dashed gray;margin: 0 0.4em 0.5em 0.4em;box-sizing: border-box;padding-bottom: 0.4em;background-color: white;}#sk-container-id-1 div.sk-label label {font-family: monospace;font-weight: bold;display: inline-block;line-height: 1.2em;}#sk-container-id-1 div.sk-label-container {text-align: center;}#sk-container-id-1 div.sk-container {/* jupyter's `normalize.less` sets `[hidden] { display: none; }` but bootstrap.min.css set `[hidden] { display: none !important; }` so we also need the `!important` here to be able to override the default hidden behavior on the sphinx rendered scikit-learn.org. See: https://github.com/scikit-learn/scikit-learn/issues/21755 */display: inline-block !important;position: relative;}#sk-container-id-1 div.sk-text-repr-fallback {display: none;}</style><div id=\"sk-container-id-1\" class=\"sk-top-container\"><div class=\"sk-text-repr-fallback\"><pre>DecisionTreeRegressor(max_depth=5, min_samples_split=10, random_state=5)</pre><b>In a Jupyter environment, please rerun this cell to show the HTML representation or trust the notebook. <br />On GitHub, the HTML representation is unable to render, please try loading this page with nbviewer.org.</b></div><div class=\"sk-container\" hidden><div class=\"sk-item\"><div class=\"sk-estimator sk-toggleable\"><input class=\"sk-toggleable__control sk-hidden--visually\" id=\"sk-estimator-id-1\" type=\"checkbox\" checked><label for=\"sk-estimator-id-1\" class=\"sk-toggleable__label sk-toggleable__label-arrow\">DecisionTreeRegressor</label><div class=\"sk-toggleable__content\"><pre>DecisionTreeRegressor(max_depth=5, min_samples_split=10, random_state=5)</pre></div></div></div></div></div>"
      ],
      "text/plain": [
       "DecisionTreeRegressor(max_depth=5, min_samples_split=10, random_state=5)"
      ]
     },
     "execution_count": 15,
     "metadata": {},
     "output_type": "execute_result"
    }
   ],
   "source": [
    "from sklearn.tree import DecisionTreeRegressor\n",
    "treemodel = DecisionTreeRegressor(criterion = 'squared_error',max_depth = 5,min_samples_split = 10,random_state = 5)\n",
    "treemodel.fit(x_train,y_train)"
   ]
  },
  {
   "cell_type": "code",
   "execution_count": 16,
   "id": "59bdeb9e",
   "metadata": {
    "execution": {
     "iopub.execute_input": "2023-10-20T06:51:26.236725Z",
     "iopub.status.busy": "2023-10-20T06:51:26.236061Z",
     "iopub.status.idle": "2023-10-20T06:51:29.051222Z",
     "shell.execute_reply": "2023-10-20T06:51:29.049694Z"
    },
    "papermill": {
     "duration": 2.825633,
     "end_time": "2023-10-20T06:51:29.053517",
     "exception": false,
     "start_time": "2023-10-20T06:51:26.227884",
     "status": "completed"
    },
    "tags": []
   },
   "outputs": [
    {
     "data": {
      "text/plain": [
       "[Text(0.5, 0.9166666666666666, 'x[9] <= 207.5\\nsquared_error = 33026.734\\nsamples = 7293\\nvalue = 191.862'),\n",
       " Text(0.25, 0.75, 'x[9] <= 92.5\\nsquared_error = 7051.074\\nsamples = 5239\\nvalue = 99.855'),\n",
       " Text(0.125, 0.5833333333333334, 'x[9] <= 40.5\\nsquared_error = 1191.411\\nsamples = 3076\\nvalue = 40.033'),\n",
       " Text(0.0625, 0.4166666666666667, 'x[9] <= 17.5\\nsquared_error = 184.891\\nsamples = 1951\\nvalue = 17.427'),\n",
       " Text(0.03125, 0.25, 'x[9] <= 7.5\\nsquared_error = 32.431\\nsamples = 1243\\nvalue = 8.667'),\n",
       " Text(0.015625, 0.08333333333333333, 'squared_error = 9.357\\nsamples = 753\\nvalue = 5.053'),\n",
       " Text(0.046875, 0.08333333333333333, 'squared_error = 16.98\\nsamples = 490\\nvalue = 14.22'),\n",
       " Text(0.09375, 0.25, 'x[9] <= 28.5\\nsquared_error = 81.257\\nsamples = 708\\nvalue = 32.808'),\n",
       " Text(0.078125, 0.08333333333333333, 'squared_error = 31.189\\nsamples = 397\\nvalue = 27.015'),\n",
       " Text(0.109375, 0.08333333333333333, 'squared_error = 47.653\\nsamples = 311\\nvalue = 40.203'),\n",
       " Text(0.1875, 0.4166666666666667, 'x[9] <= 69.5\\nsquared_error = 513.964\\nsamples = 1125\\nvalue = 79.235'),\n",
       " Text(0.15625, 0.25, 'x[9] <= 53.5\\nsquared_error = 184.213\\nsamples = 644\\nvalue = 64.949'),\n",
       " Text(0.140625, 0.08333333333333333, 'squared_error = 88.433\\nsamples = 304\\nvalue = 55.684'),\n",
       " Text(0.171875, 0.08333333333333333, 'squared_error = 124.49\\nsamples = 340\\nvalue = 73.232'),\n",
       " Text(0.21875, 0.25, 'x[8] <= 27.5\\nsquared_error = 316.368\\nsamples = 481\\nvalue = 98.362'),\n",
       " Text(0.203125, 0.08333333333333333, 'squared_error = 102.739\\nsamples = 376\\nvalue = 91.258'),\n",
       " Text(0.234375, 0.08333333333333333, 'squared_error = 253.55\\nsamples = 105\\nvalue = 123.8'),\n",
       " Text(0.375, 0.5833333333333334, 'x[9] <= 147.5\\nsquared_error = 3057.313\\nsamples = 2163\\nvalue = 184.928'),\n",
       " Text(0.3125, 0.4166666666666667, 'x[8] <= 36.5\\nsquared_error = 1069.416\\nsamples = 1146\\nvalue = 148.357'),\n",
       " Text(0.28125, 0.25, 'x[9] <= 122.5\\nsquared_error = 378.739\\nsamples = 787\\nvalue = 133.01'),\n",
       " Text(0.265625, 0.08333333333333333, 'squared_error = 170.55\\nsamples = 494\\nvalue = 121.87'),\n",
       " Text(0.296875, 0.08333333333333333, 'squared_error = 167.776\\nsamples = 293\\nvalue = 151.792'),\n",
       " Text(0.34375, 0.25, 'x[8] <= 76.0\\nsquared_error = 935.348\\nsamples = 359\\nvalue = 182.0'),\n",
       " Text(0.328125, 0.08333333333333333, 'squared_error = 337.166\\nsamples = 298\\nvalue = 172.262'),\n",
       " Text(0.359375, 0.08333333333333333, 'squared_error = 1131.064\\nsamples = 61\\nvalue = 229.574'),\n",
       " Text(0.4375, 0.4166666666666667, 'x[8] <= 67.5\\nsquared_error = 2091.952\\nsamples = 1017\\nvalue = 226.139'),\n",
       " Text(0.40625, 0.25, 'x[8] <= 28.5\\nsquared_error = 633.475\\nsamples = 754\\nvalue = 206.072'),\n",
       " Text(0.390625, 0.08333333333333333, 'squared_error = 391.538\\nsamples = 358\\nvalue = 189.69'),\n",
       " Text(0.421875, 0.08333333333333333, 'squared_error = 390.261\\nsamples = 396\\nvalue = 220.881'),\n",
       " Text(0.46875, 0.25, 'x[8] <= 116.5\\nsquared_error = 1809.058\\nsamples = 263\\nvalue = 283.669'),\n",
       " Text(0.453125, 0.08333333333333333, 'squared_error = 409.036\\nsamples = 200\\nvalue = 264.565'),\n",
       " Text(0.484375, 0.08333333333333333, 'squared_error = 1416.725\\nsamples = 63\\nvalue = 344.317'),\n",
       " Text(0.75, 0.75, 'x[9] <= 453.5\\nsquared_error = 22616.651\\nsamples = 2054\\nvalue = 426.537'),\n",
       " Text(0.625, 0.5833333333333334, 'x[8] <= 147.5\\nsquared_error = 9529.098\\nsamples = 1657\\nvalue = 372.164'),\n",
       " Text(0.5625, 0.4166666666666667, 'x[9] <= 316.5\\nsquared_error = 4870.494\\nsamples = 1378\\nvalue = 342.996'),\n",
       " Text(0.53125, 0.25, 'x[8] <= 65.5\\nsquared_error = 2133.059\\nsamples = 946\\nvalue = 307.741'),\n",
       " Text(0.515625, 0.08333333333333333, 'squared_error = 1224.065\\nsamples = 624\\nvalue = 285.843'),\n",
       " Text(0.546875, 0.08333333333333333, 'squared_error = 1164.506\\nsamples = 322\\nvalue = 350.177'),\n",
       " Text(0.59375, 0.25, 'x[9] <= 393.5\\nsquared_error = 2182.905\\nsamples = 432\\nvalue = 420.199'),\n",
       " Text(0.578125, 0.08333333333333333, 'squared_error = 1489.616\\nsamples = 295\\nvalue = 399.881'),\n",
       " Text(0.609375, 0.08333333333333333, 'squared_error = 872.808\\nsamples = 137\\nvalue = 463.949'),\n",
       " Text(0.6875, 0.4166666666666667, 'x[9] <= 299.5\\nsquared_error = 7582.54\\nsamples = 279\\nvalue = 516.226'),\n",
       " Text(0.65625, 0.25, 'x[8] <= 198.5\\nsquared_error = 2554.906\\nsamples = 128\\nvalue = 448.016'),\n",
       " Text(0.640625, 0.08333333333333333, 'squared_error = 961.502\\nsamples = 85\\nvalue = 422.835'),\n",
       " Text(0.671875, 0.08333333333333333, 'squared_error = 1973.747\\nsamples = 43\\nvalue = 497.791'),\n",
       " Text(0.71875, 0.25, 'x[8] <= 225.5\\nsquared_error = 4557.21\\nsamples = 151\\nvalue = 574.046'),\n",
       " Text(0.703125, 0.08333333333333333, 'squared_error = 1138.852\\nsamples = 80\\nvalue = 524.812'),\n",
       " Text(0.734375, 0.08333333333333333, 'squared_error = 2600.193\\nsamples = 71\\nvalue = 629.521'),\n",
       " Text(0.875, 0.5833333333333334, 'x[9] <= 613.5\\nsquared_error = 13398.436\\nsamples = 397\\nvalue = 653.481'),\n",
       " Text(0.8125, 0.4166666666666667, 'x[9] <= 509.0\\nsquared_error = 3262.441\\nsamples = 233\\nvalue = 572.622'),\n",
       " Text(0.78125, 0.25, 'x[8] <= 148.5\\nsquared_error = 2178.273\\nsamples = 116\\nvalue = 535.948'),\n",
       " Text(0.765625, 0.08333333333333333, 'squared_error = 1064.074\\nsamples = 111\\nvalue = 528.793'),\n",
       " Text(0.796875, 0.08333333333333333, 'squared_error = 542.96\\nsamples = 5\\nvalue = 694.8'),\n",
       " Text(0.84375, 0.25, 'x[8] <= 110.0\\nsquared_error = 1681.76\\nsamples = 117\\nvalue = 608.983'),\n",
       " Text(0.828125, 0.08333333333333333, 'squared_error = 1117.461\\nsamples = 109\\nvalue = 602.486'),\n",
       " Text(0.859375, 0.08333333333333333, 'squared_error = 960.0\\nsamples = 8\\nvalue = 697.5'),\n",
       " Text(0.9375, 0.4166666666666667, 'x[9] <= 718.5\\nsquared_error = 5312.913\\nsamples = 164\\nvalue = 768.36'),\n",
       " Text(0.90625, 0.25, 'x[8] <= 90.0\\nsquared_error = 2399.191\\nsamples = 110\\nvalue = 729.809'),\n",
       " Text(0.890625, 0.08333333333333333, 'squared_error = 994.021\\nsamples = 75\\nvalue = 703.707'),\n",
       " Text(0.921875, 0.08333333333333333, 'squared_error = 821.677\\nsamples = 35\\nvalue = 785.743'),\n",
       " Text(0.96875, 0.25, 'x[8] <= 73.5\\nsquared_error = 2054.099\\nsamples = 54\\nvalue = 846.889'),\n",
       " Text(0.953125, 0.08333333333333333, 'squared_error = 487.239\\nsamples = 17\\nvalue = 802.765'),\n",
       " Text(0.984375, 0.08333333333333333, 'squared_error = 1468.46\\nsamples = 37\\nvalue = 867.162')]"
      ]
     },
     "execution_count": 16,
     "metadata": {},
     "output_type": "execute_result"
    },
    {
     "data": {
      "image/png": "[encoded data removed]",
      "text/plain": [
       "<Figure size 1500x1000 with 1 Axes>"
      ]
     },
     "metadata": {},
     "output_type": "display_data"
    }
   ],
   "source": [
    "from sklearn import tree\n",
    "plt.figure(figsize=(15,10))\n",
    "tree.plot_tree(treemodel,filled = True)"
   ]
  },
  {
   "cell_type": "code",
   "execution_count": 17,
   "id": "738cc788",
   "metadata": {
    "execution": {
     "iopub.execute_input": "2023-10-20T06:51:29.073641Z",
     "iopub.status.busy": "2023-10-20T06:51:29.073166Z",
     "iopub.status.idle": "2023-10-20T06:51:29.081212Z",
     "shell.execute_reply": "2023-10-20T06:51:29.079885Z"
    },
    "papermill": {
     "duration": 0.020528,
     "end_time": "2023-10-20T06:51:29.083444",
     "exception": false,
     "start_time": "2023-10-20T06:51:29.062916",
     "status": "completed"
    },
    "tags": []
   },
   "outputs": [],
   "source": [
    "y_pred = treemodel.predict(x_test)"
   ]
  },
  {
   "cell_type": "code",
   "execution_count": 18,
   "id": "3abfc8c2",
   "metadata": {
    "execution": {
     "iopub.execute_input": "2023-10-20T06:51:29.103416Z",
     "iopub.status.busy": "2023-10-20T06:51:29.102540Z",
     "iopub.status.idle": "2023-10-20T06:51:29.109724Z",
     "shell.execute_reply": "2023-10-20T06:51:29.108542Z"
    },
    "papermill": {
     "duration": 0.019801,
     "end_time": "2023-10-20T06:51:29.111933",
     "exception": false,
     "start_time": "2023-10-20T06:51:29.092132",
     "status": "completed"
    },
    "tags": []
   },
   "outputs": [
    {
     "data": {
      "text/plain": [
       "array([121.87044534,  14.22040816, 189.68994413, ..., 285.84294872,\n",
       "       399.88135593, 350.17701863])"
      ]
     },
     "execution_count": 18,
     "metadata": {},
     "output_type": "execute_result"
    }
   ],
   "source": [
    "y_pred"
   ]
  },
  {
   "cell_type": "code",
   "execution_count": 19,
   "id": "6a674d52",
   "metadata": {
    "execution": {
     "iopub.execute_input": "2023-10-20T06:51:29.131414Z",
     "iopub.status.busy": "2023-10-20T06:51:29.130975Z",
     "iopub.status.idle": "2023-10-20T06:51:29.136972Z",
     "shell.execute_reply": "2023-10-20T06:51:29.135603Z"
    },
    "papermill": {
     "duration": 0.018815,
     "end_time": "2023-10-20T06:51:29.139437",
     "exception": false,
     "start_time": "2023-10-20T06:51:29.120622",
     "status": "completed"
    },
    "tags": []
   },
   "outputs": [],
   "source": [
    "from sklearn.metrics import mean_squared_error\n",
    "mse = mean_squared_error(y_test,y_pred)"
   ]
  },
  {
   "cell_type": "code",
   "execution_count": 20,
   "id": "646ea44b",
   "metadata": {
    "execution": {
     "iopub.execute_input": "2023-10-20T06:51:29.160877Z",
     "iopub.status.busy": "2023-10-20T06:51:29.160190Z",
     "iopub.status.idle": "2023-10-20T06:51:29.166190Z",
     "shell.execute_reply": "2023-10-20T06:51:29.164779Z"
    },
    "papermill": {
     "duration": 0.019938,
     "end_time": "2023-10-20T06:51:29.168730",
     "exception": false,
     "start_time": "2023-10-20T06:51:29.148792",
     "status": "completed"
    },
    "tags": []
   },
   "outputs": [
    {
     "data": {
      "text/plain": [
       "544.7349541236867"
      ]
     },
     "execution_count": 20,
     "metadata": {},
     "output_type": "execute_result"
    }
   ],
   "source": [
    "mse"
   ]
  },
  {
   "cell_type": "code",
   "execution_count": 21,
   "id": "ba2a7f51",
   "metadata": {
    "execution": {
     "iopub.execute_input": "2023-10-20T06:51:29.189019Z",
     "iopub.status.busy": "2023-10-20T06:51:29.188620Z",
     "iopub.status.idle": "2023-10-20T06:51:29.195033Z",
     "shell.execute_reply": "2023-10-20T06:51:29.194126Z"
    },
    "papermill": {
     "duration": 0.018953,
     "end_time": "2023-10-20T06:51:29.196987",
     "exception": false,
     "start_time": "2023-10-20T06:51:29.178034",
     "status": "completed"
    },
    "tags": []
   },
   "outputs": [
    {
     "data": {
      "text/plain": [
       "23.339557710541275"
      ]
     },
     "execution_count": 21,
     "metadata": {},
     "output_type": "execute_result"
    }
   ],
   "source": [
    "np.sqrt(mse)"
   ]
  },
  {
   "cell_type": "code",
   "execution_count": 22,
   "id": "b1cb60f0",
   "metadata": {
    "execution": {
     "iopub.execute_input": "2023-10-20T06:51:29.217030Z",
     "iopub.status.busy": "2023-10-20T06:51:29.216383Z",
     "iopub.status.idle": "2023-10-20T06:51:29.401159Z",
     "shell.execute_reply": "2023-10-20T06:51:29.400001Z"
    },
    "papermill": {
     "duration": 0.197534,
     "end_time": "2023-10-20T06:51:29.403396",
     "exception": false,
     "start_time": "2023-10-20T06:51:29.205862",
     "status": "completed"
    },
    "tags": []
   },
   "outputs": [
    {
     "data": {
      "text/plain": [
       "array([0.98568782, 0.98400483, 0.98104595, 0.98311078, 0.98308433,\n",
       "       0.98369995, 0.98441768, 0.98571707, 0.97917569, 0.97872901])"
      ]
     },
     "execution_count": 22,
     "metadata": {},
     "output_type": "execute_result"
    }
   ],
   "source": [
    "from sklearn.model_selection import cross_val_score\n",
    "cross_val_score(treemodel,x_train,y_train,cv = 10)"
   ]
  }
 ],
 "metadata": {
  "kernelspec": {
   "display_name": "Python 3",
   "language": "python",
   "name": "python3"
  },
  "language_info": {
   "codemirror_mode": {
    "name": "ipython",
    "version": 3
   },
   "file_extension": ".py",
   "mimetype": "text/x-python",
   "name": "python",
   "nbconvert_exporter": "python",
   "pygments_lexer": "ipython3",
   "version": "3.10.12"
  },
  "papermill": {
   "default_parameters": {},
   "duration": 10.601505,
   "end_time": "2023-10-20T06:51:30.337143",
   "environment_variables": {},
   "exception": null,
   "input_path": "__notebook__.ipynb",
   "output_path": "__notebook__.ipynb",
   "parameters": {},
   "start_time": "2023-10-20T06:51:19.735638",
   "version": "2.4.0"
  }
 },
 "nbformat": 4,
 "nbformat_minor": 5
}
