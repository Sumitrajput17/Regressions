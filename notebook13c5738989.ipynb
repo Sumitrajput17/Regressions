{
 "cells": [
  {
   "cell_type": "code",
   "execution_count": 1,
   "id": "08e68532",
   "metadata": {
    "_cell_guid": "b1076dfc-b9ad-4769-8c92-a6c4dae69d19",
    "_uuid": "8f2839f25d086af736a60e9eeb907d3b93b6e0e5",
    "execution": {
     "iopub.execute_input": "2023-10-10T17:04:21.390713Z",
     "iopub.status.busy": "2023-10-10T17:04:21.389898Z",
     "iopub.status.idle": "2023-10-10T17:04:21.835253Z",
     "shell.execute_reply": "2023-10-10T17:04:21.834445Z"
    },
    "papermill": {
     "duration": 0.458355,
     "end_time": "2023-10-10T17:04:21.838997",
     "exception": false,
     "start_time": "2023-10-10T17:04:21.380642",
     "status": "completed"
    },
    "tags": []
   },
   "outputs": [
    {
     "name": "stdout",
     "output_type": "stream",
     "text": [
      "/kaggle/input/a-year-of-pumpkin-prices/chicago_9-24-2016_9-30-2017.csv\n",
      "/kaggle/input/a-year-of-pumpkin-prices/columbia_9-24-2016_9-30-2017.csv\n",
      "/kaggle/input/a-year-of-pumpkin-prices/baltimore_9-24-2016_9-30-2017.csv\n",
      "/kaggle/input/a-year-of-pumpkin-prices/los-angeles_9-24-2016_9-30-2017.csv\n",
      "/kaggle/input/a-year-of-pumpkin-prices/st-louis_9-24-2016_9-30-2017.csv\n",
      "/kaggle/input/a-year-of-pumpkin-prices/dallas_9-24-2016_9-30-2017.csv\n",
      "/kaggle/input/a-year-of-pumpkin-prices/atlanta_9-24-2016_9-30-2017.csv\n",
      "/kaggle/input/a-year-of-pumpkin-prices/miami_9-24-2016_9-30-2017.csv\n",
      "/kaggle/input/a-year-of-pumpkin-prices/san-fransisco_9-24-2016_9-30-2017.csv\n",
      "/kaggle/input/a-year-of-pumpkin-prices/new-york_9-24-2016_9-30-2017.csv\n",
      "/kaggle/input/a-year-of-pumpkin-prices/philadelphia_9-24-2016_9-30-2017.csv\n",
      "/kaggle/input/a-year-of-pumpkin-prices/boston_9-24-2016_9-30-2017.csv\n",
      "/kaggle/input/a-year-of-pumpkin-prices/detroit_9-24-2016_9-30-2017.csv\n"
     ]
    }
   ],
   "source": [
    "# This Python 3 environment comes with many helpful analytics libraries installed\n",
    "# It is defined by the kaggle/python Docker image: https://github.com/kaggle/docker-python\n",
    "# For example, here's several helpful packages to load\n",
    "\n",
    "import numpy as np # linear algebra\n",
    "import pandas as pd # data processing, CSV file I/O (e.g. pd.read_csv)\n",
    "\n",
    "# Input data files are available in the read-only \"../input/\" directory\n",
    "# For example, running this (by clicking run or pressing Shift+Enter) will list all files under the input directory\n",
    "\n",
    "import os\n",
    "for dirname, _, filenames in os.walk('/kaggle/input'):\n",
    "    for filename in filenames:\n",
    "        print(os.path.join(dirname, filename))\n",
    "\n",
    "# You can write up to 20GB to the current directory (/kaggle/working/) that gets preserved as output when you create a version using \"Save & Run All\" \n",
    "# You can also write temporary files to /kaggle/temp/, but they won't be saved outside of the current session"
   ]
  },
  {
   "cell_type": "code",
   "execution_count": 2,
   "id": "c179ce91",
   "metadata": {
    "execution": {
     "iopub.execute_input": "2023-10-10T17:04:21.852856Z",
     "iopub.status.busy": "2023-10-10T17:04:21.852015Z",
     "iopub.status.idle": "2023-10-10T17:04:21.858854Z",
     "shell.execute_reply": "2023-10-10T17:04:21.857565Z"
    },
    "papermill": {
     "duration": 0.017006,
     "end_time": "2023-10-10T17:04:21.861645",
     "exception": false,
     "start_time": "2023-10-10T17:04:21.844639",
     "status": "completed"
    },
    "tags": []
   },
   "outputs": [],
   "source": [
    "import numpy as np\n",
    "import pandas as pd\n",
    "import matplotlib.pyplot as plt\n",
    "%matplotlib inline"
   ]
  },
  {
   "cell_type": "code",
   "execution_count": 3,
   "id": "e5fbc562",
   "metadata": {
    "execution": {
     "iopub.execute_input": "2023-10-10T17:04:21.875646Z",
     "iopub.status.busy": "2023-10-10T17:04:21.875241Z",
     "iopub.status.idle": "2023-10-10T17:04:21.938961Z",
     "shell.execute_reply": "2023-10-10T17:04:21.937547Z"
    },
    "papermill": {
     "duration": 0.073999,
     "end_time": "2023-10-10T17:04:21.941747",
     "exception": false,
     "start_time": "2023-10-10T17:04:21.867748",
     "status": "completed"
    },
    "tags": []
   },
   "outputs": [
    {
     "data": {
      "text/html": [
       "<div>\n",
       "<style scoped>\n",
       "    .dataframe tbody tr th:only-of-type {\n",
       "        vertical-align: middle;\n",
       "    }\n",
       "\n",
       "    .dataframe tbody tr th {\n",
       "        vertical-align: top;\n",
       "    }\n",
       "\n",
       "    .dataframe thead th {\n",
       "        text-align: right;\n",
       "    }\n",
       "</style>\n",
       "<table border=\"1\" class=\"dataframe\">\n",
       "  <thead>\n",
       "    <tr style=\"text-align: right;\">\n",
       "      <th></th>\n",
       "      <th>Commodity Name</th>\n",
       "      <th>City Name</th>\n",
       "      <th>Type</th>\n",
       "      <th>Package</th>\n",
       "      <th>Variety</th>\n",
       "      <th>Sub Variety</th>\n",
       "      <th>Grade</th>\n",
       "      <th>Date</th>\n",
       "      <th>Low Price</th>\n",
       "      <th>High Price</th>\n",
       "      <th>...</th>\n",
       "      <th>Color</th>\n",
       "      <th>Environment</th>\n",
       "      <th>Unit of Sale</th>\n",
       "      <th>Quality</th>\n",
       "      <th>Condition</th>\n",
       "      <th>Appearance</th>\n",
       "      <th>Storage</th>\n",
       "      <th>Crop</th>\n",
       "      <th>Repack</th>\n",
       "      <th>Trans Mode</th>\n",
       "    </tr>\n",
       "  </thead>\n",
       "  <tbody>\n",
       "    <tr>\n",
       "      <th>0</th>\n",
       "      <td>PUMPKINS</td>\n",
       "      <td>ATLANTA</td>\n",
       "      <td>NaN</td>\n",
       "      <td>24 inch bins</td>\n",
       "      <td>HOWDEN TYPE</td>\n",
       "      <td>NaN</td>\n",
       "      <td>NaN</td>\n",
       "      <td>09/24/2016</td>\n",
       "      <td>140.0</td>\n",
       "      <td>154.75</td>\n",
       "      <td>...</td>\n",
       "      <td>NaN</td>\n",
       "      <td>NaN</td>\n",
       "      <td>NaN</td>\n",
       "      <td>NaN</td>\n",
       "      <td>NaN</td>\n",
       "      <td>NaN</td>\n",
       "      <td>NaN</td>\n",
       "      <td>NaN</td>\n",
       "      <td>N</td>\n",
       "      <td>NaN</td>\n",
       "    </tr>\n",
       "    <tr>\n",
       "      <th>1</th>\n",
       "      <td>PUMPKINS</td>\n",
       "      <td>ATLANTA</td>\n",
       "      <td>NaN</td>\n",
       "      <td>24 inch bins</td>\n",
       "      <td>HOWDEN TYPE</td>\n",
       "      <td>NaN</td>\n",
       "      <td>NaN</td>\n",
       "      <td>09/24/2016</td>\n",
       "      <td>145.0</td>\n",
       "      <td>154.75</td>\n",
       "      <td>...</td>\n",
       "      <td>NaN</td>\n",
       "      <td>NaN</td>\n",
       "      <td>NaN</td>\n",
       "      <td>NaN</td>\n",
       "      <td>NaN</td>\n",
       "      <td>NaN</td>\n",
       "      <td>NaN</td>\n",
       "      <td>NaN</td>\n",
       "      <td>N</td>\n",
       "      <td>NaN</td>\n",
       "    </tr>\n",
       "    <tr>\n",
       "      <th>2</th>\n",
       "      <td>PUMPKINS</td>\n",
       "      <td>ATLANTA</td>\n",
       "      <td>NaN</td>\n",
       "      <td>24 inch bins</td>\n",
       "      <td>HOWDEN TYPE</td>\n",
       "      <td>NaN</td>\n",
       "      <td>NaN</td>\n",
       "      <td>09/24/2016</td>\n",
       "      <td>150.0</td>\n",
       "      <td>154.75</td>\n",
       "      <td>...</td>\n",
       "      <td>NaN</td>\n",
       "      <td>NaN</td>\n",
       "      <td>NaN</td>\n",
       "      <td>NaN</td>\n",
       "      <td>NaN</td>\n",
       "      <td>NaN</td>\n",
       "      <td>NaN</td>\n",
       "      <td>NaN</td>\n",
       "      <td>N</td>\n",
       "      <td>NaN</td>\n",
       "    </tr>\n",
       "    <tr>\n",
       "      <th>3</th>\n",
       "      <td>PUMPKINS</td>\n",
       "      <td>ATLANTA</td>\n",
       "      <td>NaN</td>\n",
       "      <td>24 inch bins</td>\n",
       "      <td>HOWDEN TYPE</td>\n",
       "      <td>NaN</td>\n",
       "      <td>NaN</td>\n",
       "      <td>09/24/2016</td>\n",
       "      <td>150.0</td>\n",
       "      <td>150.00</td>\n",
       "      <td>...</td>\n",
       "      <td>NaN</td>\n",
       "      <td>NaN</td>\n",
       "      <td>NaN</td>\n",
       "      <td>NaN</td>\n",
       "      <td>NaN</td>\n",
       "      <td>NaN</td>\n",
       "      <td>NaN</td>\n",
       "      <td>NaN</td>\n",
       "      <td>N</td>\n",
       "      <td>NaN</td>\n",
       "    </tr>\n",
       "    <tr>\n",
       "      <th>4</th>\n",
       "      <td>PUMPKINS</td>\n",
       "      <td>ATLANTA</td>\n",
       "      <td>NaN</td>\n",
       "      <td>24 inch bins</td>\n",
       "      <td>HOWDEN TYPE</td>\n",
       "      <td>NaN</td>\n",
       "      <td>NaN</td>\n",
       "      <td>10/01/2016</td>\n",
       "      <td>140.0</td>\n",
       "      <td>154.75</td>\n",
       "      <td>...</td>\n",
       "      <td>NaN</td>\n",
       "      <td>NaN</td>\n",
       "      <td>NaN</td>\n",
       "      <td>NaN</td>\n",
       "      <td>NaN</td>\n",
       "      <td>NaN</td>\n",
       "      <td>NaN</td>\n",
       "      <td>NaN</td>\n",
       "      <td>N</td>\n",
       "      <td>NaN</td>\n",
       "    </tr>\n",
       "  </tbody>\n",
       "</table>\n",
       "<p>5 rows × 25 columns</p>\n",
       "</div>"
      ],
      "text/plain": [
       "  Commodity Name City Name  Type       Package      Variety Sub Variety  \\\n",
       "0       PUMPKINS   ATLANTA   NaN  24 inch bins  HOWDEN TYPE         NaN   \n",
       "1       PUMPKINS   ATLANTA   NaN  24 inch bins  HOWDEN TYPE         NaN   \n",
       "2       PUMPKINS   ATLANTA   NaN  24 inch bins  HOWDEN TYPE         NaN   \n",
       "3       PUMPKINS   ATLANTA   NaN  24 inch bins  HOWDEN TYPE         NaN   \n",
       "4       PUMPKINS   ATLANTA   NaN  24 inch bins  HOWDEN TYPE         NaN   \n",
       "\n",
       "   Grade        Date  Low Price  High Price  ...  Color  Environment  \\\n",
       "0    NaN  09/24/2016      140.0      154.75  ...    NaN          NaN   \n",
       "1    NaN  09/24/2016      145.0      154.75  ...    NaN          NaN   \n",
       "2    NaN  09/24/2016      150.0      154.75  ...    NaN          NaN   \n",
       "3    NaN  09/24/2016      150.0      150.00  ...    NaN          NaN   \n",
       "4    NaN  10/01/2016      140.0      154.75  ...    NaN          NaN   \n",
       "\n",
       "  Unit of Sale  Quality Condition  Appearance  Storage  Crop  Repack  \\\n",
       "0          NaN      NaN       NaN         NaN      NaN   NaN       N   \n",
       "1          NaN      NaN       NaN         NaN      NaN   NaN       N   \n",
       "2          NaN      NaN       NaN         NaN      NaN   NaN       N   \n",
       "3          NaN      NaN       NaN         NaN      NaN   NaN       N   \n",
       "4          NaN      NaN       NaN         NaN      NaN   NaN       N   \n",
       "\n",
       "   Trans Mode  \n",
       "0         NaN  \n",
       "1         NaN  \n",
       "2         NaN  \n",
       "3         NaN  \n",
       "4         NaN  \n",
       "\n",
       "[5 rows x 25 columns]"
      ]
     },
     "execution_count": 3,
     "metadata": {},
     "output_type": "execute_result"
    }
   ],
   "source": [
    "data = pd.read_csv('/kaggle/input/a-year-of-pumpkin-prices/atlanta_9-24-2016_9-30-2017.csv')\n",
    "data.head()"
   ]
  },
  {
   "cell_type": "code",
   "execution_count": 4,
   "id": "b0b7d75d",
   "metadata": {
    "execution": {
     "iopub.execute_input": "2023-10-10T17:04:21.955979Z",
     "iopub.status.busy": "2023-10-10T17:04:21.955289Z",
     "iopub.status.idle": "2023-10-10T17:04:21.966417Z",
     "shell.execute_reply": "2023-10-10T17:04:21.965266Z"
    },
    "papermill": {
     "duration": 0.021229,
     "end_time": "2023-10-10T17:04:21.968906",
     "exception": false,
     "start_time": "2023-10-10T17:04:21.947677",
     "status": "completed"
    },
    "tags": []
   },
   "outputs": [
    {
     "data": {
      "text/html": [
       "<div>\n",
       "<style scoped>\n",
       "    .dataframe tbody tr th:only-of-type {\n",
       "        vertical-align: middle;\n",
       "    }\n",
       "\n",
       "    .dataframe tbody tr th {\n",
       "        vertical-align: top;\n",
       "    }\n",
       "\n",
       "    .dataframe thead th {\n",
       "        text-align: right;\n",
       "    }\n",
       "</style>\n",
       "<table border=\"1\" class=\"dataframe\">\n",
       "  <thead>\n",
       "    <tr style=\"text-align: right;\">\n",
       "      <th></th>\n",
       "    </tr>\n",
       "  </thead>\n",
       "  <tbody>\n",
       "    <tr>\n",
       "      <th>0</th>\n",
       "    </tr>\n",
       "    <tr>\n",
       "      <th>1</th>\n",
       "    </tr>\n",
       "    <tr>\n",
       "      <th>2</th>\n",
       "    </tr>\n",
       "    <tr>\n",
       "      <th>3</th>\n",
       "    </tr>\n",
       "    <tr>\n",
       "      <th>4</th>\n",
       "    </tr>\n",
       "  </tbody>\n",
       "</table>\n",
       "</div>"
      ],
      "text/plain": [
       "Empty DataFrame\n",
       "Columns: []\n",
       "Index: [0, 1, 2, 3, 4]"
      ]
     },
     "execution_count": 4,
     "metadata": {},
     "output_type": "execute_result"
    }
   ],
   "source": [
    "data = {\n",
    "    'Low Price' : ['140.0','145.0','150.0','150.0','140.0'],\n",
    "    'High Price' : ['154.75','154.75','154.75','150.00','154.75']}\n",
    "df = pd.DataFrame(data)\n",
    "df.drop(['Low Price','High Price'],axis=1)"
   ]
  },
  {
   "cell_type": "code",
   "execution_count": 5,
   "id": "6b5735b1",
   "metadata": {
    "execution": {
     "iopub.execute_input": "2023-10-10T17:04:21.982195Z",
     "iopub.status.busy": "2023-10-10T17:04:21.981804Z",
     "iopub.status.idle": "2023-10-10T17:04:21.988720Z",
     "shell.execute_reply": "2023-10-10T17:04:21.987402Z"
    },
    "papermill": {
     "duration": 0.016171,
     "end_time": "2023-10-10T17:04:21.990862",
     "exception": false,
     "start_time": "2023-10-10T17:04:21.974691",
     "status": "completed"
    },
    "tags": []
   },
   "outputs": [
    {
     "name": "stdout",
     "output_type": "stream",
     "text": [
      "  Low Price High Price\n",
      "0     140.0     154.75\n",
      "1     145.0     154.75\n",
      "2     150.0     154.75\n",
      "3     150.0     150.00\n",
      "4     140.0     154.75\n"
     ]
    }
   ],
   "source": [
    "print(df.head())"
   ]
  },
  {
   "cell_type": "code",
   "execution_count": 6,
   "id": "243ab2f2",
   "metadata": {
    "execution": {
     "iopub.execute_input": "2023-10-10T17:04:22.004925Z",
     "iopub.status.busy": "2023-10-10T17:04:22.003903Z",
     "iopub.status.idle": "2023-10-10T17:04:22.014058Z",
     "shell.execute_reply": "2023-10-10T17:04:22.013000Z"
    },
    "papermill": {
     "duration": 0.019527,
     "end_time": "2023-10-10T17:04:22.016240",
     "exception": false,
     "start_time": "2023-10-10T17:04:21.996713",
     "status": "completed"
    },
    "tags": []
   },
   "outputs": [
    {
     "data": {
      "text/html": [
       "<div>\n",
       "<style scoped>\n",
       "    .dataframe tbody tr th:only-of-type {\n",
       "        vertical-align: middle;\n",
       "    }\n",
       "\n",
       "    .dataframe tbody tr th {\n",
       "        vertical-align: top;\n",
       "    }\n",
       "\n",
       "    .dataframe thead th {\n",
       "        text-align: right;\n",
       "    }\n",
       "</style>\n",
       "<table border=\"1\" class=\"dataframe\">\n",
       "  <thead>\n",
       "    <tr style=\"text-align: right;\">\n",
       "      <th></th>\n",
       "      <th>Low Price</th>\n",
       "      <th>High Price</th>\n",
       "    </tr>\n",
       "  </thead>\n",
       "  <tbody>\n",
       "    <tr>\n",
       "      <th>0</th>\n",
       "      <td>140.0</td>\n",
       "      <td>154.75</td>\n",
       "    </tr>\n",
       "    <tr>\n",
       "      <th>1</th>\n",
       "      <td>145.0</td>\n",
       "      <td>154.75</td>\n",
       "    </tr>\n",
       "    <tr>\n",
       "      <th>2</th>\n",
       "      <td>150.0</td>\n",
       "      <td>154.75</td>\n",
       "    </tr>\n",
       "    <tr>\n",
       "      <th>3</th>\n",
       "      <td>150.0</td>\n",
       "      <td>150.00</td>\n",
       "    </tr>\n",
       "    <tr>\n",
       "      <th>4</th>\n",
       "      <td>140.0</td>\n",
       "      <td>154.75</td>\n",
       "    </tr>\n",
       "  </tbody>\n",
       "</table>\n",
       "</div>"
      ],
      "text/plain": [
       "  Low Price High Price\n",
       "0     140.0     154.75\n",
       "1     145.0     154.75\n",
       "2     150.0     154.75\n",
       "3     150.0     150.00\n",
       "4     140.0     154.75"
      ]
     },
     "execution_count": 6,
     "metadata": {},
     "output_type": "execute_result"
    }
   ],
   "source": [
    "df.head()"
   ]
  },
  {
   "cell_type": "code",
   "execution_count": 7,
   "id": "988ad7d1",
   "metadata": {
    "execution": {
     "iopub.execute_input": "2023-10-10T17:04:22.030031Z",
     "iopub.status.busy": "2023-10-10T17:04:22.029621Z",
     "iopub.status.idle": "2023-10-10T17:04:22.034571Z",
     "shell.execute_reply": "2023-10-10T17:04:22.033430Z"
    },
    "papermill": {
     "duration": 0.014476,
     "end_time": "2023-10-10T17:04:22.036864",
     "exception": false,
     "start_time": "2023-10-10T17:04:22.022388",
     "status": "completed"
    },
    "tags": []
   },
   "outputs": [],
   "source": [
    "#Low_Price = x\n",
    "#High_Price = y\n",
    "Low = df.values[:, :1]\n",
    "High = df.values[:, 1:2]"
   ]
  },
  {
   "cell_type": "code",
   "execution_count": 8,
   "id": "136854a7",
   "metadata": {
    "execution": {
     "iopub.execute_input": "2023-10-10T17:04:22.050745Z",
     "iopub.status.busy": "2023-10-10T17:04:22.050390Z",
     "iopub.status.idle": "2023-10-10T17:04:22.055328Z",
     "shell.execute_reply": "2023-10-10T17:04:22.054222Z"
    },
    "papermill": {
     "duration": 0.014143,
     "end_time": "2023-10-10T17:04:22.057179",
     "exception": false,
     "start_time": "2023-10-10T17:04:22.043036",
     "status": "completed"
    },
    "tags": []
   },
   "outputs": [],
   "source": [
    "low = np.array([146.0,155.0,185.0,179.0,168.0])\n",
    "high = np.array([154.75,164.75,198.75,189.00,175.75])"
   ]
  },
  {
   "cell_type": "code",
   "execution_count": 9,
   "id": "26af661c",
   "metadata": {
    "execution": {
     "iopub.execute_input": "2023-10-10T17:04:22.070891Z",
     "iopub.status.busy": "2023-10-10T17:04:22.070532Z",
     "iopub.status.idle": "2023-10-10T17:04:22.384389Z",
     "shell.execute_reply": "2023-10-10T17:04:22.383399Z"
    },
    "papermill": {
     "duration": 0.3236,
     "end_time": "2023-10-10T17:04:22.386865",
     "exception": false,
     "start_time": "2023-10-10T17:04:22.063265",
     "status": "completed"
    },
    "tags": []
   },
   "outputs": [
    {
     "data": {
      "text/plain": [
       "Text(0, 0.5, 'High_Price')"
      ]
     },
     "execution_count": 9,
     "metadata": {},
     "output_type": "execute_result"
    },
    {
     "data": {
      "image/png": "[encoded data removed]",
      "text/plain": [
       "<Figure size 640x480 with 1 Axes>"
      ]
     },
     "metadata": {},
     "output_type": "display_data"
    }
   ],
   "source": [
    "plt.scatter(low,high,color = 'g')\n",
    "plt.xlabel('Low_price')\n",
    "plt.ylabel('High_Price')"
   ]
  },
  {
   "cell_type": "code",
   "execution_count": 10,
   "id": "8b96cc3c",
   "metadata": {
    "execution": {
     "iopub.execute_input": "2023-10-10T17:04:22.404802Z",
     "iopub.status.busy": "2023-10-10T17:04:22.402918Z",
     "iopub.status.idle": "2023-10-10T17:04:22.410060Z",
     "shell.execute_reply": "2023-10-10T17:04:22.408880Z"
    },
    "papermill": {
     "duration": 0.018409,
     "end_time": "2023-10-10T17:04:22.412276",
     "exception": false,
     "start_time": "2023-10-10T17:04:22.393867",
     "status": "completed"
    },
    "tags": []
   },
   "outputs": [],
   "source": [
    "low = low.reshape(-1,1)"
   ]
  },
  {
   "cell_type": "code",
   "execution_count": 11,
   "id": "06053e71",
   "metadata": {
    "execution": {
     "iopub.execute_input": "2023-10-10T17:04:22.427418Z",
     "iopub.status.busy": "2023-10-10T17:04:22.427043Z",
     "iopub.status.idle": "2023-10-10T17:04:23.892082Z",
     "shell.execute_reply": "2023-10-10T17:04:23.890754Z"
    },
    "papermill": {
     "duration": 1.475785,
     "end_time": "2023-10-10T17:04:23.894621",
     "exception": false,
     "start_time": "2023-10-10T17:04:22.418836",
     "status": "completed"
    },
    "tags": []
   },
   "outputs": [],
   "source": [
    "from sklearn.model_selection import train_test_split\n",
    "low_train,low_test,high_train,high_test = train_test_split(low,high,test_size=0.2,random_state=42)"
   ]
  },
  {
   "cell_type": "code",
   "execution_count": 12,
   "id": "79ec0805",
   "metadata": {
    "execution": {
     "iopub.execute_input": "2023-10-10T17:04:23.909368Z",
     "iopub.status.busy": "2023-10-10T17:04:23.908978Z",
     "iopub.status.idle": "2023-10-10T17:04:24.025173Z",
     "shell.execute_reply": "2023-10-10T17:04:24.023592Z"
    },
    "papermill": {
     "duration": 0.126759,
     "end_time": "2023-10-10T17:04:24.028001",
     "exception": false,
     "start_time": "2023-10-10T17:04:23.901242",
     "status": "completed"
    },
    "tags": []
   },
   "outputs": [],
   "source": [
    "from sklearn.linear_model import LinearRegression\n",
    "lr = LinearRegression()\n"
   ]
  },
  {
   "cell_type": "code",
   "execution_count": 13,
   "id": "2516b92e",
   "metadata": {
    "execution": {
     "iopub.execute_input": "2023-10-10T17:04:24.043091Z",
     "iopub.status.busy": "2023-10-10T17:04:24.042675Z",
     "iopub.status.idle": "2023-10-10T17:04:24.072294Z",
     "shell.execute_reply": "2023-10-10T17:04:24.070874Z"
    },
    "papermill": {
     "duration": 0.040636,
     "end_time": "2023-10-10T17:04:24.075315",
     "exception": false,
     "start_time": "2023-10-10T17:04:24.034679",
     "status": "completed"
    },
    "tags": []
   },
   "outputs": [
    {
     "data": {
      "text/html": [
       "<style>#sk-container-id-1 {color: black;background-color: white;}#sk-container-id-1 pre{padding: 0;}#sk-container-id-1 div.sk-toggleable {background-color: white;}#sk-container-id-1 label.sk-toggleable__label {cursor: pointer;display: block;width: 100%;margin-bottom: 0;padding: 0.3em;box-sizing: border-box;text-align: center;}#sk-container-id-1 label.sk-toggleable__label-arrow:before {content: \"▸\";float: left;margin-right: 0.25em;color: #696969;}#sk-container-id-1 label.sk-toggleable__label-arrow:hover:before {color: black;}#sk-container-id-1 div.sk-estimator:hover label.sk-toggleable__label-arrow:before {color: black;}#sk-container-id-1 div.sk-toggleable__content {max-height: 0;max-width: 0;overflow: hidden;text-align: left;background-color: #f0f8ff;}#sk-container-id-1 div.sk-toggleable__content pre {margin: 0.2em;color: black;border-radius: 0.25em;background-color: #f0f8ff;}#sk-container-id-1 input.sk-toggleable__control:checked~div.sk-toggleable__content {max-height: 200px;max-width: 100%;overflow: auto;}#sk-container-id-1 input.sk-toggleable__control:checked~label.sk-toggleable__label-arrow:before {content: \"▾\";}#sk-container-id-1 div.sk-estimator input.sk-toggleable__control:checked~label.sk-toggleable__label {background-color: #d4ebff;}#sk-container-id-1 div.sk-label input.sk-toggleable__control:checked~label.sk-toggleable__label {background-color: #d4ebff;}#sk-container-id-1 input.sk-hidden--visually {border: 0;clip: rect(1px 1px 1px 1px);clip: rect(1px, 1px, 1px, 1px);height: 1px;margin: -1px;overflow: hidden;padding: 0;position: absolute;width: 1px;}#sk-container-id-1 div.sk-estimator {font-family: monospace;background-color: #f0f8ff;border: 1px dotted black;border-radius: 0.25em;box-sizing: border-box;margin-bottom: 0.5em;}#sk-container-id-1 div.sk-estimator:hover {background-color: #d4ebff;}#sk-container-id-1 div.sk-parallel-item::after {content: \"\";width: 100%;border-bottom: 1px solid gray;flex-grow: 1;}#sk-container-id-1 div.sk-label:hover label.sk-toggleable__label {background-color: #d4ebff;}#sk-container-id-1 div.sk-serial::before {content: \"\";position: absolute;border-left: 1px solid gray;box-sizing: border-box;top: 0;bottom: 0;left: 50%;z-index: 0;}#sk-container-id-1 div.sk-serial {display: flex;flex-direction: column;align-items: center;background-color: white;padding-right: 0.2em;padding-left: 0.2em;position: relative;}#sk-container-id-1 div.sk-item {position: relative;z-index: 1;}#sk-container-id-1 div.sk-parallel {display: flex;align-items: stretch;justify-content: center;background-color: white;position: relative;}#sk-container-id-1 div.sk-item::before, #sk-container-id-1 div.sk-parallel-item::before {content: \"\";position: absolute;border-left: 1px solid gray;box-sizing: border-box;top: 0;bottom: 0;left: 50%;z-index: -1;}#sk-container-id-1 div.sk-parallel-item {display: flex;flex-direction: column;z-index: 1;position: relative;background-color: white;}#sk-container-id-1 div.sk-parallel-item:first-child::after {align-self: flex-end;width: 50%;}#sk-container-id-1 div.sk-parallel-item:last-child::after {align-self: flex-start;width: 50%;}#sk-container-id-1 div.sk-parallel-item:only-child::after {width: 0;}#sk-container-id-1 div.sk-dashed-wrapped {border: 1px dashed gray;margin: 0 0.4em 0.5em 0.4em;box-sizing: border-box;padding-bottom: 0.4em;background-color: white;}#sk-container-id-1 div.sk-label label {font-family: monospace;font-weight: bold;display: inline-block;line-height: 1.2em;}#sk-container-id-1 div.sk-label-container {text-align: center;}#sk-container-id-1 div.sk-container {/* jupyter's `normalize.less` sets `[hidden] { display: none; }` but bootstrap.min.css set `[hidden] { display: none !important; }` so we also need the `!important` here to be able to override the default hidden behavior on the sphinx rendered scikit-learn.org. See: https://github.com/scikit-learn/scikit-learn/issues/21755 */display: inline-block !important;position: relative;}#sk-container-id-1 div.sk-text-repr-fallback {display: none;}</style><div id=\"sk-container-id-1\" class=\"sk-top-container\"><div class=\"sk-text-repr-fallback\"><pre>LinearRegression()</pre><b>In a Jupyter environment, please rerun this cell to show the HTML representation or trust the notebook. <br />On GitHub, the HTML representation is unable to render, please try loading this page with nbviewer.org.</b></div><div class=\"sk-container\" hidden><div class=\"sk-item\"><div class=\"sk-estimator sk-toggleable\"><input class=\"sk-toggleable__control sk-hidden--visually\" id=\"sk-estimator-id-1\" type=\"checkbox\" checked><label for=\"sk-estimator-id-1\" class=\"sk-toggleable__label sk-toggleable__label-arrow\">LinearRegression</label><div class=\"sk-toggleable__content\"><pre>LinearRegression()</pre></div></div></div></div></div>"
      ],
      "text/plain": [
       "LinearRegression()"
      ]
     },
     "execution_count": 13,
     "metadata": {},
     "output_type": "execute_result"
    }
   ],
   "source": [
    "#low = low.reshape(-1,1)\n",
    "lr.fit(low_train,high_train)"
   ]
  },
  {
   "cell_type": "code",
   "execution_count": 14,
   "id": "69e06b8c",
   "metadata": {
    "execution": {
     "iopub.execute_input": "2023-10-10T17:04:24.093572Z",
     "iopub.status.busy": "2023-10-10T17:04:24.093148Z",
     "iopub.status.idle": "2023-10-10T17:04:24.102827Z",
     "shell.execute_reply": "2023-10-10T17:04:24.101310Z"
    },
    "papermill": {
     "duration": 0.021972,
     "end_time": "2023-10-10T17:04:24.104881",
     "exception": false,
     "start_time": "2023-10-10T17:04:24.082909",
     "status": "completed"
    },
    "tags": []
   },
   "outputs": [
    {
     "name": "stdout",
     "output_type": "stream",
     "text": [
      "nan\n"
     ]
    },
    {
     "name": "stderr",
     "output_type": "stream",
     "text": [
      "/opt/conda/lib/python3.10/site-packages/sklearn/metrics/_regression.py:918: UndefinedMetricWarning: R^2 score is not well-defined with less than two samples.\n",
      "  warnings.warn(msg, UndefinedMetricWarning)\n"
     ]
    }
   ],
   "source": [
    "from sklearn.metrics import r2_score\n",
    "score = r2_score(high_test,lr.predict(low_test))\n",
    "print(score)"
   ]
  },
  {
   "cell_type": "code",
   "execution_count": 15,
   "id": "1d27724c",
   "metadata": {
    "execution": {
     "iopub.execute_input": "2023-10-10T17:04:24.121496Z",
     "iopub.status.busy": "2023-10-10T17:04:24.121005Z",
     "iopub.status.idle": "2023-10-10T17:04:24.400255Z",
     "shell.execute_reply": "2023-10-10T17:04:24.399046Z"
    },
    "papermill": {
     "duration": 0.290555,
     "end_time": "2023-10-10T17:04:24.402882",
     "exception": false,
     "start_time": "2023-10-10T17:04:24.112327",
     "status": "completed"
    },
    "tags": []
   },
   "outputs": [
    {
     "data": {
      "text/plain": [
       "Text(0, 0.5, 'Y')"
      ]
     },
     "execution_count": 15,
     "metadata": {},
     "output_type": "execute_result"
    },
    {
     "data": {
      "image/png": "[encoded data removed]",
      "text/plain": [
       "<Figure size 640x480 with 1 Axes>"
      ]
     },
     "metadata": {},
     "output_type": "display_data"
    }
   ],
   "source": [
    "plt.plot(low_train,lr.predict(low_train),color='r')\n",
    "plt.scatter(low_train,high_train)\n",
    "plt.xlabel('X')\n",
    "plt.ylabel('Y')"
   ]
  },
  {
   "cell_type": "code",
   "execution_count": 16,
   "id": "93e4eb5c",
   "metadata": {
    "execution": {
     "iopub.execute_input": "2023-10-10T17:04:24.420128Z",
     "iopub.status.busy": "2023-10-10T17:04:24.419642Z",
     "iopub.status.idle": "2023-10-10T17:04:24.426331Z",
     "shell.execute_reply": "2023-10-10T17:04:24.425111Z"
    },
    "papermill": {
     "duration": 0.018592,
     "end_time": "2023-10-10T17:04:24.428874",
     "exception": false,
     "start_time": "2023-10-10T17:04:24.410282",
     "status": "completed"
    },
    "tags": []
   },
   "outputs": [],
   "source": [
    "from sklearn.preprocessing import PolynomialFeatures\n",
    "poly = PolynomialFeatures(degree = 2,include_bias = True)\n",
    "low_train_poly = poly.fit_transform(low_train)\n",
    "low_test_poly = poly.transform(low_test)"
   ]
  },
  {
   "cell_type": "code",
   "execution_count": 17,
   "id": "339b82ec",
   "metadata": {
    "execution": {
     "iopub.execute_input": "2023-10-10T17:04:24.446108Z",
     "iopub.status.busy": "2023-10-10T17:04:24.445689Z",
     "iopub.status.idle": "2023-10-10T17:04:24.453473Z",
     "shell.execute_reply": "2023-10-10T17:04:24.452345Z"
    },
    "papermill": {
     "duration": 0.019752,
     "end_time": "2023-10-10T17:04:24.455652",
     "exception": false,
     "start_time": "2023-10-10T17:04:24.435900",
     "status": "completed"
    },
    "tags": []
   },
   "outputs": [
    {
     "data": {
      "text/plain": [
       "array([[1.0000e+00, 1.6800e+02, 2.8224e+04],\n",
       "       [1.0000e+00, 1.8500e+02, 3.4225e+04],\n",
       "       [1.0000e+00, 1.4600e+02, 2.1316e+04],\n",
       "       [1.0000e+00, 1.7900e+02, 3.2041e+04]])"
      ]
     },
     "execution_count": 17,
     "metadata": {},
     "output_type": "execute_result"
    }
   ],
   "source": [
    "low_train_poly"
   ]
  },
  {
   "cell_type": "code",
   "execution_count": 18,
   "id": "db34f979",
   "metadata": {
    "execution": {
     "iopub.execute_input": "2023-10-10T17:04:24.472167Z",
     "iopub.status.busy": "2023-10-10T17:04:24.471720Z",
     "iopub.status.idle": "2023-10-10T17:04:24.480071Z",
     "shell.execute_reply": "2023-10-10T17:04:24.478834Z"
    },
    "papermill": {
     "duration": 0.019538,
     "end_time": "2023-10-10T17:04:24.482552",
     "exception": false,
     "start_time": "2023-10-10T17:04:24.463014",
     "status": "completed"
    },
    "tags": []
   },
   "outputs": [
    {
     "data": {
      "text/plain": [
       "array([[1.0000e+00, 1.5500e+02, 2.4025e+04]])"
      ]
     },
     "execution_count": 18,
     "metadata": {},
     "output_type": "execute_result"
    }
   ],
   "source": [
    "low_test_poly"
   ]
  },
  {
   "cell_type": "code",
   "execution_count": 19,
   "id": "aaba863e",
   "metadata": {
    "execution": {
     "iopub.execute_input": "2023-10-10T17:04:24.500251Z",
     "iopub.status.busy": "2023-10-10T17:04:24.499205Z",
     "iopub.status.idle": "2023-10-10T17:04:24.518549Z",
     "shell.execute_reply": "2023-10-10T17:04:24.517090Z"
    },
    "papermill": {
     "duration": 0.031131,
     "end_time": "2023-10-10T17:04:24.520936",
     "exception": false,
     "start_time": "2023-10-10T17:04:24.489805",
     "status": "completed"
    },
    "tags": []
   },
   "outputs": [
    {
     "name": "stdout",
     "output_type": "stream",
     "text": [
      "nan\n"
     ]
    },
    {
     "name": "stderr",
     "output_type": "stream",
     "text": [
      "/opt/conda/lib/python3.10/site-packages/sklearn/metrics/_regression.py:918: UndefinedMetricWarning: R^2 score is not well-defined with less than two samples.\n",
      "  warnings.warn(msg, UndefinedMetricWarning)\n"
     ]
    }
   ],
   "source": [
    "from sklearn.metrics import r2_score\n",
    "regression = LinearRegression()\n",
    "regression.fit(low_train_poly,high_train)\n",
    "high_pred = regression.predict(low_test_poly)\n",
    "score = r2_score(high_test,high_pred)\n",
    "print(score)"
   ]
  },
  {
   "cell_type": "code",
   "execution_count": 20,
   "id": "ffdb4c50",
   "metadata": {
    "execution": {
     "iopub.execute_input": "2023-10-10T17:04:24.539283Z",
     "iopub.status.busy": "2023-10-10T17:04:24.538122Z",
     "iopub.status.idle": "2023-10-10T17:04:24.543643Z",
     "shell.execute_reply": "2023-10-10T17:04:24.542867Z"
    },
    "papermill": {
     "duration": 0.016713,
     "end_time": "2023-10-10T17:04:24.545785",
     "exception": false,
     "start_time": "2023-10-10T17:04:24.529072",
     "status": "completed"
    },
    "tags": []
   },
   "outputs": [
    {
     "name": "stdout",
     "output_type": "stream",
     "text": [
      "[ 0.         -2.39858079  0.01062572]\n"
     ]
    }
   ],
   "source": [
    "print(regression.coef_)"
   ]
  },
  {
   "cell_type": "code",
   "execution_count": 21,
   "id": "7539b27f",
   "metadata": {
    "execution": {
     "iopub.execute_input": "2023-10-10T17:04:24.562986Z",
     "iopub.status.busy": "2023-10-10T17:04:24.562565Z",
     "iopub.status.idle": "2023-10-10T17:04:24.567203Z",
     "shell.execute_reply": "2023-10-10T17:04:24.566374Z"
    },
    "papermill": {
     "duration": 0.015754,
     "end_time": "2023-10-10T17:04:24.569188",
     "exception": false,
     "start_time": "2023-10-10T17:04:24.553434",
     "status": "completed"
    },
    "tags": []
   },
   "outputs": [
    {
     "name": "stdout",
     "output_type": "stream",
     "text": [
      "278.49144514465365\n"
     ]
    }
   ],
   "source": [
    "print(regression.intercept_)"
   ]
  },
  {
   "cell_type": "code",
   "execution_count": 22,
   "id": "db259034",
   "metadata": {
    "execution": {
     "iopub.execute_input": "2023-10-10T17:04:24.587755Z",
     "iopub.status.busy": "2023-10-10T17:04:24.587320Z",
     "iopub.status.idle": "2023-10-10T17:04:24.869597Z",
     "shell.execute_reply": "2023-10-10T17:04:24.868469Z"
    },
    "papermill": {
     "duration": 0.295051,
     "end_time": "2023-10-10T17:04:24.872765",
     "exception": false,
     "start_time": "2023-10-10T17:04:24.577714",
     "status": "completed"
    },
    "tags": []
   },
   "outputs": [
    {
     "data": {
      "text/plain": [
       "<matplotlib.collections.PathCollection at 0x7b3bcefb9630>"
      ]
     },
     "execution_count": 22,
     "metadata": {},
     "output_type": "execute_result"
    },
    {
     "data": {
      "image/png": "[encoded data removed]",
      "text/plain": [
       "<Figure size 640x480 with 1 Axes>"
      ]
     },
     "metadata": {},
     "output_type": "display_data"
    }
   ],
   "source": [
    "plt.scatter(low_train,regression.predict(low_train_poly))\n",
    "plt.scatter(low_train,high_train)"
   ]
  },
  {
   "cell_type": "code",
   "execution_count": 23,
   "id": "9e86d544",
   "metadata": {
    "execution": {
     "iopub.execute_input": "2023-10-10T17:04:24.893175Z",
     "iopub.status.busy": "2023-10-10T17:04:24.892707Z",
     "iopub.status.idle": "2023-10-10T17:04:24.907279Z",
     "shell.execute_reply": "2023-10-10T17:04:24.906486Z"
    },
    "papermill": {
     "duration": 0.027539,
     "end_time": "2023-10-10T17:04:24.909050",
     "exception": false,
     "start_time": "2023-10-10T17:04:24.881511",
     "status": "completed"
    },
    "tags": []
   },
   "outputs": [
    {
     "data": {
      "text/plain": [
       "array([[ 1.00000000e+00, -2.00000000e+00,  4.00000000e+00],\n",
       "       [ 1.00000000e+00, -1.97989950e+00,  3.92000202e+00],\n",
       "       [ 1.00000000e+00, -1.95979899e+00,  3.84081210e+00],\n",
       "       [ 1.00000000e+00, -1.93969849e+00,  3.76243024e+00],\n",
       "       [ 1.00000000e+00, -1.91959799e+00,  3.68485644e+00],\n",
       "       [ 1.00000000e+00, -1.89949749e+00,  3.60809070e+00],\n",
       "       [ 1.00000000e+00, -1.87939698e+00,  3.53213303e+00],\n",
       "       [ 1.00000000e+00, -1.85929648e+00,  3.45698341e+00],\n",
       "       [ 1.00000000e+00, -1.83919598e+00,  3.38264185e+00],\n",
       "       [ 1.00000000e+00, -1.81909548e+00,  3.30910836e+00],\n",
       "       [ 1.00000000e+00, -1.79899497e+00,  3.23638292e+00],\n",
       "       [ 1.00000000e+00, -1.77889447e+00,  3.16446554e+00],\n",
       "       [ 1.00000000e+00, -1.75879397e+00,  3.09335623e+00],\n",
       "       [ 1.00000000e+00, -1.73869347e+00,  3.02305497e+00],\n",
       "       [ 1.00000000e+00, -1.71859296e+00,  2.95356178e+00],\n",
       "       [ 1.00000000e+00, -1.69849246e+00,  2.88487664e+00],\n",
       "       [ 1.00000000e+00, -1.67839196e+00,  2.81699957e+00],\n",
       "       [ 1.00000000e+00, -1.65829146e+00,  2.74993056e+00],\n",
       "       [ 1.00000000e+00, -1.63819095e+00,  2.68366960e+00],\n",
       "       [ 1.00000000e+00, -1.61809045e+00,  2.61821671e+00],\n",
       "       [ 1.00000000e+00, -1.59798995e+00,  2.55357188e+00],\n",
       "       [ 1.00000000e+00, -1.57788945e+00,  2.48973511e+00],\n",
       "       [ 1.00000000e+00, -1.55778894e+00,  2.42670640e+00],\n",
       "       [ 1.00000000e+00, -1.53768844e+00,  2.36448575e+00],\n",
       "       [ 1.00000000e+00, -1.51758794e+00,  2.30307315e+00],\n",
       "       [ 1.00000000e+00, -1.49748744e+00,  2.24246862e+00],\n",
       "       [ 1.00000000e+00, -1.47738693e+00,  2.18267215e+00],\n",
       "       [ 1.00000000e+00, -1.45728643e+00,  2.12368375e+00],\n",
       "       [ 1.00000000e+00, -1.43718593e+00,  2.06550340e+00],\n",
       "       [ 1.00000000e+00, -1.41708543e+00,  2.00813111e+00],\n",
       "       [ 1.00000000e+00, -1.39698492e+00,  1.95156688e+00],\n",
       "       [ 1.00000000e+00, -1.37688442e+00,  1.89581071e+00],\n",
       "       [ 1.00000000e+00, -1.35678392e+00,  1.84086260e+00],\n",
       "       [ 1.00000000e+00, -1.33668342e+00,  1.78672256e+00],\n",
       "       [ 1.00000000e+00, -1.31658291e+00,  1.73339057e+00],\n",
       "       [ 1.00000000e+00, -1.29648241e+00,  1.68086664e+00],\n",
       "       [ 1.00000000e+00, -1.27638191e+00,  1.62915078e+00],\n",
       "       [ 1.00000000e+00, -1.25628141e+00,  1.57824297e+00],\n",
       "       [ 1.00000000e+00, -1.23618090e+00,  1.52814323e+00],\n",
       "       [ 1.00000000e+00, -1.21608040e+00,  1.47885154e+00],\n",
       "       [ 1.00000000e+00, -1.19597990e+00,  1.43036792e+00],\n",
       "       [ 1.00000000e+00, -1.17587940e+00,  1.38269236e+00],\n",
       "       [ 1.00000000e+00, -1.15577889e+00,  1.33582485e+00],\n",
       "       [ 1.00000000e+00, -1.13567839e+00,  1.28976541e+00],\n",
       "       [ 1.00000000e+00, -1.11557789e+00,  1.24451403e+00],\n",
       "       [ 1.00000000e+00, -1.09547739e+00,  1.20007071e+00],\n",
       "       [ 1.00000000e+00, -1.07537688e+00,  1.15643544e+00],\n",
       "       [ 1.00000000e+00, -1.05527638e+00,  1.11360824e+00],\n",
       "       [ 1.00000000e+00, -1.03517588e+00,  1.07158910e+00],\n",
       "       [ 1.00000000e+00, -1.01507538e+00,  1.03037802e+00],\n",
       "       [ 1.00000000e+00, -9.94974874e-01,  9.89975001e-01],\n",
       "       [ 1.00000000e+00, -9.74874372e-01,  9.50380041e-01],\n",
       "       [ 1.00000000e+00, -9.54773869e-01,  9.11593142e-01],\n",
       "       [ 1.00000000e+00, -9.34673367e-01,  8.73614303e-01],\n",
       "       [ 1.00000000e+00, -9.14572864e-01,  8.36443524e-01],\n",
       "       [ 1.00000000e+00, -8.94472362e-01,  8.00080806e-01],\n",
       "       [ 1.00000000e+00, -8.74371859e-01,  7.64526148e-01],\n",
       "       [ 1.00000000e+00, -8.54271357e-01,  7.29779551e-01],\n",
       "       [ 1.00000000e+00, -8.34170854e-01,  6.95841014e-01],\n",
       "       [ 1.00000000e+00, -8.14070352e-01,  6.62710538e-01],\n",
       "       [ 1.00000000e+00, -7.93969849e-01,  6.30388122e-01],\n",
       "       [ 1.00000000e+00, -7.73869347e-01,  5.98873766e-01],\n",
       "       [ 1.00000000e+00, -7.53768844e-01,  5.68167471e-01],\n",
       "       [ 1.00000000e+00, -7.33668342e-01,  5.38269236e-01],\n",
       "       [ 1.00000000e+00, -7.13567839e-01,  5.09179061e-01],\n",
       "       [ 1.00000000e+00, -6.93467337e-01,  4.80896947e-01],\n",
       "       [ 1.00000000e+00, -6.73366834e-01,  4.53422893e-01],\n",
       "       [ 1.00000000e+00, -6.53266332e-01,  4.26756900e-01],\n",
       "       [ 1.00000000e+00, -6.33165829e-01,  4.00898967e-01],\n",
       "       [ 1.00000000e+00, -6.13065327e-01,  3.75849095e-01],\n",
       "       [ 1.00000000e+00, -5.92964824e-01,  3.51607283e-01],\n",
       "       [ 1.00000000e+00, -5.72864322e-01,  3.28173531e-01],\n",
       "       [ 1.00000000e+00, -5.52763819e-01,  3.05547840e-01],\n",
       "       [ 1.00000000e+00, -5.32663317e-01,  2.83730209e-01],\n",
       "       [ 1.00000000e+00, -5.12562814e-01,  2.62720638e-01],\n",
       "       [ 1.00000000e+00, -4.92462312e-01,  2.42519128e-01],\n",
       "       [ 1.00000000e+00, -4.72361809e-01,  2.23125679e-01],\n",
       "       [ 1.00000000e+00, -4.52261307e-01,  2.04540289e-01],\n",
       "       [ 1.00000000e+00, -4.32160804e-01,  1.86762961e-01],\n",
       "       [ 1.00000000e+00, -4.12060302e-01,  1.69793692e-01],\n",
       "       [ 1.00000000e+00, -3.91959799e-01,  1.53632484e-01],\n",
       "       [ 1.00000000e+00, -3.71859296e-01,  1.38279336e-01],\n",
       "       [ 1.00000000e+00, -3.51758794e-01,  1.23734249e-01],\n",
       "       [ 1.00000000e+00, -3.31658291e-01,  1.09997222e-01],\n",
       "       [ 1.00000000e+00, -3.11557789e-01,  9.70682559e-02],\n",
       "       [ 1.00000000e+00, -2.91457286e-01,  8.49473498e-02],\n",
       "       [ 1.00000000e+00, -2.71356784e-01,  7.36345042e-02],\n",
       "       [ 1.00000000e+00, -2.51256281e-01,  6.31297189e-02],\n",
       "       [ 1.00000000e+00, -2.31155779e-01,  5.34329941e-02],\n",
       "       [ 1.00000000e+00, -2.11055276e-01,  4.45443297e-02],\n",
       "       [ 1.00000000e+00, -1.90954774e-01,  3.64637257e-02],\n",
       "       [ 1.00000000e+00, -1.70854271e-01,  2.91911820e-02],\n",
       "       [ 1.00000000e+00, -1.50753769e-01,  2.27266988e-02],\n",
       "       [ 1.00000000e+00, -1.30653266e-01,  1.70702760e-02],\n",
       "       [ 1.00000000e+00, -1.10552764e-01,  1.22219136e-02],\n",
       "       [ 1.00000000e+00, -9.04522613e-02,  8.18161158e-03],\n",
       "       [ 1.00000000e+00, -7.03517588e-02,  4.94936997e-03],\n",
       "       [ 1.00000000e+00, -5.02512563e-02,  2.52518876e-03],\n",
       "       [ 1.00000000e+00, -3.01507538e-02,  9.09067953e-04],\n",
       "       [ 1.00000000e+00, -1.00502513e-02,  1.01007550e-04],\n",
       "       [ 1.00000000e+00,  1.00502513e-02,  1.01007550e-04],\n",
       "       [ 1.00000000e+00,  3.01507538e-02,  9.09067953e-04],\n",
       "       [ 1.00000000e+00,  5.02512563e-02,  2.52518876e-03],\n",
       "       [ 1.00000000e+00,  7.03517588e-02,  4.94936997e-03],\n",
       "       [ 1.00000000e+00,  9.04522613e-02,  8.18161158e-03],\n",
       "       [ 1.00000000e+00,  1.10552764e-01,  1.22219136e-02],\n",
       "       [ 1.00000000e+00,  1.30653266e-01,  1.70702760e-02],\n",
       "       [ 1.00000000e+00,  1.50753769e-01,  2.27266988e-02],\n",
       "       [ 1.00000000e+00,  1.70854271e-01,  2.91911820e-02],\n",
       "       [ 1.00000000e+00,  1.90954774e-01,  3.64637257e-02],\n",
       "       [ 1.00000000e+00,  2.11055276e-01,  4.45443297e-02],\n",
       "       [ 1.00000000e+00,  2.31155779e-01,  5.34329941e-02],\n",
       "       [ 1.00000000e+00,  2.51256281e-01,  6.31297189e-02],\n",
       "       [ 1.00000000e+00,  2.71356784e-01,  7.36345042e-02],\n",
       "       [ 1.00000000e+00,  2.91457286e-01,  8.49473498e-02],\n",
       "       [ 1.00000000e+00,  3.11557789e-01,  9.70682559e-02],\n",
       "       [ 1.00000000e+00,  3.31658291e-01,  1.09997222e-01],\n",
       "       [ 1.00000000e+00,  3.51758794e-01,  1.23734249e-01],\n",
       "       [ 1.00000000e+00,  3.71859296e-01,  1.38279336e-01],\n",
       "       [ 1.00000000e+00,  3.91959799e-01,  1.53632484e-01],\n",
       "       [ 1.00000000e+00,  4.12060302e-01,  1.69793692e-01],\n",
       "       [ 1.00000000e+00,  4.32160804e-01,  1.86762961e-01],\n",
       "       [ 1.00000000e+00,  4.52261307e-01,  2.04540289e-01],\n",
       "       [ 1.00000000e+00,  4.72361809e-01,  2.23125679e-01],\n",
       "       [ 1.00000000e+00,  4.92462312e-01,  2.42519128e-01],\n",
       "       [ 1.00000000e+00,  5.12562814e-01,  2.62720638e-01],\n",
       "       [ 1.00000000e+00,  5.32663317e-01,  2.83730209e-01],\n",
       "       [ 1.00000000e+00,  5.52763819e-01,  3.05547840e-01],\n",
       "       [ 1.00000000e+00,  5.72864322e-01,  3.28173531e-01],\n",
       "       [ 1.00000000e+00,  5.92964824e-01,  3.51607283e-01],\n",
       "       [ 1.00000000e+00,  6.13065327e-01,  3.75849095e-01],\n",
       "       [ 1.00000000e+00,  6.33165829e-01,  4.00898967e-01],\n",
       "       [ 1.00000000e+00,  6.53266332e-01,  4.26756900e-01],\n",
       "       [ 1.00000000e+00,  6.73366834e-01,  4.53422893e-01],\n",
       "       [ 1.00000000e+00,  6.93467337e-01,  4.80896947e-01],\n",
       "       [ 1.00000000e+00,  7.13567839e-01,  5.09179061e-01],\n",
       "       [ 1.00000000e+00,  7.33668342e-01,  5.38269236e-01],\n",
       "       [ 1.00000000e+00,  7.53768844e-01,  5.68167471e-01],\n",
       "       [ 1.00000000e+00,  7.73869347e-01,  5.98873766e-01],\n",
       "       [ 1.00000000e+00,  7.93969849e-01,  6.30388122e-01],\n",
       "       [ 1.00000000e+00,  8.14070352e-01,  6.62710538e-01],\n",
       "       [ 1.00000000e+00,  8.34170854e-01,  6.95841014e-01],\n",
       "       [ 1.00000000e+00,  8.54271357e-01,  7.29779551e-01],\n",
       "       [ 1.00000000e+00,  8.74371859e-01,  7.64526148e-01],\n",
       "       [ 1.00000000e+00,  8.94472362e-01,  8.00080806e-01],\n",
       "       [ 1.00000000e+00,  9.14572864e-01,  8.36443524e-01],\n",
       "       [ 1.00000000e+00,  9.34673367e-01,  8.73614303e-01],\n",
       "       [ 1.00000000e+00,  9.54773869e-01,  9.11593142e-01],\n",
       "       [ 1.00000000e+00,  9.74874372e-01,  9.50380041e-01],\n",
       "       [ 1.00000000e+00,  9.94974874e-01,  9.89975001e-01],\n",
       "       [ 1.00000000e+00,  1.01507538e+00,  1.03037802e+00],\n",
       "       [ 1.00000000e+00,  1.03517588e+00,  1.07158910e+00],\n",
       "       [ 1.00000000e+00,  1.05527638e+00,  1.11360824e+00],\n",
       "       [ 1.00000000e+00,  1.07537688e+00,  1.15643544e+00],\n",
       "       [ 1.00000000e+00,  1.09547739e+00,  1.20007071e+00],\n",
       "       [ 1.00000000e+00,  1.11557789e+00,  1.24451403e+00],\n",
       "       [ 1.00000000e+00,  1.13567839e+00,  1.28976541e+00],\n",
       "       [ 1.00000000e+00,  1.15577889e+00,  1.33582485e+00],\n",
       "       [ 1.00000000e+00,  1.17587940e+00,  1.38269236e+00],\n",
       "       [ 1.00000000e+00,  1.19597990e+00,  1.43036792e+00],\n",
       "       [ 1.00000000e+00,  1.21608040e+00,  1.47885154e+00],\n",
       "       [ 1.00000000e+00,  1.23618090e+00,  1.52814323e+00],\n",
       "       [ 1.00000000e+00,  1.25628141e+00,  1.57824297e+00],\n",
       "       [ 1.00000000e+00,  1.27638191e+00,  1.62915078e+00],\n",
       "       [ 1.00000000e+00,  1.29648241e+00,  1.68086664e+00],\n",
       "       [ 1.00000000e+00,  1.31658291e+00,  1.73339057e+00],\n",
       "       [ 1.00000000e+00,  1.33668342e+00,  1.78672256e+00],\n",
       "       [ 1.00000000e+00,  1.35678392e+00,  1.84086260e+00],\n",
       "       [ 1.00000000e+00,  1.37688442e+00,  1.89581071e+00],\n",
       "       [ 1.00000000e+00,  1.39698492e+00,  1.95156688e+00],\n",
       "       [ 1.00000000e+00,  1.41708543e+00,  2.00813111e+00],\n",
       "       [ 1.00000000e+00,  1.43718593e+00,  2.06550340e+00],\n",
       "       [ 1.00000000e+00,  1.45728643e+00,  2.12368375e+00],\n",
       "       [ 1.00000000e+00,  1.47738693e+00,  2.18267215e+00],\n",
       "       [ 1.00000000e+00,  1.49748744e+00,  2.24246862e+00],\n",
       "       [ 1.00000000e+00,  1.51758794e+00,  2.30307315e+00],\n",
       "       [ 1.00000000e+00,  1.53768844e+00,  2.36448575e+00],\n",
       "       [ 1.00000000e+00,  1.55778894e+00,  2.42670640e+00],\n",
       "       [ 1.00000000e+00,  1.57788945e+00,  2.48973511e+00],\n",
       "       [ 1.00000000e+00,  1.59798995e+00,  2.55357188e+00],\n",
       "       [ 1.00000000e+00,  1.61809045e+00,  2.61821671e+00],\n",
       "       [ 1.00000000e+00,  1.63819095e+00,  2.68366960e+00],\n",
       "       [ 1.00000000e+00,  1.65829146e+00,  2.74993056e+00],\n",
       "       [ 1.00000000e+00,  1.67839196e+00,  2.81699957e+00],\n",
       "       [ 1.00000000e+00,  1.69849246e+00,  2.88487664e+00],\n",
       "       [ 1.00000000e+00,  1.71859296e+00,  2.95356178e+00],\n",
       "       [ 1.00000000e+00,  1.73869347e+00,  3.02305497e+00],\n",
       "       [ 1.00000000e+00,  1.75879397e+00,  3.09335623e+00],\n",
       "       [ 1.00000000e+00,  1.77889447e+00,  3.16446554e+00],\n",
       "       [ 1.00000000e+00,  1.79899497e+00,  3.23638292e+00],\n",
       "       [ 1.00000000e+00,  1.81909548e+00,  3.30910836e+00],\n",
       "       [ 1.00000000e+00,  1.83919598e+00,  3.38264185e+00],\n",
       "       [ 1.00000000e+00,  1.85929648e+00,  3.45698341e+00],\n",
       "       [ 1.00000000e+00,  1.87939698e+00,  3.53213303e+00],\n",
       "       [ 1.00000000e+00,  1.89949749e+00,  3.60809070e+00],\n",
       "       [ 1.00000000e+00,  1.91959799e+00,  3.68485644e+00],\n",
       "       [ 1.00000000e+00,  1.93969849e+00,  3.76243024e+00],\n",
       "       [ 1.00000000e+00,  1.95979899e+00,  3.84081210e+00],\n",
       "       [ 1.00000000e+00,  1.97989950e+00,  3.92000202e+00],\n",
       "       [ 1.00000000e+00,  2.00000000e+00,  4.00000000e+00]])"
      ]
     },
     "execution_count": 23,
     "metadata": {},
     "output_type": "execute_result"
    }
   ],
   "source": [
    "#new data\n",
    "low_new = np.linspace(-2,2,200).reshape(200,1)\n",
    "low_new_poly = poly.transform(low_new)\n",
    "low_new_poly"
   ]
  },
  {
   "cell_type": "code",
   "execution_count": 24,
   "id": "784eeb18",
   "metadata": {
    "execution": {
     "iopub.execute_input": "2023-10-10T17:04:24.928837Z",
     "iopub.status.busy": "2023-10-10T17:04:24.928367Z",
     "iopub.status.idle": "2023-10-10T17:04:25.140370Z",
     "shell.execute_reply": "2023-10-10T17:04:25.138832Z"
    },
    "papermill": {
     "duration": 0.22611,
     "end_time": "2023-10-10T17:04:25.143741",
     "exception": false,
     "start_time": "2023-10-10T17:04:24.917631",
     "status": "completed"
    },
    "tags": []
   },
   "outputs": [
    {
     "data": {
      "image/png": "[encoded data removed]",
      "text/plain": [
       "<Figure size 640x480 with 1 Axes>"
      ]
     },
     "metadata": {},
     "output_type": "display_data"
    }
   ],
   "source": [
    "high_new = regression.predict(low_new_poly)\n",
    "plt.plot(low_new,high_new,\"r-\",linewidth=4,label=(\"New Predictions\"))\n",
    "plt.plot(low_train,high_train,\"b.\",label='Training Points')\n",
    "plt.plot(low_test,high_test,\"g.\",label ='Testing Points')\n",
    "plt.xlabel(\"Low_Price\")\n",
    "plt.ylabel(\"High_Price\")\n",
    "plt.legend()\n",
    "plt.show()"
   ]
  }
 ],
 "metadata": {
  "kernelspec": {
   "display_name": "Python 3",
   "language": "python",
   "name": "python3"
  },
  "language_info": {
   "codemirror_mode": {
    "name": "ipython",
    "version": 3
   },
   "file_extension": ".py",
   "mimetype": "text/x-python",
   "name": "python",
   "nbconvert_exporter": "python",
   "pygments_lexer": "ipython3",
   "version": "3.10.12"
  },
  "papermill": {
   "default_parameters": {},
   "duration": 7.983739,
   "end_time": "2023-10-10T17:04:25.875356",
   "environment_variables": {},
   "exception": null,
   "input_path": "__notebook__.ipynb",
   "output_path": "__notebook__.ipynb",
   "parameters": {},
   "start_time": "2023-10-10T17:04:17.891617",
   "version": "2.4.0"
  }
 },
 "nbformat": 4,
 "nbformat_minor": 5
}
