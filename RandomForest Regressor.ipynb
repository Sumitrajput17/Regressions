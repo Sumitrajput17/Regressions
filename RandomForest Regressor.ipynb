{
 "cells": [
  {
   "cell_type": "code",
   "execution_count": 1,
   "id": "1f26d6a4",
   "metadata": {
    "_cell_guid": "b1076dfc-b9ad-4769-8c92-a6c4dae69d19",
    "_uuid": "8f2839f25d086af736a60e9eeb907d3b93b6e0e5",
    "execution": {
     "iopub.execute_input": "2023-10-20T16:26:17.158226Z",
     "iopub.status.busy": "2023-10-20T16:26:17.157587Z",
     "iopub.status.idle": "2023-10-20T16:26:17.637301Z",
     "shell.execute_reply": "2023-10-20T16:26:17.635413Z"
    },
    "papermill": {
     "duration": 0.491872,
     "end_time": "2023-10-20T16:26:17.640901",
     "exception": false,
     "start_time": "2023-10-20T16:26:17.149029",
     "status": "completed"
    },
    "tags": []
   },
   "outputs": [
    {
     "name": "stdout",
     "output_type": "stream",
     "text": [
      "/kaggle/input/corona-virus-report/covid_19_clean_complete.csv\n",
      "/kaggle/input/corona-virus-report/country_wise_latest.csv\n",
      "/kaggle/input/corona-virus-report/day_wise.csv\n",
      "/kaggle/input/corona-virus-report/usa_county_wise.csv\n",
      "/kaggle/input/corona-virus-report/worldometer_data.csv\n",
      "/kaggle/input/corona-virus-report/full_grouped.csv\n"
     ]
    }
   ],
   "source": [
    "# This Python 3 environment comes with many helpful analytics libraries installed\n",
    "# It is defined by the kaggle/python Docker image: https://github.com/kaggle/docker-python\n",
    "# For example, here's several helpful packages to load\n",
    "\n",
    "import numpy as np # linear algebra\n",
    "import pandas as pd # data processing, CSV file I/O (e.g. pd.read_csv)\n",
    "\n",
    "# Input data files are available in the read-only \"../input/\" directory\n",
    "# For example, running this (by clicking run or pressing Shift+Enter) will list all files under the input directory\n",
    "\n",
    "import os\n",
    "for dirname, _, filenames in os.walk('/kaggle/input'):\n",
    "    for filename in filenames:\n",
    "        print(os.path.join(dirname, filename))\n",
    "\n",
    "# You can write up to 20GB to the current directory (/kaggle/working/) that gets preserved as output when you create a version using \"Save & Run All\" \n",
    "# You can also write temporary files to /kaggle/temp/, but they won't be saved outside of the current session"
   ]
  },
  {
   "cell_type": "code",
   "execution_count": 2,
   "id": "870cd73d",
   "metadata": {
    "execution": {
     "iopub.execute_input": "2023-10-20T16:26:17.653819Z",
     "iopub.status.busy": "2023-10-20T16:26:17.653102Z",
     "iopub.status.idle": "2023-10-20T16:26:19.675345Z",
     "shell.execute_reply": "2023-10-20T16:26:19.673898Z"
    },
    "papermill": {
     "duration": 2.032212,
     "end_time": "2023-10-20T16:26:19.678254",
     "exception": false,
     "start_time": "2023-10-20T16:26:17.646042",
     "status": "completed"
    },
    "tags": []
   },
   "outputs": [],
   "source": [
    "import pandas as pd\n",
    "import numpy as np\n",
    "import seaborn as sns\n",
    "import matplotlib.pyplot as plt\n",
    "%matplotlib inline"
   ]
  },
  {
   "cell_type": "code",
   "execution_count": 3,
   "id": "0f6ebe9a",
   "metadata": {
    "execution": {
     "iopub.execute_input": "2023-10-20T16:26:19.689403Z",
     "iopub.status.busy": "2023-10-20T16:26:19.689061Z",
     "iopub.status.idle": "2023-10-20T16:26:19.714575Z",
     "shell.execute_reply": "2023-10-20T16:26:19.713228Z"
    },
    "papermill": {
     "duration": 0.034349,
     "end_time": "2023-10-20T16:26:19.717523",
     "exception": false,
     "start_time": "2023-10-20T16:26:19.683174",
     "status": "completed"
    },
    "tags": []
   },
   "outputs": [],
   "source": [
    "df = pd.read_csv('/kaggle/input/corona-virus-report/day_wise.csv')"
   ]
  },
  {
   "cell_type": "code",
   "execution_count": 4,
   "id": "87f8954f",
   "metadata": {
    "execution": {
     "iopub.execute_input": "2023-10-20T16:26:19.730222Z",
     "iopub.status.busy": "2023-10-20T16:26:19.729748Z",
     "iopub.status.idle": "2023-10-20T16:26:19.735729Z",
     "shell.execute_reply": "2023-10-20T16:26:19.734745Z"
    },
    "papermill": {
     "duration": 0.015093,
     "end_time": "2023-10-20T16:26:19.738108",
     "exception": false,
     "start_time": "2023-10-20T16:26:19.723015",
     "status": "completed"
    },
    "tags": []
   },
   "outputs": [
    {
     "name": "stdout",
     "output_type": "stream",
     "text": [
      "Index(['Date', 'Confirmed', 'Deaths', 'Recovered', 'Active', 'New cases',\n",
      "       'New deaths', 'New recovered', 'Deaths / 100 Cases',\n",
      "       'Recovered / 100 Cases', 'Deaths / 100 Recovered', 'No. of countries'],\n",
      "      dtype='object')\n"
     ]
    }
   ],
   "source": [
    "print(df.columns)"
   ]
  },
  {
   "cell_type": "code",
   "execution_count": 5,
   "id": "6a9ac3e8",
   "metadata": {
    "execution": {
     "iopub.execute_input": "2023-10-20T16:26:19.751282Z",
     "iopub.status.busy": "2023-10-20T16:26:19.749977Z",
     "iopub.status.idle": "2023-10-20T16:26:19.757574Z",
     "shell.execute_reply": "2023-10-20T16:26:19.756776Z"
    },
    "papermill": {
     "duration": 0.0163,
     "end_time": "2023-10-20T16:26:19.759702",
     "exception": false,
     "start_time": "2023-10-20T16:26:19.743402",
     "status": "completed"
    },
    "tags": []
   },
   "outputs": [
    {
     "data": {
      "text/plain": [
       "(188, 12)"
      ]
     },
     "execution_count": 5,
     "metadata": {},
     "output_type": "execute_result"
    }
   ],
   "source": [
    "df.shape"
   ]
  },
  {
   "cell_type": "code",
   "execution_count": 6,
   "id": "cd97ed87",
   "metadata": {
    "execution": {
     "iopub.execute_input": "2023-10-20T16:26:19.771995Z",
     "iopub.status.busy": "2023-10-20T16:26:19.770662Z",
     "iopub.status.idle": "2023-10-20T16:26:19.800035Z",
     "shell.execute_reply": "2023-10-20T16:26:19.798507Z"
    },
    "papermill": {
     "duration": 0.038244,
     "end_time": "2023-10-20T16:26:19.802739",
     "exception": false,
     "start_time": "2023-10-20T16:26:19.764495",
     "status": "completed"
    },
    "tags": []
   },
   "outputs": [
    {
     "data": {
      "text/html": [
       "<div>\n",
       "<style scoped>\n",
       "    .dataframe tbody tr th:only-of-type {\n",
       "        vertical-align: middle;\n",
       "    }\n",
       "\n",
       "    .dataframe tbody tr th {\n",
       "        vertical-align: top;\n",
       "    }\n",
       "\n",
       "    .dataframe thead th {\n",
       "        text-align: right;\n",
       "    }\n",
       "</style>\n",
       "<table border=\"1\" class=\"dataframe\">\n",
       "  <thead>\n",
       "    <tr style=\"text-align: right;\">\n",
       "      <th></th>\n",
       "      <th>Date</th>\n",
       "      <th>Confirmed</th>\n",
       "      <th>Deaths</th>\n",
       "      <th>Recovered</th>\n",
       "      <th>Active</th>\n",
       "      <th>New cases</th>\n",
       "      <th>New deaths</th>\n",
       "      <th>New recovered</th>\n",
       "      <th>Deaths / 100 Cases</th>\n",
       "      <th>Recovered / 100 Cases</th>\n",
       "      <th>Deaths / 100 Recovered</th>\n",
       "      <th>No. of countries</th>\n",
       "    </tr>\n",
       "  </thead>\n",
       "  <tbody>\n",
       "    <tr>\n",
       "      <th>0</th>\n",
       "      <td>2020-01-22</td>\n",
       "      <td>555</td>\n",
       "      <td>17</td>\n",
       "      <td>28</td>\n",
       "      <td>510</td>\n",
       "      <td>0</td>\n",
       "      <td>0</td>\n",
       "      <td>0</td>\n",
       "      <td>3.06</td>\n",
       "      <td>5.05</td>\n",
       "      <td>60.71</td>\n",
       "      <td>6</td>\n",
       "    </tr>\n",
       "    <tr>\n",
       "      <th>1</th>\n",
       "      <td>2020-01-23</td>\n",
       "      <td>654</td>\n",
       "      <td>18</td>\n",
       "      <td>30</td>\n",
       "      <td>606</td>\n",
       "      <td>99</td>\n",
       "      <td>1</td>\n",
       "      <td>2</td>\n",
       "      <td>2.75</td>\n",
       "      <td>4.59</td>\n",
       "      <td>60.00</td>\n",
       "      <td>8</td>\n",
       "    </tr>\n",
       "    <tr>\n",
       "      <th>2</th>\n",
       "      <td>2020-01-24</td>\n",
       "      <td>941</td>\n",
       "      <td>26</td>\n",
       "      <td>36</td>\n",
       "      <td>879</td>\n",
       "      <td>287</td>\n",
       "      <td>8</td>\n",
       "      <td>6</td>\n",
       "      <td>2.76</td>\n",
       "      <td>3.83</td>\n",
       "      <td>72.22</td>\n",
       "      <td>9</td>\n",
       "    </tr>\n",
       "    <tr>\n",
       "      <th>3</th>\n",
       "      <td>2020-01-25</td>\n",
       "      <td>1434</td>\n",
       "      <td>42</td>\n",
       "      <td>39</td>\n",
       "      <td>1353</td>\n",
       "      <td>493</td>\n",
       "      <td>16</td>\n",
       "      <td>3</td>\n",
       "      <td>2.93</td>\n",
       "      <td>2.72</td>\n",
       "      <td>107.69</td>\n",
       "      <td>11</td>\n",
       "    </tr>\n",
       "    <tr>\n",
       "      <th>4</th>\n",
       "      <td>2020-01-26</td>\n",
       "      <td>2118</td>\n",
       "      <td>56</td>\n",
       "      <td>52</td>\n",
       "      <td>2010</td>\n",
       "      <td>684</td>\n",
       "      <td>14</td>\n",
       "      <td>13</td>\n",
       "      <td>2.64</td>\n",
       "      <td>2.46</td>\n",
       "      <td>107.69</td>\n",
       "      <td>13</td>\n",
       "    </tr>\n",
       "  </tbody>\n",
       "</table>\n",
       "</div>"
      ],
      "text/plain": [
       "         Date  Confirmed  Deaths  Recovered  Active  New cases  New deaths  \\\n",
       "0  2020-01-22        555      17         28     510          0           0   \n",
       "1  2020-01-23        654      18         30     606         99           1   \n",
       "2  2020-01-24        941      26         36     879        287           8   \n",
       "3  2020-01-25       1434      42         39    1353        493          16   \n",
       "4  2020-01-26       2118      56         52    2010        684          14   \n",
       "\n",
       "   New recovered  Deaths / 100 Cases  Recovered / 100 Cases  \\\n",
       "0              0                3.06                   5.05   \n",
       "1              2                2.75                   4.59   \n",
       "2              6                2.76                   3.83   \n",
       "3              3                2.93                   2.72   \n",
       "4             13                2.64                   2.46   \n",
       "\n",
       "   Deaths / 100 Recovered  No. of countries  \n",
       "0                   60.71                 6  \n",
       "1                   60.00                 8  \n",
       "2                   72.22                 9  \n",
       "3                  107.69                11  \n",
       "4                  107.69                13  "
      ]
     },
     "execution_count": 6,
     "metadata": {},
     "output_type": "execute_result"
    }
   ],
   "source": [
    "df.head()"
   ]
  },
  {
   "cell_type": "code",
   "execution_count": 7,
   "id": "84fe49b3",
   "metadata": {
    "execution": {
     "iopub.execute_input": "2023-10-20T16:26:19.816155Z",
     "iopub.status.busy": "2023-10-20T16:26:19.815451Z",
     "iopub.status.idle": "2023-10-20T16:26:19.829370Z",
     "shell.execute_reply": "2023-10-20T16:26:19.827824Z"
    },
    "papermill": {
     "duration": 0.02343,
     "end_time": "2023-10-20T16:26:19.831879",
     "exception": false,
     "start_time": "2023-10-20T16:26:19.808449",
     "status": "completed"
    },
    "tags": []
   },
   "outputs": [
    {
     "data": {
      "text/plain": [
       "Date                      0\n",
       "Confirmed                 0\n",
       "Deaths                    0\n",
       "Recovered                 0\n",
       "Active                    0\n",
       "New cases                 0\n",
       "New deaths                0\n",
       "New recovered             0\n",
       "Deaths / 100 Cases        0\n",
       "Recovered / 100 Cases     0\n",
       "Deaths / 100 Recovered    0\n",
       "No. of countries          0\n",
       "dtype: int64"
      ]
     },
     "execution_count": 7,
     "metadata": {},
     "output_type": "execute_result"
    }
   ],
   "source": [
    "df.isnull().sum()"
   ]
  },
  {
   "cell_type": "code",
   "execution_count": 8,
   "id": "5a69366d",
   "metadata": {
    "execution": {
     "iopub.execute_input": "2023-10-20T16:26:19.845139Z",
     "iopub.status.busy": "2023-10-20T16:26:19.844682Z",
     "iopub.status.idle": "2023-10-20T16:26:19.854596Z",
     "shell.execute_reply": "2023-10-20T16:26:19.853281Z"
    },
    "papermill": {
     "duration": 0.019259,
     "end_time": "2023-10-20T16:26:19.856822",
     "exception": false,
     "start_time": "2023-10-20T16:26:19.837563",
     "status": "completed"
    },
    "tags": []
   },
   "outputs": [
    {
     "data": {
      "text/plain": [
       "Date                      0.0\n",
       "Confirmed                 0.0\n",
       "Deaths                    0.0\n",
       "Recovered                 0.0\n",
       "Active                    0.0\n",
       "New cases                 0.0\n",
       "New deaths                0.0\n",
       "New recovered             0.0\n",
       "Deaths / 100 Cases        0.0\n",
       "Recovered / 100 Cases     0.0\n",
       "Deaths / 100 Recovered    0.0\n",
       "No. of countries          0.0\n",
       "dtype: float64"
      ]
     },
     "execution_count": 8,
     "metadata": {},
     "output_type": "execute_result"
    }
   ],
   "source": [
    "df.isnull().mean()"
   ]
  },
  {
   "cell_type": "code",
   "execution_count": 9,
   "id": "169c6457",
   "metadata": {
    "execution": {
     "iopub.execute_input": "2023-10-20T16:26:19.869778Z",
     "iopub.status.busy": "2023-10-20T16:26:19.869397Z",
     "iopub.status.idle": "2023-10-20T16:26:19.884604Z",
     "shell.execute_reply": "2023-10-20T16:26:19.883097Z"
    },
    "papermill": {
     "duration": 0.024643,
     "end_time": "2023-10-20T16:26:19.887054",
     "exception": false,
     "start_time": "2023-10-20T16:26:19.862411",
     "status": "completed"
    },
    "tags": []
   },
   "outputs": [],
   "source": [
    "df.drop([\"Date\"],axis = 1,inplace = True)"
   ]
  },
  {
   "cell_type": "code",
   "execution_count": 10,
   "id": "4d3cb04f",
   "metadata": {
    "execution": {
     "iopub.execute_input": "2023-10-20T16:26:19.899964Z",
     "iopub.status.busy": "2023-10-20T16:26:19.899546Z",
     "iopub.status.idle": "2023-10-20T16:26:19.915022Z",
     "shell.execute_reply": "2023-10-20T16:26:19.913861Z"
    },
    "papermill": {
     "duration": 0.024644,
     "end_time": "2023-10-20T16:26:19.917383",
     "exception": false,
     "start_time": "2023-10-20T16:26:19.892739",
     "status": "completed"
    },
    "tags": []
   },
   "outputs": [
    {
     "data": {
      "text/html": [
       "<div>\n",
       "<style scoped>\n",
       "    .dataframe tbody tr th:only-of-type {\n",
       "        vertical-align: middle;\n",
       "    }\n",
       "\n",
       "    .dataframe tbody tr th {\n",
       "        vertical-align: top;\n",
       "    }\n",
       "\n",
       "    .dataframe thead th {\n",
       "        text-align: right;\n",
       "    }\n",
       "</style>\n",
       "<table border=\"1\" class=\"dataframe\">\n",
       "  <thead>\n",
       "    <tr style=\"text-align: right;\">\n",
       "      <th></th>\n",
       "      <th>Confirmed</th>\n",
       "      <th>Deaths</th>\n",
       "      <th>Recovered</th>\n",
       "      <th>Active</th>\n",
       "      <th>New cases</th>\n",
       "      <th>New deaths</th>\n",
       "      <th>New recovered</th>\n",
       "      <th>Deaths / 100 Cases</th>\n",
       "      <th>Recovered / 100 Cases</th>\n",
       "      <th>Deaths / 100 Recovered</th>\n",
       "      <th>No. of countries</th>\n",
       "    </tr>\n",
       "  </thead>\n",
       "  <tbody>\n",
       "    <tr>\n",
       "      <th>0</th>\n",
       "      <td>555</td>\n",
       "      <td>17</td>\n",
       "      <td>28</td>\n",
       "      <td>510</td>\n",
       "      <td>0</td>\n",
       "      <td>0</td>\n",
       "      <td>0</td>\n",
       "      <td>3.06</td>\n",
       "      <td>5.05</td>\n",
       "      <td>60.71</td>\n",
       "      <td>6</td>\n",
       "    </tr>\n",
       "    <tr>\n",
       "      <th>1</th>\n",
       "      <td>654</td>\n",
       "      <td>18</td>\n",
       "      <td>30</td>\n",
       "      <td>606</td>\n",
       "      <td>99</td>\n",
       "      <td>1</td>\n",
       "      <td>2</td>\n",
       "      <td>2.75</td>\n",
       "      <td>4.59</td>\n",
       "      <td>60.00</td>\n",
       "      <td>8</td>\n",
       "    </tr>\n",
       "    <tr>\n",
       "      <th>2</th>\n",
       "      <td>941</td>\n",
       "      <td>26</td>\n",
       "      <td>36</td>\n",
       "      <td>879</td>\n",
       "      <td>287</td>\n",
       "      <td>8</td>\n",
       "      <td>6</td>\n",
       "      <td>2.76</td>\n",
       "      <td>3.83</td>\n",
       "      <td>72.22</td>\n",
       "      <td>9</td>\n",
       "    </tr>\n",
       "    <tr>\n",
       "      <th>3</th>\n",
       "      <td>1434</td>\n",
       "      <td>42</td>\n",
       "      <td>39</td>\n",
       "      <td>1353</td>\n",
       "      <td>493</td>\n",
       "      <td>16</td>\n",
       "      <td>3</td>\n",
       "      <td>2.93</td>\n",
       "      <td>2.72</td>\n",
       "      <td>107.69</td>\n",
       "      <td>11</td>\n",
       "    </tr>\n",
       "    <tr>\n",
       "      <th>4</th>\n",
       "      <td>2118</td>\n",
       "      <td>56</td>\n",
       "      <td>52</td>\n",
       "      <td>2010</td>\n",
       "      <td>684</td>\n",
       "      <td>14</td>\n",
       "      <td>13</td>\n",
       "      <td>2.64</td>\n",
       "      <td>2.46</td>\n",
       "      <td>107.69</td>\n",
       "      <td>13</td>\n",
       "    </tr>\n",
       "  </tbody>\n",
       "</table>\n",
       "</div>"
      ],
      "text/plain": [
       "   Confirmed  Deaths  Recovered  Active  New cases  New deaths  New recovered  \\\n",
       "0        555      17         28     510          0           0              0   \n",
       "1        654      18         30     606         99           1              2   \n",
       "2        941      26         36     879        287           8              6   \n",
       "3       1434      42         39    1353        493          16              3   \n",
       "4       2118      56         52    2010        684          14             13   \n",
       "\n",
       "   Deaths / 100 Cases  Recovered / 100 Cases  Deaths / 100 Recovered  \\\n",
       "0                3.06                   5.05                   60.71   \n",
       "1                2.75                   4.59                   60.00   \n",
       "2                2.76                   3.83                   72.22   \n",
       "3                2.93                   2.72                  107.69   \n",
       "4                2.64                   2.46                  107.69   \n",
       "\n",
       "   No. of countries  \n",
       "0                 6  \n",
       "1                 8  \n",
       "2                 9  \n",
       "3                11  \n",
       "4                13  "
      ]
     },
     "execution_count": 10,
     "metadata": {},
     "output_type": "execute_result"
    }
   ],
   "source": [
    "df.head()"
   ]
  },
  {
   "cell_type": "code",
   "execution_count": 11,
   "id": "49ad5306",
   "metadata": {
    "execution": {
     "iopub.execute_input": "2023-10-20T16:26:19.930589Z",
     "iopub.status.busy": "2023-10-20T16:26:19.930171Z",
     "iopub.status.idle": "2023-10-20T16:26:20.235822Z",
     "shell.execute_reply": "2023-10-20T16:26:20.234393Z"
    },
    "papermill": {
     "duration": 0.315299,
     "end_time": "2023-10-20T16:26:20.238427",
     "exception": false,
     "start_time": "2023-10-20T16:26:19.923128",
     "status": "completed"
    },
    "tags": []
   },
   "outputs": [
    {
     "data": {
      "image/png": "[encoded data removed]",
      "text/plain": [
       "<Figure size 640x480 with 1 Axes>"
      ]
     },
     "metadata": {},
     "output_type": "display_data"
    }
   ],
   "source": [
    "plt.hist(df[\"No. of countries\"])\n",
    "plt.xlabel(\"X\")\n",
    "plt.ylabel(\"Y\")\n",
    "plt.show()"
   ]
  },
  {
   "cell_type": "code",
   "execution_count": 12,
   "id": "9f297b52",
   "metadata": {
    "execution": {
     "iopub.execute_input": "2023-10-20T16:26:20.252722Z",
     "iopub.status.busy": "2023-10-20T16:26:20.251636Z",
     "iopub.status.idle": "2023-10-20T16:26:20.259734Z",
     "shell.execute_reply": "2023-10-20T16:26:20.257526Z"
    },
    "papermill": {
     "duration": 0.018276,
     "end_time": "2023-10-20T16:26:20.262636",
     "exception": false,
     "start_time": "2023-10-20T16:26:20.244360",
     "status": "completed"
    },
    "tags": []
   },
   "outputs": [],
   "source": [
    "x = df.iloc[:,:-1]\n",
    "y = df.iloc[:,-1]"
   ]
  },
  {
   "cell_type": "code",
   "execution_count": 13,
   "id": "a818b462",
   "metadata": {
    "execution": {
     "iopub.execute_input": "2023-10-20T16:26:20.277365Z",
     "iopub.status.busy": "2023-10-20T16:26:20.276945Z",
     "iopub.status.idle": "2023-10-20T16:26:20.654950Z",
     "shell.execute_reply": "2023-10-20T16:26:20.653228Z"
    },
    "papermill": {
     "duration": 0.388359,
     "end_time": "2023-10-20T16:26:20.657613",
     "exception": false,
     "start_time": "2023-10-20T16:26:20.269254",
     "status": "completed"
    },
    "tags": []
   },
   "outputs": [],
   "source": [
    "from sklearn.model_selection import train_test_split\n",
    "x_train,x_test,y_train,y_test = train_test_split(x,y,random_state = 100)"
   ]
  },
  {
   "cell_type": "code",
   "execution_count": 14,
   "id": "4eda9d04",
   "metadata": {
    "execution": {
     "iopub.execute_input": "2023-10-20T16:26:20.670682Z",
     "iopub.status.busy": "2023-10-20T16:26:20.670275Z",
     "iopub.status.idle": "2023-10-20T16:26:20.677670Z",
     "shell.execute_reply": "2023-10-20T16:26:20.676399Z"
    },
    "papermill": {
     "duration": 0.016632,
     "end_time": "2023-10-20T16:26:20.679930",
     "exception": false,
     "start_time": "2023-10-20T16:26:20.663298",
     "status": "completed"
    },
    "tags": []
   },
   "outputs": [
    {
     "data": {
      "text/plain": [
       "(141,)"
      ]
     },
     "execution_count": 14,
     "metadata": {},
     "output_type": "execute_result"
    }
   ],
   "source": [
    "x_train.shape\n",
    "y_train.shape"
   ]
  },
  {
   "cell_type": "code",
   "execution_count": 15,
   "id": "2d942c06",
   "metadata": {
    "execution": {
     "iopub.execute_input": "2023-10-20T16:26:20.693351Z",
     "iopub.status.busy": "2023-10-20T16:26:20.692894Z",
     "iopub.status.idle": "2023-10-20T16:26:21.190348Z",
     "shell.execute_reply": "2023-10-20T16:26:21.188885Z"
    },
    "papermill": {
     "duration": 0.508051,
     "end_time": "2023-10-20T16:26:21.193683",
     "exception": false,
     "start_time": "2023-10-20T16:26:20.685632",
     "status": "completed"
    },
    "tags": []
   },
   "outputs": [],
   "source": [
    "from sklearn.ensemble import RandomForestRegressor\n",
    "rf = RandomForestRegressor(n_estimators=10, random_state=0)"
   ]
  },
  {
   "cell_type": "code",
   "execution_count": 16,
   "id": "c8b9e4fb",
   "metadata": {
    "execution": {
     "iopub.execute_input": "2023-10-20T16:26:21.208064Z",
     "iopub.status.busy": "2023-10-20T16:26:21.207638Z",
     "iopub.status.idle": "2023-10-20T16:26:21.247868Z",
     "shell.execute_reply": "2023-10-20T16:26:21.246358Z"
    },
    "papermill": {
     "duration": 0.050311,
     "end_time": "2023-10-20T16:26:21.250372",
     "exception": false,
     "start_time": "2023-10-20T16:26:21.200061",
     "status": "completed"
    },
    "tags": []
   },
   "outputs": [
    {
     "data": {
      "text/html": [
       "<style>#sk-container-id-1 {color: black;background-color: white;}#sk-container-id-1 pre{padding: 0;}#sk-container-id-1 div.sk-toggleable {background-color: white;}#sk-container-id-1 label.sk-toggleable__label {cursor: pointer;display: block;width: 100%;margin-bottom: 0;padding: 0.3em;box-sizing: border-box;text-align: center;}#sk-container-id-1 label.sk-toggleable__label-arrow:before {content: \"▸\";float: left;margin-right: 0.25em;color: #696969;}#sk-container-id-1 label.sk-toggleable__label-arrow:hover:before {color: black;}#sk-container-id-1 div.sk-estimator:hover label.sk-toggleable__label-arrow:before {color: black;}#sk-container-id-1 div.sk-toggleable__content {max-height: 0;max-width: 0;overflow: hidden;text-align: left;background-color: #f0f8ff;}#sk-container-id-1 div.sk-toggleable__content pre {margin: 0.2em;color: black;border-radius: 0.25em;background-color: #f0f8ff;}#sk-container-id-1 input.sk-toggleable__control:checked~div.sk-toggleable__content {max-height: 200px;max-width: 100%;overflow: auto;}#sk-container-id-1 input.sk-toggleable__control:checked~label.sk-toggleable__label-arrow:before {content: \"▾\";}#sk-container-id-1 div.sk-estimator input.sk-toggleable__control:checked~label.sk-toggleable__label {background-color: #d4ebff;}#sk-container-id-1 div.sk-label input.sk-toggleable__control:checked~label.sk-toggleable__label {background-color: #d4ebff;}#sk-container-id-1 input.sk-hidden--visually {border: 0;clip: rect(1px 1px 1px 1px);clip: rect(1px, 1px, 1px, 1px);height: 1px;margin: -1px;overflow: hidden;padding: 0;position: absolute;width: 1px;}#sk-container-id-1 div.sk-estimator {font-family: monospace;background-color: #f0f8ff;border: 1px dotted black;border-radius: 0.25em;box-sizing: border-box;margin-bottom: 0.5em;}#sk-container-id-1 div.sk-estimator:hover {background-color: #d4ebff;}#sk-container-id-1 div.sk-parallel-item::after {content: \"\";width: 100%;border-bottom: 1px solid gray;flex-grow: 1;}#sk-container-id-1 div.sk-label:hover label.sk-toggleable__label {background-color: #d4ebff;}#sk-container-id-1 div.sk-serial::before {content: \"\";position: absolute;border-left: 1px solid gray;box-sizing: border-box;top: 0;bottom: 0;left: 50%;z-index: 0;}#sk-container-id-1 div.sk-serial {display: flex;flex-direction: column;align-items: center;background-color: white;padding-right: 0.2em;padding-left: 0.2em;position: relative;}#sk-container-id-1 div.sk-item {position: relative;z-index: 1;}#sk-container-id-1 div.sk-parallel {display: flex;align-items: stretch;justify-content: center;background-color: white;position: relative;}#sk-container-id-1 div.sk-item::before, #sk-container-id-1 div.sk-parallel-item::before {content: \"\";position: absolute;border-left: 1px solid gray;box-sizing: border-box;top: 0;bottom: 0;left: 50%;z-index: -1;}#sk-container-id-1 div.sk-parallel-item {display: flex;flex-direction: column;z-index: 1;position: relative;background-color: white;}#sk-container-id-1 div.sk-parallel-item:first-child::after {align-self: flex-end;width: 50%;}#sk-container-id-1 div.sk-parallel-item:last-child::after {align-self: flex-start;width: 50%;}#sk-container-id-1 div.sk-parallel-item:only-child::after {width: 0;}#sk-container-id-1 div.sk-dashed-wrapped {border: 1px dashed gray;margin: 0 0.4em 0.5em 0.4em;box-sizing: border-box;padding-bottom: 0.4em;background-color: white;}#sk-container-id-1 div.sk-label label {font-family: monospace;font-weight: bold;display: inline-block;line-height: 1.2em;}#sk-container-id-1 div.sk-label-container {text-align: center;}#sk-container-id-1 div.sk-container {/* jupyter's `normalize.less` sets `[hidden] { display: none; }` but bootstrap.min.css set `[hidden] { display: none !important; }` so we also need the `!important` here to be able to override the default hidden behavior on the sphinx rendered scikit-learn.org. See: https://github.com/scikit-learn/scikit-learn/issues/21755 */display: inline-block !important;position: relative;}#sk-container-id-1 div.sk-text-repr-fallback {display: none;}</style><div id=\"sk-container-id-1\" class=\"sk-top-container\"><div class=\"sk-text-repr-fallback\"><pre>RandomForestRegressor(n_estimators=10, random_state=0)</pre><b>In a Jupyter environment, please rerun this cell to show the HTML representation or trust the notebook. <br />On GitHub, the HTML representation is unable to render, please try loading this page with nbviewer.org.</b></div><div class=\"sk-container\" hidden><div class=\"sk-item\"><div class=\"sk-estimator sk-toggleable\"><input class=\"sk-toggleable__control sk-hidden--visually\" id=\"sk-estimator-id-1\" type=\"checkbox\" checked><label for=\"sk-estimator-id-1\" class=\"sk-toggleable__label sk-toggleable__label-arrow\">RandomForestRegressor</label><div class=\"sk-toggleable__content\"><pre>RandomForestRegressor(n_estimators=10, random_state=0)</pre></div></div></div></div></div>"
      ],
      "text/plain": [
       "RandomForestRegressor(n_estimators=10, random_state=0)"
      ]
     },
     "execution_count": 16,
     "metadata": {},
     "output_type": "execute_result"
    }
   ],
   "source": [
    "rf.fit(x_train,y_train)"
   ]
  },
  {
   "cell_type": "code",
   "execution_count": 17,
   "id": "f87b49b0",
   "metadata": {
    "execution": {
     "iopub.execute_input": "2023-10-20T16:26:21.265196Z",
     "iopub.status.busy": "2023-10-20T16:26:21.264754Z",
     "iopub.status.idle": "2023-10-20T16:26:21.279154Z",
     "shell.execute_reply": "2023-10-20T16:26:21.277826Z"
    },
    "papermill": {
     "duration": 0.025084,
     "end_time": "2023-10-20T16:26:21.281593",
     "exception": false,
     "start_time": "2023-10-20T16:26:21.256509",
     "status": "completed"
    },
    "tags": []
   },
   "outputs": [
    {
     "data": {
      "text/plain": [
       "array([187. , 187. , 187. , 187. ,  95. , 187. ,  23.9,  26. , 185.2,\n",
       "       187. , 182. , 187. , 187. , 187. , 181.8, 187. , 187. , 184. ,\n",
       "       187. , 184. , 178.4,  83.4,  14.1, 184. , 187. , 187. , 186. ,\n",
       "        31.7, 187. , 187. , 182.4,  11.3, 187. , 187. , 187. , 180.6,\n",
       "       165.9, 187. ,  26.9, 187. , 175.6, 187. , 187. ,  67.7, 182. ,\n",
       "       187. , 187. ])"
      ]
     },
     "execution_count": 17,
     "metadata": {},
     "output_type": "execute_result"
    }
   ],
   "source": [
    "\n",
    "y_pred = rf.predict(x_test)\n",
    "y_pred"
   ]
  },
  {
   "cell_type": "code",
   "execution_count": 18,
   "id": "0537ddfc",
   "metadata": {
    "execution": {
     "iopub.execute_input": "2023-10-20T16:26:21.296181Z",
     "iopub.status.busy": "2023-10-20T16:26:21.295747Z",
     "iopub.status.idle": "2023-10-20T16:26:21.305714Z",
     "shell.execute_reply": "2023-10-20T16:26:21.304328Z"
    },
    "papermill": {
     "duration": 0.020411,
     "end_time": "2023-10-20T16:26:21.308358",
     "exception": false,
     "start_time": "2023-10-20T16:26:21.287947",
     "status": "completed"
    },
    "tags": []
   },
   "outputs": [
    {
     "data": {
      "text/plain": [
       "3.148723404255321"
      ]
     },
     "execution_count": 18,
     "metadata": {},
     "output_type": "execute_result"
    }
   ],
   "source": [
    "from sklearn.metrics import mean_squared_error\n",
    "mse = mean_squared_error(y_test,y_pred)\n",
    "mse"
   ]
  },
  {
   "cell_type": "code",
   "execution_count": 19,
   "id": "3fdf84fc",
   "metadata": {
    "execution": {
     "iopub.execute_input": "2023-10-20T16:26:21.323309Z",
     "iopub.status.busy": "2023-10-20T16:26:21.322844Z",
     "iopub.status.idle": "2023-10-20T16:26:21.331656Z",
     "shell.execute_reply": "2023-10-20T16:26:21.330163Z"
    },
    "papermill": {
     "duration": 0.020032,
     "end_time": "2023-10-20T16:26:21.334515",
     "exception": false,
     "start_time": "2023-10-20T16:26:21.314483",
     "status": "completed"
    },
    "tags": []
   },
   "outputs": [
    {
     "data": {
      "text/plain": [
       "1.7744642583764039"
      ]
     },
     "execution_count": 19,
     "metadata": {},
     "output_type": "execute_result"
    }
   ],
   "source": [
    "np.sqrt(mse)"
   ]
  },
  {
   "cell_type": "code",
   "execution_count": null,
   "id": "0bfe1361",
   "metadata": {
    "papermill": {
     "duration": 0.006538,
     "end_time": "2023-10-20T16:26:21.347496",
     "exception": false,
     "start_time": "2023-10-20T16:26:21.340958",
     "status": "completed"
    },
    "tags": []
   },
   "outputs": [],
   "source": []
  }
 ],
 "metadata": {
  "kernelspec": {
   "display_name": "Python 3",
   "language": "python",
   "name": "python3"
  },
  "language_info": {
   "codemirror_mode": {
    "name": "ipython",
    "version": 3
   },
   "file_extension": ".py",
   "mimetype": "text/x-python",
   "name": "python",
   "nbconvert_exporter": "python",
   "pygments_lexer": "ipython3",
   "version": "3.10.12"
  },
  "papermill": {
   "default_parameters": {},
   "duration": 8.976887,
   "end_time": "2023-10-20T16:26:22.278516",
   "environment_variables": {},
   "exception": null,
   "input_path": "__notebook__.ipynb",
   "output_path": "__notebook__.ipynb",
   "parameters": {},
   "start_time": "2023-10-20T16:26:13.301629",
   "version": "2.4.0"
  }
 },
 "nbformat": 4,
 "nbformat_minor": 5
}
