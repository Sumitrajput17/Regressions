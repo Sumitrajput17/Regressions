{
 "cells": [
  {
   "cell_type": "code",
   "execution_count": 1,
   "id": "11b4d6ea",
   "metadata": {
    "_cell_guid": "b1076dfc-b9ad-4769-8c92-a6c4dae69d19",
    "_uuid": "8f2839f25d086af736a60e9eeb907d3b93b6e0e5",
    "execution": {
     "iopub.execute_input": "2023-10-11T11:02:13.008653Z",
     "iopub.status.busy": "2023-10-11T11:02:13.007990Z",
     "iopub.status.idle": "2023-10-11T11:02:13.400523Z",
     "shell.execute_reply": "2023-10-11T11:02:13.399135Z"
    },
    "papermill": {
     "duration": 0.403597,
     "end_time": "2023-10-11T11:02:13.403059",
     "exception": false,
     "start_time": "2023-10-11T11:02:12.999462",
     "status": "completed"
    },
    "tags": []
   },
   "outputs": [
    {
     "name": "stdout",
     "output_type": "stream",
     "text": [
      "/kaggle/input/socail/social.csv\n"
     ]
    }
   ],
   "source": [
    "# This Python 3 environment comes with many helpful analytics libraries installed\n",
    "# It is defined by the kaggle/python Docker image: https://github.com/kaggle/docker-python\n",
    "# For example, here's several helpful packages to load\n",
    "\n",
    "import numpy as np # linear algebra\n",
    "import pandas as pd # data processing, CSV file I/O (e.g. pd.read_csv)\n",
    "\n",
    "# Input data files are available in the read-only \"../input/\" directory\n",
    "# For example, running this (by clicking run or pressing Shift+Enter) will list all files under the input directory\n",
    "\n",
    "import os\n",
    "for dirname, _, filenames in os.walk('/kaggle/input'):\n",
    "    for filename in filenames:\n",
    "        print(os.path.join(dirname, filename))\n",
    "\n",
    "# You can write up to 20GB to the current directory (/kaggle/working/) that gets preserved as output when you create a version using \"Save & Run All\" \n",
    "# You can also write temporary files to /kaggle/temp/, but they won't be saved outside of the current session"
   ]
  },
  {
   "cell_type": "code",
   "execution_count": 2,
   "id": "29aa9540",
   "metadata": {
    "execution": {
     "iopub.execute_input": "2023-10-11T11:02:13.415145Z",
     "iopub.status.busy": "2023-10-11T11:02:13.414634Z",
     "iopub.status.idle": "2023-10-11T11:02:13.421132Z",
     "shell.execute_reply": "2023-10-11T11:02:13.419907Z"
    },
    "papermill": {
     "duration": 0.015129,
     "end_time": "2023-10-11T11:02:13.423419",
     "exception": false,
     "start_time": "2023-10-11T11:02:13.408290",
     "status": "completed"
    },
    "tags": []
   },
   "outputs": [],
   "source": [
    "import numpy as np\n",
    "import pandas as pd\n",
    "import matplotlib.pyplot as plt\n",
    "%matplotlib inline"
   ]
  },
  {
   "cell_type": "code",
   "execution_count": 3,
   "id": "c927b26b",
   "metadata": {
    "execution": {
     "iopub.execute_input": "2023-10-11T11:02:13.435444Z",
     "iopub.status.busy": "2023-10-11T11:02:13.435088Z",
     "iopub.status.idle": "2023-10-11T11:02:13.474466Z",
     "shell.execute_reply": "2023-10-11T11:02:13.473137Z"
    },
    "papermill": {
     "duration": 0.047844,
     "end_time": "2023-10-11T11:02:13.476761",
     "exception": false,
     "start_time": "2023-10-11T11:02:13.428917",
     "status": "completed"
    },
    "tags": []
   },
   "outputs": [
    {
     "data": {
      "text/html": [
       "<div>\n",
       "<style scoped>\n",
       "    .dataframe tbody tr th:only-of-type {\n",
       "        vertical-align: middle;\n",
       "    }\n",
       "\n",
       "    .dataframe tbody tr th {\n",
       "        vertical-align: top;\n",
       "    }\n",
       "\n",
       "    .dataframe thead th {\n",
       "        text-align: right;\n",
       "    }\n",
       "</style>\n",
       "<table border=\"1\" class=\"dataframe\">\n",
       "  <thead>\n",
       "    <tr style=\"text-align: right;\">\n",
       "      <th></th>\n",
       "      <th>UserID</th>\n",
       "      <th>Gender</th>\n",
       "      <th>Age</th>\n",
       "      <th>EstimatedSalary</th>\n",
       "      <th>Purchased</th>\n",
       "    </tr>\n",
       "  </thead>\n",
       "  <tbody>\n",
       "    <tr>\n",
       "      <th>0</th>\n",
       "      <td>15624510</td>\n",
       "      <td>Male</td>\n",
       "      <td>19</td>\n",
       "      <td>19000</td>\n",
       "      <td>Not Purchased</td>\n",
       "    </tr>\n",
       "    <tr>\n",
       "      <th>1</th>\n",
       "      <td>15810944</td>\n",
       "      <td>Male</td>\n",
       "      <td>35</td>\n",
       "      <td>20000</td>\n",
       "      <td>Not Purchased</td>\n",
       "    </tr>\n",
       "    <tr>\n",
       "      <th>2</th>\n",
       "      <td>15668575</td>\n",
       "      <td>Female</td>\n",
       "      <td>26</td>\n",
       "      <td>43000</td>\n",
       "      <td>Not Purchased</td>\n",
       "    </tr>\n",
       "    <tr>\n",
       "      <th>3</th>\n",
       "      <td>15603246</td>\n",
       "      <td>Female</td>\n",
       "      <td>27</td>\n",
       "      <td>57000</td>\n",
       "      <td>Not Purchased</td>\n",
       "    </tr>\n",
       "    <tr>\n",
       "      <th>4</th>\n",
       "      <td>15804002</td>\n",
       "      <td>Male</td>\n",
       "      <td>19</td>\n",
       "      <td>76000</td>\n",
       "      <td>Not Purchased</td>\n",
       "    </tr>\n",
       "  </tbody>\n",
       "</table>\n",
       "</div>"
      ],
      "text/plain": [
       "     UserID  Gender  Age  EstimatedSalary      Purchased\n",
       "0  15624510    Male   19            19000  Not Purchased\n",
       "1  15810944    Male   35            20000  Not Purchased\n",
       "2  15668575  Female   26            43000  Not Purchased\n",
       "3  15603246  Female   27            57000  Not Purchased\n",
       "4  15804002    Male   19            76000  Not Purchased"
      ]
     },
     "execution_count": 3,
     "metadata": {},
     "output_type": "execute_result"
    }
   ],
   "source": [
    "data = pd.read_csv('/kaggle/input/socail/social.csv')\n",
    "data.head()"
   ]
  },
  {
   "cell_type": "code",
   "execution_count": 4,
   "id": "857fb457",
   "metadata": {
    "execution": {
     "iopub.execute_input": "2023-10-11T11:02:13.490054Z",
     "iopub.status.busy": "2023-10-11T11:02:13.489665Z",
     "iopub.status.idle": "2023-10-11T11:02:13.503226Z",
     "shell.execute_reply": "2023-10-11T11:02:13.502164Z"
    },
    "papermill": {
     "duration": 0.023212,
     "end_time": "2023-10-11T11:02:13.505338",
     "exception": false,
     "start_time": "2023-10-11T11:02:13.482126",
     "status": "completed"
    },
    "tags": []
   },
   "outputs": [
    {
     "data": {
      "text/html": [
       "<div>\n",
       "<style scoped>\n",
       "    .dataframe tbody tr th:only-of-type {\n",
       "        vertical-align: middle;\n",
       "    }\n",
       "\n",
       "    .dataframe tbody tr th {\n",
       "        vertical-align: top;\n",
       "    }\n",
       "\n",
       "    .dataframe thead th {\n",
       "        text-align: right;\n",
       "    }\n",
       "</style>\n",
       "<table border=\"1\" class=\"dataframe\">\n",
       "  <thead>\n",
       "    <tr style=\"text-align: right;\">\n",
       "      <th></th>\n",
       "    </tr>\n",
       "  </thead>\n",
       "  <tbody>\n",
       "    <tr>\n",
       "      <th>0</th>\n",
       "    </tr>\n",
       "    <tr>\n",
       "      <th>1</th>\n",
       "    </tr>\n",
       "    <tr>\n",
       "      <th>2</th>\n",
       "    </tr>\n",
       "    <tr>\n",
       "      <th>3</th>\n",
       "    </tr>\n",
       "    <tr>\n",
       "      <th>4</th>\n",
       "    </tr>\n",
       "  </tbody>\n",
       "</table>\n",
       "</div>"
      ],
      "text/plain": [
       "Empty DataFrame\n",
       "Columns: []\n",
       "Index: [0, 1, 2, 3, 4]"
      ]
     },
     "execution_count": 4,
     "metadata": {},
     "output_type": "execute_result"
    }
   ],
   "source": [
    "data = {\n",
    "    'Age' : ['19','35','26','27','19'],\n",
    "    'EstimatedSalary' : ['19000','20000','43000','57000','76000']}\n",
    "df = pd.DataFrame(data)\n",
    "df.drop(['Age','EstimatedSalary'],axis=1)"
   ]
  },
  {
   "cell_type": "code",
   "execution_count": 5,
   "id": "10690fbe",
   "metadata": {
    "execution": {
     "iopub.execute_input": "2023-10-11T11:02:13.517853Z",
     "iopub.status.busy": "2023-10-11T11:02:13.517162Z",
     "iopub.status.idle": "2023-10-11T11:02:13.523804Z",
     "shell.execute_reply": "2023-10-11T11:02:13.522820Z"
    },
    "papermill": {
     "duration": 0.015206,
     "end_time": "2023-10-11T11:02:13.525791",
     "exception": false,
     "start_time": "2023-10-11T11:02:13.510585",
     "status": "completed"
    },
    "tags": []
   },
   "outputs": [
    {
     "name": "stdout",
     "output_type": "stream",
     "text": [
      "  Age EstimatedSalary\n",
      "0  19           19000\n",
      "1  35           20000\n",
      "2  26           43000\n",
      "3  27           57000\n",
      "4  19           76000\n"
     ]
    }
   ],
   "source": [
    "print(df.head())"
   ]
  },
  {
   "cell_type": "code",
   "execution_count": 6,
   "id": "b9ec15ee",
   "metadata": {
    "execution": {
     "iopub.execute_input": "2023-10-11T11:02:13.538262Z",
     "iopub.status.busy": "2023-10-11T11:02:13.537595Z",
     "iopub.status.idle": "2023-10-11T11:02:13.541645Z",
     "shell.execute_reply": "2023-10-11T11:02:13.540969Z"
    },
    "papermill": {
     "duration": 0.012554,
     "end_time": "2023-10-11T11:02:13.543574",
     "exception": false,
     "start_time": "2023-10-11T11:02:13.531020",
     "status": "completed"
    },
    "tags": []
   },
   "outputs": [],
   "source": [
    "x = np.array([19,35,26,27,19])\n",
    "y = np.array([19000,20000,43000,57000,76000])"
   ]
  },
  {
   "cell_type": "code",
   "execution_count": 7,
   "id": "ea258968",
   "metadata": {
    "execution": {
     "iopub.execute_input": "2023-10-11T11:02:13.556085Z",
     "iopub.status.busy": "2023-10-11T11:02:13.555429Z",
     "iopub.status.idle": "2023-10-11T11:02:13.558958Z",
     "shell.execute_reply": "2023-10-11T11:02:13.558240Z"
    },
    "papermill": {
     "duration": 0.011975,
     "end_time": "2023-10-11T11:02:13.560906",
     "exception": false,
     "start_time": "2023-10-11T11:02:13.548931",
     "status": "completed"
    },
    "tags": []
   },
   "outputs": [],
   "source": [
    "#x = df.values[:, :1]\n",
    "#y = df.values[:, 1:2]"
   ]
  },
  {
   "cell_type": "code",
   "execution_count": 8,
   "id": "652ccbba",
   "metadata": {
    "execution": {
     "iopub.execute_input": "2023-10-11T11:02:13.573554Z",
     "iopub.status.busy": "2023-10-11T11:02:13.572812Z",
     "iopub.status.idle": "2023-10-11T11:02:13.885382Z",
     "shell.execute_reply": "2023-10-11T11:02:13.884250Z"
    },
    "papermill": {
     "duration": 0.321455,
     "end_time": "2023-10-11T11:02:13.887690",
     "exception": false,
     "start_time": "2023-10-11T11:02:13.566235",
     "status": "completed"
    },
    "tags": []
   },
   "outputs": [
    {
     "data": {
      "text/plain": [
       "Text(0.5, 0, 'Estimated_Salary')"
      ]
     },
     "execution_count": 8,
     "metadata": {},
     "output_type": "execute_result"
    },
    {
     "data": {
      "image/png": "[encoded data removed]",
      "text/plain": [
       "<Figure size 640x480 with 1 Axes>"
      ]
     },
     "metadata": {},
     "output_type": "display_data"
    }
   ],
   "source": [
    "plt.scatter(x,y,color = 'g')\n",
    "plt.xlabel('Age')\n",
    "plt.xlabel('Estimated_Salary')"
   ]
  },
  {
   "cell_type": "code",
   "execution_count": 9,
   "id": "e49cd4de",
   "metadata": {
    "execution": {
     "iopub.execute_input": "2023-10-11T11:02:13.901165Z",
     "iopub.status.busy": "2023-10-11T11:02:13.900748Z",
     "iopub.status.idle": "2023-10-11T11:02:13.905866Z",
     "shell.execute_reply": "2023-10-11T11:02:13.904663Z"
    },
    "papermill": {
     "duration": 0.014731,
     "end_time": "2023-10-11T11:02:13.908174",
     "exception": false,
     "start_time": "2023-10-11T11:02:13.893443",
     "status": "completed"
    },
    "tags": []
   },
   "outputs": [],
   "source": [
    "x = x.reshape(-1,1)"
   ]
  },
  {
   "cell_type": "code",
   "execution_count": 10,
   "id": "a9018c9a",
   "metadata": {
    "execution": {
     "iopub.execute_input": "2023-10-11T11:02:13.922027Z",
     "iopub.status.busy": "2023-10-11T11:02:13.921392Z",
     "iopub.status.idle": "2023-10-11T11:02:15.466350Z",
     "shell.execute_reply": "2023-10-11T11:02:15.465309Z"
    },
    "papermill": {
     "duration": 1.554611,
     "end_time": "2023-10-11T11:02:15.468849",
     "exception": false,
     "start_time": "2023-10-11T11:02:13.914238",
     "status": "completed"
    },
    "tags": []
   },
   "outputs": [],
   "source": [
    "from sklearn.model_selection import train_test_split\n",
    "x_train,x_test,y_train,y_test = train_test_split(x,y,train_size = 0.2,random_state = 42)"
   ]
  },
  {
   "cell_type": "code",
   "execution_count": 11,
   "id": "33b78edc",
   "metadata": {
    "execution": {
     "iopub.execute_input": "2023-10-11T11:02:15.482158Z",
     "iopub.status.busy": "2023-10-11T11:02:15.481774Z",
     "iopub.status.idle": "2023-10-11T11:02:15.610293Z",
     "shell.execute_reply": "2023-10-11T11:02:15.609088Z"
    },
    "papermill": {
     "duration": 0.137617,
     "end_time": "2023-10-11T11:02:15.612538",
     "exception": false,
     "start_time": "2023-10-11T11:02:15.474921",
     "status": "completed"
    },
    "tags": []
   },
   "outputs": [
    {
     "data": {
      "text/html": [
       "<style>#sk-container-id-1 {color: black;background-color: white;}#sk-container-id-1 pre{padding: 0;}#sk-container-id-1 div.sk-toggleable {background-color: white;}#sk-container-id-1 label.sk-toggleable__label {cursor: pointer;display: block;width: 100%;margin-bottom: 0;padding: 0.3em;box-sizing: border-box;text-align: center;}#sk-container-id-1 label.sk-toggleable__label-arrow:before {content: \"▸\";float: left;margin-right: 0.25em;color: #696969;}#sk-container-id-1 label.sk-toggleable__label-arrow:hover:before {color: black;}#sk-container-id-1 div.sk-estimator:hover label.sk-toggleable__label-arrow:before {color: black;}#sk-container-id-1 div.sk-toggleable__content {max-height: 0;max-width: 0;overflow: hidden;text-align: left;background-color: #f0f8ff;}#sk-container-id-1 div.sk-toggleable__content pre {margin: 0.2em;color: black;border-radius: 0.25em;background-color: #f0f8ff;}#sk-container-id-1 input.sk-toggleable__control:checked~div.sk-toggleable__content {max-height: 200px;max-width: 100%;overflow: auto;}#sk-container-id-1 input.sk-toggleable__control:checked~label.sk-toggleable__label-arrow:before {content: \"▾\";}#sk-container-id-1 div.sk-estimator input.sk-toggleable__control:checked~label.sk-toggleable__label {background-color: #d4ebff;}#sk-container-id-1 div.sk-label input.sk-toggleable__control:checked~label.sk-toggleable__label {background-color: #d4ebff;}#sk-container-id-1 input.sk-hidden--visually {border: 0;clip: rect(1px 1px 1px 1px);clip: rect(1px, 1px, 1px, 1px);height: 1px;margin: -1px;overflow: hidden;padding: 0;position: absolute;width: 1px;}#sk-container-id-1 div.sk-estimator {font-family: monospace;background-color: #f0f8ff;border: 1px dotted black;border-radius: 0.25em;box-sizing: border-box;margin-bottom: 0.5em;}#sk-container-id-1 div.sk-estimator:hover {background-color: #d4ebff;}#sk-container-id-1 div.sk-parallel-item::after {content: \"\";width: 100%;border-bottom: 1px solid gray;flex-grow: 1;}#sk-container-id-1 div.sk-label:hover label.sk-toggleable__label {background-color: #d4ebff;}#sk-container-id-1 div.sk-serial::before {content: \"\";position: absolute;border-left: 1px solid gray;box-sizing: border-box;top: 0;bottom: 0;left: 50%;z-index: 0;}#sk-container-id-1 div.sk-serial {display: flex;flex-direction: column;align-items: center;background-color: white;padding-right: 0.2em;padding-left: 0.2em;position: relative;}#sk-container-id-1 div.sk-item {position: relative;z-index: 1;}#sk-container-id-1 div.sk-parallel {display: flex;align-items: stretch;justify-content: center;background-color: white;position: relative;}#sk-container-id-1 div.sk-item::before, #sk-container-id-1 div.sk-parallel-item::before {content: \"\";position: absolute;border-left: 1px solid gray;box-sizing: border-box;top: 0;bottom: 0;left: 50%;z-index: -1;}#sk-container-id-1 div.sk-parallel-item {display: flex;flex-direction: column;z-index: 1;position: relative;background-color: white;}#sk-container-id-1 div.sk-parallel-item:first-child::after {align-self: flex-end;width: 50%;}#sk-container-id-1 div.sk-parallel-item:last-child::after {align-self: flex-start;width: 50%;}#sk-container-id-1 div.sk-parallel-item:only-child::after {width: 0;}#sk-container-id-1 div.sk-dashed-wrapped {border: 1px dashed gray;margin: 0 0.4em 0.5em 0.4em;box-sizing: border-box;padding-bottom: 0.4em;background-color: white;}#sk-container-id-1 div.sk-label label {font-family: monospace;font-weight: bold;display: inline-block;line-height: 1.2em;}#sk-container-id-1 div.sk-label-container {text-align: center;}#sk-container-id-1 div.sk-container {/* jupyter's `normalize.less` sets `[hidden] { display: none; }` but bootstrap.min.css set `[hidden] { display: none !important; }` so we also need the `!important` here to be able to override the default hidden behavior on the sphinx rendered scikit-learn.org. See: https://github.com/scikit-learn/scikit-learn/issues/21755 */display: inline-block !important;position: relative;}#sk-container-id-1 div.sk-text-repr-fallback {display: none;}</style><div id=\"sk-container-id-1\" class=\"sk-top-container\"><div class=\"sk-text-repr-fallback\"><pre>LinearRegression()</pre><b>In a Jupyter environment, please rerun this cell to show the HTML representation or trust the notebook. <br />On GitHub, the HTML representation is unable to render, please try loading this page with nbviewer.org.</b></div><div class=\"sk-container\" hidden><div class=\"sk-item\"><div class=\"sk-estimator sk-toggleable\"><input class=\"sk-toggleable__control sk-hidden--visually\" id=\"sk-estimator-id-1\" type=\"checkbox\" checked><label for=\"sk-estimator-id-1\" class=\"sk-toggleable__label sk-toggleable__label-arrow\">LinearRegression</label><div class=\"sk-toggleable__content\"><pre>LinearRegression()</pre></div></div></div></div></div>"
      ],
      "text/plain": [
       "LinearRegression()"
      ]
     },
     "execution_count": 11,
     "metadata": {},
     "output_type": "execute_result"
    }
   ],
   "source": [
    "from sklearn.linear_model import LinearRegression\n",
    "lr = LinearRegression()\n",
    "lr.fit(x_train,y_train)"
   ]
  },
  {
   "cell_type": "code",
   "execution_count": 12,
   "id": "28605ed2",
   "metadata": {
    "execution": {
     "iopub.execute_input": "2023-10-11T11:02:15.626050Z",
     "iopub.status.busy": "2023-10-11T11:02:15.625695Z",
     "iopub.status.idle": "2023-10-11T11:02:15.632424Z",
     "shell.execute_reply": "2023-10-11T11:02:15.631256Z"
    },
    "papermill": {
     "duration": 0.015883,
     "end_time": "2023-10-11T11:02:15.634451",
     "exception": false,
     "start_time": "2023-10-11T11:02:15.618568",
     "status": "completed"
    },
    "tags": []
   },
   "outputs": [
    {
     "name": "stdout",
     "output_type": "stream",
     "text": [
      "-0.5710955710955712\n"
     ]
    }
   ],
   "source": [
    "from sklearn.metrics import r2_score\n",
    "score = r2_score(y_test,lr.predict(x_test))\n",
    "print(score)"
   ]
  },
  {
   "cell_type": "code",
   "execution_count": 13,
   "id": "a2605020",
   "metadata": {
    "execution": {
     "iopub.execute_input": "2023-10-11T11:02:15.648127Z",
     "iopub.status.busy": "2023-10-11T11:02:15.647751Z",
     "iopub.status.idle": "2023-10-11T11:02:15.919635Z",
     "shell.execute_reply": "2023-10-11T11:02:15.918156Z"
    },
    "papermill": {
     "duration": 0.281412,
     "end_time": "2023-10-11T11:02:15.921890",
     "exception": false,
     "start_time": "2023-10-11T11:02:15.640478",
     "status": "completed"
    },
    "tags": []
   },
   "outputs": [
    {
     "data": {
      "text/plain": [
       "Text(0, 0.5, 'Estimated_Salary')"
      ]
     },
     "execution_count": 13,
     "metadata": {},
     "output_type": "execute_result"
    },
    {
     "data": {
      "image/png": "[encoded data removed]",
      "text/plain": [
       "<Figure size 640x480 with 1 Axes>"
      ]
     },
     "metadata": {},
     "output_type": "display_data"
    }
   ],
   "source": [
    "plt.plot(x_train,lr.predict(x_train),color = 'b')\n",
    "plt.scatter(x_train,y_train)\n",
    "plt.xlabel(\"Age\")\n",
    "plt.ylabel(\"Estimated_Salary\")"
   ]
  },
  {
   "cell_type": "code",
   "execution_count": 14,
   "id": "1b8ada9e",
   "metadata": {
    "execution": {
     "iopub.execute_input": "2023-10-11T11:02:15.936863Z",
     "iopub.status.busy": "2023-10-11T11:02:15.936461Z",
     "iopub.status.idle": "2023-10-11T11:02:15.941380Z",
     "shell.execute_reply": "2023-10-11T11:02:15.940236Z"
    },
    "papermill": {
     "duration": 0.014763,
     "end_time": "2023-10-11T11:02:15.943356",
     "exception": false,
     "start_time": "2023-10-11T11:02:15.928593",
     "status": "completed"
    },
    "tags": []
   },
   "outputs": [],
   "source": [
    "from sklearn.preprocessing import PolynomialFeatures"
   ]
  },
  {
   "cell_type": "code",
   "execution_count": 15,
   "id": "ad36b9bb",
   "metadata": {
    "execution": {
     "iopub.execute_input": "2023-10-11T11:02:15.957976Z",
     "iopub.status.busy": "2023-10-11T11:02:15.957588Z",
     "iopub.status.idle": "2023-10-11T11:02:15.964454Z",
     "shell.execute_reply": "2023-10-11T11:02:15.963367Z"
    },
    "papermill": {
     "duration": 0.016643,
     "end_time": "2023-10-11T11:02:15.966524",
     "exception": false,
     "start_time": "2023-10-11T11:02:15.949881",
     "status": "completed"
    },
    "tags": []
   },
   "outputs": [],
   "source": [
    "poly = PolynomialFeatures(degree = 100,include_bias = True)\n",
    "x_train_poly = poly.fit_transform(x_train)\n",
    "x_test_poly = poly.transform(x_test)"
   ]
  },
  {
   "cell_type": "code",
   "execution_count": 16,
   "id": "9806e177",
   "metadata": {
    "execution": {
     "iopub.execute_input": "2023-10-11T11:02:15.981527Z",
     "iopub.status.busy": "2023-10-11T11:02:15.981167Z",
     "iopub.status.idle": "2023-10-11T11:02:15.989349Z",
     "shell.execute_reply": "2023-10-11T11:02:15.988236Z"
    },
    "papermill": {
     "duration": 0.018181,
     "end_time": "2023-10-11T11:02:15.991406",
     "exception": false,
     "start_time": "2023-10-11T11:02:15.973225",
     "status": "completed"
    },
    "tags": []
   },
   "outputs": [
    {
     "data": {
      "text/plain": [
       "array([[1.00000000e+000, 2.70000000e+001, 7.29000000e+002,\n",
       "        1.96830000e+004, 5.31441000e+005, 1.43489070e+007,\n",
       "        3.87420489e+008, 1.04603532e+010, 2.82429536e+011,\n",
       "        7.62559748e+012, 2.05891132e+014, 5.55906057e+015,\n",
       "        1.50094635e+017, 4.05255515e+018, 1.09418989e+020,\n",
       "        2.95431271e+021, 7.97664431e+022, 2.15369396e+024,\n",
       "        5.81497370e+025, 1.57004290e+027, 4.23911583e+028,\n",
       "        1.14456127e+030, 3.09031544e+031, 8.34385168e+032,\n",
       "        2.25283995e+034, 6.08266788e+035, 1.64232033e+037,\n",
       "        4.43426488e+038, 1.19725152e+040, 3.23257910e+041,\n",
       "        8.72796357e+042, 2.35655016e+044, 6.36268544e+045,\n",
       "        1.71792507e+047, 4.63839769e+048, 1.25236738e+050,\n",
       "        3.38139191e+051, 9.12975817e+052, 2.46503470e+054,\n",
       "        6.65559370e+055, 1.79701030e+057, 4.85192781e+058,\n",
       "        1.31002051e+060, 3.53705537e+061, 9.55004951e+062,\n",
       "        2.57851337e+064, 6.96198609e+065, 1.87973624e+067,\n",
       "        5.07528786e+068, 1.37032772e+070, 3.69988485e+071,\n",
       "        9.98968910e+072, 2.69721606e+074, 7.28248335e+075,\n",
       "        1.96627050e+077, 5.30893036e+078, 1.43341120e+080,\n",
       "        3.87021023e+081, 1.04495676e+083, 2.82138326e+084,\n",
       "        7.61773480e+085, 2.05678840e+087, 5.55332867e+088,\n",
       "        1.49939874e+090, 4.04837660e+091, 1.09306168e+093,\n",
       "        2.95126654e+094, 7.96841967e+095, 2.15147331e+097,\n",
       "        5.80897794e+098, 1.56842404e+100, 4.23474492e+101,\n",
       "        1.14338113e+103, 3.08712904e+104, 8.33524842e+105,\n",
       "        2.25051707e+107, 6.07639610e+108, 1.64062695e+110,\n",
       "        4.42969275e+111, 1.19601704e+113, 3.22924602e+114,\n",
       "        8.71896425e+115, 2.35412035e+117, 6.35612494e+118,\n",
       "        1.71615373e+120, 4.63361508e+121, 1.25107607e+123,\n",
       "        3.37790539e+124, 9.12034456e+125, 2.46249303e+127,\n",
       "        6.64873118e+128, 1.79515742e+130, 4.84692503e+131,\n",
       "        1.30866976e+133, 3.53340835e+134, 9.54020254e+135,\n",
       "        2.57585469e+137, 6.95480765e+138, 1.87779807e+140,\n",
       "        5.07005478e+141, 1.36891479e+143]])"
      ]
     },
     "execution_count": 16,
     "metadata": {},
     "output_type": "execute_result"
    }
   ],
   "source": [
    "x_train_poly"
   ]
  },
  {
   "cell_type": "code",
   "execution_count": 17,
   "id": "2eb13f68",
   "metadata": {
    "execution": {
     "iopub.execute_input": "2023-10-11T11:02:16.006213Z",
     "iopub.status.busy": "2023-10-11T11:02:16.005823Z",
     "iopub.status.idle": "2023-10-11T11:02:16.017548Z",
     "shell.execute_reply": "2023-10-11T11:02:16.016365Z"
    },
    "papermill": {
     "duration": 0.021846,
     "end_time": "2023-10-11T11:02:16.019904",
     "exception": false,
     "start_time": "2023-10-11T11:02:15.998058",
     "status": "completed"
    },
    "tags": []
   },
   "outputs": [
    {
     "data": {
      "text/plain": [
       "array([[1.00000000e+000, 3.50000000e+001, 1.22500000e+003,\n",
       "        4.28750000e+004, 1.50062500e+006, 5.25218750e+007,\n",
       "        1.83826562e+009, 6.43392969e+010, 2.25187539e+012,\n",
       "        7.88156387e+013, 2.75854735e+015, 9.65491574e+016,\n",
       "        3.37922051e+018, 1.18272718e+020, 4.13954512e+021,\n",
       "        1.44884079e+023, 5.07094277e+024, 1.77482997e+026,\n",
       "        6.21190490e+027, 2.17416671e+029, 7.60958350e+030,\n",
       "        2.66335423e+032, 9.32173979e+033, 3.26260893e+035,\n",
       "        1.14191312e+037, 3.99669593e+038, 1.39884358e+040,\n",
       "        4.89595252e+041, 1.71358338e+043, 5.99754184e+044,\n",
       "        2.09913964e+046, 7.34698875e+047, 2.57144606e+049,\n",
       "        9.00006122e+050, 3.15002143e+052, 1.10250750e+054,\n",
       "        3.85877625e+055, 1.35057169e+057, 4.72700090e+058,\n",
       "        1.65445032e+060, 5.79057611e+061, 2.02670164e+063,\n",
       "        7.09345573e+064, 2.48270951e+066, 8.68948327e+067,\n",
       "        3.04131914e+069, 1.06446170e+071, 3.72561595e+072,\n",
       "        1.30396558e+074, 4.56387954e+075, 1.59735784e+077,\n",
       "        5.59075244e+078, 1.95676335e+080, 6.84867174e+081,\n",
       "        2.39703511e+083, 8.38962288e+084, 2.93636801e+086,\n",
       "        1.02772880e+088, 3.59705081e+089, 1.25896778e+091,\n",
       "        4.40638724e+092, 1.54223553e+094, 5.39782437e+095,\n",
       "        1.88923853e+097, 6.61233485e+098, 2.31431720e+100,\n",
       "        8.10011019e+101, 2.83503857e+103, 9.92263499e+104,\n",
       "        3.47292225e+106, 1.21552279e+108, 4.25432975e+109,\n",
       "        1.48901541e+111, 5.21155395e+112, 1.82404388e+114,\n",
       "        6.38415358e+115, 2.23445375e+117, 7.82058814e+118,\n",
       "        2.73720585e+120, 9.58022047e+121, 3.35307716e+123,\n",
       "        1.17357701e+125, 4.10751953e+126, 1.43763183e+128,\n",
       "        5.03171142e+129, 1.76109900e+131, 6.16384649e+132,\n",
       "        2.15734627e+134, 7.55071195e+135, 2.64274918e+137,\n",
       "        9.24962214e+138, 3.23736775e+140, 1.13307871e+142,\n",
       "        3.96577549e+143, 1.38802142e+145, 4.85807498e+146,\n",
       "        1.70032624e+148, 5.95114185e+149, 2.08289965e+151,\n",
       "        7.29014876e+152, 2.55155207e+154],\n",
       "       [1.00000000e+000, 1.90000000e+001, 3.61000000e+002,\n",
       "        6.85900000e+003, 1.30321000e+005, 2.47609900e+006,\n",
       "        4.70458810e+007, 8.93871739e+008, 1.69835630e+010,\n",
       "        3.22687698e+011, 6.13106626e+012, 1.16490259e+014,\n",
       "        2.21331492e+015, 4.20529835e+016, 7.99006686e+017,\n",
       "        1.51811270e+019, 2.88441414e+020, 5.48038686e+021,\n",
       "        1.04127350e+023, 1.97841966e+024, 3.75899735e+025,\n",
       "        7.14209496e+026, 1.35699804e+028, 2.57829628e+029,\n",
       "        4.89876293e+030, 9.30764957e+031, 1.76845342e+033,\n",
       "        3.36006149e+034, 6.38411684e+035, 1.21298220e+037,\n",
       "        2.30466618e+038, 4.37886574e+039, 8.31984491e+040,\n",
       "        1.58077053e+042, 3.00346401e+043, 5.70658162e+044,\n",
       "        1.08425051e+046, 2.06007597e+047, 3.91414433e+048,\n",
       "        7.43687423e+049, 1.41300610e+051, 2.68471160e+052,\n",
       "        5.10095204e+053, 9.69180887e+054, 1.84144369e+056,\n",
       "        3.49874300e+057, 6.64761170e+058, 1.26304622e+060,\n",
       "        2.39978783e+061, 4.55959687e+062, 8.66323405e+063,\n",
       "        1.64601447e+065, 3.12742749e+066, 5.94211223e+067,\n",
       "        1.12900132e+069, 2.14510252e+070, 4.07569478e+071,\n",
       "        7.74382009e+072, 1.47132582e+074, 2.79551905e+075,\n",
       "        5.31148620e+076, 1.00918238e+078, 1.91744652e+079,\n",
       "        3.64314838e+080, 6.92198193e+081, 1.31517657e+083,\n",
       "        2.49883548e+084, 4.74778740e+085, 9.02079607e+086,\n",
       "        1.71395125e+088, 3.25650738e+089, 6.18736402e+090,\n",
       "        1.17559916e+092, 2.23363841e+093, 4.24391298e+094,\n",
       "        8.06343467e+095, 1.53205259e+097, 2.91089991e+098,\n",
       "        5.53070984e+099, 1.05083487e+101, 1.99658625e+102,\n",
       "        3.79351388e+103, 7.20767637e+104, 1.36945851e+106,\n",
       "        2.60197117e+107, 4.94374522e+108, 9.39311592e+109,\n",
       "        1.78469202e+111, 3.39091485e+112, 6.44273821e+113,\n",
       "        1.22412026e+115, 2.32582849e+116, 4.41907414e+117,\n",
       "        8.39624086e+118, 1.59528576e+120, 3.03104295e+121,\n",
       "        5.75898161e+122, 1.09420651e+124, 2.07899236e+125,\n",
       "        3.95008548e+126, 7.50516242e+127],\n",
       "       [1.00000000e+000, 2.60000000e+001, 6.76000000e+002,\n",
       "        1.75760000e+004, 4.56976000e+005, 1.18813760e+007,\n",
       "        3.08915776e+008, 8.03181018e+009, 2.08827065e+011,\n",
       "        5.42950368e+012, 1.41167096e+014, 3.67034449e+015,\n",
       "        9.54289567e+016, 2.48115287e+018, 6.45099747e+019,\n",
       "        1.67725934e+021, 4.36087429e+022, 1.13382732e+024,\n",
       "        2.94795102e+025, 7.66467265e+026, 1.99281489e+028,\n",
       "        5.18131871e+029, 1.34714287e+031, 3.50257145e+032,\n",
       "        9.10668577e+033, 2.36773830e+035, 6.15611958e+036,\n",
       "        1.60059109e+038, 4.16153684e+039, 1.08199958e+041,\n",
       "        2.81319890e+042, 7.31431714e+043, 1.90172246e+045,\n",
       "        4.94447839e+046, 1.28556438e+048, 3.34246739e+049,\n",
       "        8.69041522e+050, 2.25950796e+052, 5.87472069e+053,\n",
       "        1.52742738e+055, 3.97131118e+056, 1.03254091e+058,\n",
       "        2.68460636e+059, 6.97997654e+060, 1.81479390e+062,\n",
       "        4.71846414e+063, 1.22680068e+065, 3.18968176e+066,\n",
       "        8.29317257e+067, 2.15622487e+069, 5.60618466e+070,\n",
       "        1.45760801e+072, 3.78978083e+073, 9.85343015e+074,\n",
       "        2.56189184e+076, 6.66091878e+077, 1.73183888e+079,\n",
       "        4.50278110e+080, 1.17072309e+082, 3.04388002e+083,\n",
       "        7.91408806e+084, 2.05766290e+086, 5.34992353e+087,\n",
       "        1.39098012e+089, 3.61654830e+090, 9.40302559e+091,\n",
       "        2.44478665e+093, 6.35644530e+094, 1.65267578e+096,\n",
       "        4.29695702e+097, 1.11720883e+099, 2.90474295e+100,\n",
       "        7.55233166e+101, 1.96360623e+103, 5.10537620e+104,\n",
       "        1.32739781e+106, 3.45123431e+107, 8.97320922e+108,\n",
       "        2.33303440e+110, 6.06588943e+111, 1.57713125e+113,\n",
       "        4.10054126e+114, 1.06614073e+116, 2.77196589e+117,\n",
       "        7.20711131e+118, 1.87384894e+120, 4.87200725e+121,\n",
       "        1.26672188e+123, 3.29347690e+124, 8.56303993e+125,\n",
       "        2.22639038e+127, 5.78861500e+128, 1.50503990e+130,\n",
       "        3.91310374e+131, 1.01740697e+133, 2.64525813e+134,\n",
       "        6.87767113e+135, 1.78819449e+137, 4.64930568e+138,\n",
       "        1.20881948e+140, 3.14293064e+141],\n",
       "       [1.00000000e+000, 1.90000000e+001, 3.61000000e+002,\n",
       "        6.85900000e+003, 1.30321000e+005, 2.47609900e+006,\n",
       "        4.70458810e+007, 8.93871739e+008, 1.69835630e+010,\n",
       "        3.22687698e+011, 6.13106626e+012, 1.16490259e+014,\n",
       "        2.21331492e+015, 4.20529835e+016, 7.99006686e+017,\n",
       "        1.51811270e+019, 2.88441414e+020, 5.48038686e+021,\n",
       "        1.04127350e+023, 1.97841966e+024, 3.75899735e+025,\n",
       "        7.14209496e+026, 1.35699804e+028, 2.57829628e+029,\n",
       "        4.89876293e+030, 9.30764957e+031, 1.76845342e+033,\n",
       "        3.36006149e+034, 6.38411684e+035, 1.21298220e+037,\n",
       "        2.30466618e+038, 4.37886574e+039, 8.31984491e+040,\n",
       "        1.58077053e+042, 3.00346401e+043, 5.70658162e+044,\n",
       "        1.08425051e+046, 2.06007597e+047, 3.91414433e+048,\n",
       "        7.43687423e+049, 1.41300610e+051, 2.68471160e+052,\n",
       "        5.10095204e+053, 9.69180887e+054, 1.84144369e+056,\n",
       "        3.49874300e+057, 6.64761170e+058, 1.26304622e+060,\n",
       "        2.39978783e+061, 4.55959687e+062, 8.66323405e+063,\n",
       "        1.64601447e+065, 3.12742749e+066, 5.94211223e+067,\n",
       "        1.12900132e+069, 2.14510252e+070, 4.07569478e+071,\n",
       "        7.74382009e+072, 1.47132582e+074, 2.79551905e+075,\n",
       "        5.31148620e+076, 1.00918238e+078, 1.91744652e+079,\n",
       "        3.64314838e+080, 6.92198193e+081, 1.31517657e+083,\n",
       "        2.49883548e+084, 4.74778740e+085, 9.02079607e+086,\n",
       "        1.71395125e+088, 3.25650738e+089, 6.18736402e+090,\n",
       "        1.17559916e+092, 2.23363841e+093, 4.24391298e+094,\n",
       "        8.06343467e+095, 1.53205259e+097, 2.91089991e+098,\n",
       "        5.53070984e+099, 1.05083487e+101, 1.99658625e+102,\n",
       "        3.79351388e+103, 7.20767637e+104, 1.36945851e+106,\n",
       "        2.60197117e+107, 4.94374522e+108, 9.39311592e+109,\n",
       "        1.78469202e+111, 3.39091485e+112, 6.44273821e+113,\n",
       "        1.22412026e+115, 2.32582849e+116, 4.41907414e+117,\n",
       "        8.39624086e+118, 1.59528576e+120, 3.03104295e+121,\n",
       "        5.75898161e+122, 1.09420651e+124, 2.07899236e+125,\n",
       "        3.95008548e+126, 7.50516242e+127]])"
      ]
     },
     "execution_count": 17,
     "metadata": {},
     "output_type": "execute_result"
    }
   ],
   "source": [
    "x_test_poly"
   ]
  },
  {
   "cell_type": "code",
   "execution_count": 18,
   "id": "34eb60dd",
   "metadata": {
    "execution": {
     "iopub.execute_input": "2023-10-11T11:02:16.035563Z",
     "iopub.status.busy": "2023-10-11T11:02:16.035191Z",
     "iopub.status.idle": "2023-10-11T11:02:16.050298Z",
     "shell.execute_reply": "2023-10-11T11:02:16.048898Z"
    },
    "papermill": {
     "duration": 0.025567,
     "end_time": "2023-10-11T11:02:16.052506",
     "exception": false,
     "start_time": "2023-10-11T11:02:16.026939",
     "status": "completed"
    },
    "tags": []
   },
   "outputs": [
    {
     "name": "stdout",
     "output_type": "stream",
     "text": [
      "-0.5710955710955712\n"
     ]
    }
   ],
   "source": [
    "from sklearn.metrics import r2_score\n",
    "reg = LinearRegression()\n",
    "reg.fit(x_train_poly,y_train)\n",
    "y_pred = reg.predict(x_test_poly)\n",
    "score = r2_score(y_test,y_pred)\n",
    "print(score)"
   ]
  },
  {
   "cell_type": "code",
   "execution_count": 19,
   "id": "177d7f2a",
   "metadata": {
    "execution": {
     "iopub.execute_input": "2023-10-11T11:02:16.068442Z",
     "iopub.status.busy": "2023-10-11T11:02:16.068089Z",
     "iopub.status.idle": "2023-10-11T11:02:16.073862Z",
     "shell.execute_reply": "2023-10-11T11:02:16.072660Z"
    },
    "papermill": {
     "duration": 0.016399,
     "end_time": "2023-10-11T11:02:16.075903",
     "exception": false,
     "start_time": "2023-10-11T11:02:16.059504",
     "status": "completed"
    },
    "tags": []
   },
   "outputs": [
    {
     "name": "stdout",
     "output_type": "stream",
     "text": [
      "[0. 0. 0. 0. 0. 0. 0. 0. 0. 0. 0. 0. 0. 0. 0. 0. 0. 0. 0. 0. 0. 0. 0. 0.\n",
      " 0. 0. 0. 0. 0. 0. 0. 0. 0. 0. 0. 0. 0. 0. 0. 0. 0. 0. 0. 0. 0. 0. 0. 0.\n",
      " 0. 0. 0. 0. 0. 0. 0. 0. 0. 0. 0. 0. 0. 0. 0. 0. 0. 0. 0. 0. 0. 0. 0. 0.\n",
      " 0. 0. 0. 0. 0. 0. 0. 0. 0. 0. 0. 0. 0. 0. 0. 0. 0. 0. 0. 0. 0. 0. 0. 0.\n",
      " 0. 0. 0. 0. 0.]\n"
     ]
    }
   ],
   "source": [
    "print(reg.coef_)"
   ]
  },
  {
   "cell_type": "code",
   "execution_count": 20,
   "id": "9890272b",
   "metadata": {
    "execution": {
     "iopub.execute_input": "2023-10-11T11:02:16.091961Z",
     "iopub.status.busy": "2023-10-11T11:02:16.091539Z",
     "iopub.status.idle": "2023-10-11T11:02:16.096912Z",
     "shell.execute_reply": "2023-10-11T11:02:16.095797Z"
    },
    "papermill": {
     "duration": 0.015997,
     "end_time": "2023-10-11T11:02:16.098978",
     "exception": false,
     "start_time": "2023-10-11T11:02:16.082981",
     "status": "completed"
    },
    "tags": []
   },
   "outputs": [
    {
     "name": "stdout",
     "output_type": "stream",
     "text": [
      "57000.0\n"
     ]
    }
   ],
   "source": [
    "print(reg.intercept_)"
   ]
  },
  {
   "cell_type": "code",
   "execution_count": 21,
   "id": "d3db5fa2",
   "metadata": {
    "execution": {
     "iopub.execute_input": "2023-10-11T11:02:16.114576Z",
     "iopub.status.busy": "2023-10-11T11:02:16.114193Z",
     "iopub.status.idle": "2023-10-11T11:02:16.382527Z",
     "shell.execute_reply": "2023-10-11T11:02:16.381270Z"
    },
    "papermill": {
     "duration": 0.278693,
     "end_time": "2023-10-11T11:02:16.384628",
     "exception": false,
     "start_time": "2023-10-11T11:02:16.105935",
     "status": "completed"
    },
    "tags": []
   },
   "outputs": [
    {
     "data": {
      "text/plain": [
       "<matplotlib.collections.PathCollection at 0x7c5b44281090>"
      ]
     },
     "execution_count": 21,
     "metadata": {},
     "output_type": "execute_result"
    },
    {
     "data": {
      "image/png": "[encoded data removed]",
      "text/plain": [
       "<Figure size 640x480 with 1 Axes>"
      ]
     },
     "metadata": {},
     "output_type": "display_data"
    }
   ],
   "source": [
    "plt.scatter(x_train,reg.predict(x_train_poly))\n",
    "plt.scatter(x_train,y_train)"
   ]
  },
  {
   "cell_type": "code",
   "execution_count": 22,
   "id": "45c47158",
   "metadata": {
    "execution": {
     "iopub.execute_input": "2023-10-11T11:02:16.402811Z",
     "iopub.status.busy": "2023-10-11T11:02:16.401785Z",
     "iopub.status.idle": "2023-10-11T11:02:16.411059Z",
     "shell.execute_reply": "2023-10-11T11:02:16.409881Z"
    },
    "papermill": {
     "duration": 0.021321,
     "end_time": "2023-10-11T11:02:16.413772",
     "exception": false,
     "start_time": "2023-10-11T11:02:16.392451",
     "status": "completed"
    },
    "tags": []
   },
   "outputs": [
    {
     "data": {
      "text/plain": [
       "array([[ 1.00000000e+00, -3.00000000e+00,  9.00000000e+00, ...,\n",
       "         5.72641690e+46, -1.71792507e+47,  5.15377521e+47],\n",
       "       [ 1.00000000e+00, -2.96984925e+00,  8.82000455e+00, ...,\n",
       "         2.12800007e+46, -6.31983941e+46,  1.87689703e+47],\n",
       "       [ 1.00000000e+00, -2.93969849e+00,  8.64182723e+00, ...,\n",
       "         7.82840684e+45, -2.30131558e+46,  6.76517394e+46],\n",
       "       ...,\n",
       "       [ 1.00000000e+00,  2.93969849e+00,  8.64182723e+00, ...,\n",
       "         7.82840684e+45,  2.30131558e+46,  6.76517394e+46],\n",
       "       [ 1.00000000e+00,  2.96984925e+00,  8.82000455e+00, ...,\n",
       "         2.12800007e+46,  6.31983941e+46,  1.87689703e+47],\n",
       "       [ 1.00000000e+00,  3.00000000e+00,  9.00000000e+00, ...,\n",
       "         5.72641690e+46,  1.71792507e+47,  5.15377521e+47]])"
      ]
     },
     "execution_count": 22,
     "metadata": {},
     "output_type": "execute_result"
    }
   ],
   "source": [
    "x_new = np.linspace(-3,3,200).reshape(200,1)\n",
    "x_new_poly = poly.transform(x_new)\n",
    "x_new_poly"
   ]
  },
  {
   "cell_type": "code",
   "execution_count": 23,
   "id": "8b923948",
   "metadata": {
    "execution": {
     "iopub.execute_input": "2023-10-11T11:02:16.431364Z",
     "iopub.status.busy": "2023-10-11T11:02:16.430339Z",
     "iopub.status.idle": "2023-10-11T11:02:16.736412Z",
     "shell.execute_reply": "2023-10-11T11:02:16.735289Z"
    },
    "papermill": {
     "duration": 0.317237,
     "end_time": "2023-10-11T11:02:16.738734",
     "exception": false,
     "start_time": "2023-10-11T11:02:16.421497",
     "status": "completed"
    },
    "tags": []
   },
   "outputs": [
    {
     "data": {
      "image/png": "[encoded data removed]",
      "text/plain": [
       "<Figure size 640x480 with 1 Axes>"
      ]
     },
     "metadata": {},
     "output_type": "display_data"
    }
   ],
   "source": [
    "y_new = reg.predict(x_new_poly)\n",
    "plt.plot(x_new,y_new,\"r-\",linewidth = 2,label = \"New Predictions\")\n",
    "plt.plot(x_train,y_train,\"b.\",label = 'Training_Points')\n",
    "plt.plot(x_test,y_test,\"g.\",label = 'Testing_points')\n",
    "plt.xlabel(\"Age\")\n",
    "plt.ylabel(\"Estimated_Salary\")\n",
    "plt.legend()\n",
    "plt.show()"
   ]
  }
 ],
 "metadata": {
  "kernelspec": {
   "display_name": "Python 3",
   "language": "python",
   "name": "python3"
  },
  "language_info": {
   "codemirror_mode": {
    "name": "ipython",
    "version": 3
   },
   "file_extension": ".py",
   "mimetype": "text/x-python",
   "name": "python",
   "nbconvert_exporter": "python",
   "pygments_lexer": "ipython3",
   "version": "3.10.12"
  },
  "papermill": {
   "default_parameters": {},
   "duration": 7.662512,
   "end_time": "2023-10-11T11:02:17.369003",
   "environment_variables": {},
   "exception": null,
   "input_path": "__notebook__.ipynb",
   "output_path": "__notebook__.ipynb",
   "parameters": {},
   "start_time": "2023-10-11T11:02:09.706491",
   "version": "2.4.0"
  }
 },
 "nbformat": 4,
 "nbformat_minor": 5
}
