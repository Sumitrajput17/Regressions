{
 "cells": [
  {
   "cell_type": "code",
   "execution_count": 1,
   "id": "8409f4da",
   "metadata": {
    "_cell_guid": "b1076dfc-b9ad-4769-8c92-a6c4dae69d19",
    "_uuid": "8f2839f25d086af736a60e9eeb907d3b93b6e0e5",
    "execution": {
     "iopub.execute_input": "2023-10-08T18:14:44.598400Z",
     "iopub.status.busy": "2023-10-08T18:14:44.597840Z",
     "iopub.status.idle": "2023-10-08T18:14:45.002187Z",
     "shell.execute_reply": "2023-10-08T18:14:45.001031Z"
    },
    "papermill": {
     "duration": 0.415372,
     "end_time": "2023-10-08T18:14:45.004566",
     "exception": false,
     "start_time": "2023-10-08T18:14:44.589194",
     "status": "completed"
    },
    "tags": []
   },
   "outputs": [
    {
     "name": "stdout",
     "output_type": "stream",
     "text": [
      "/kaggle/input/spammsg/spambase.DOCUMENTATION\n",
      "/kaggle/input/spammsg/spambase.data\n",
      "/kaggle/input/spammsg/spambase.names\n",
      "/kaggle/input/iris/Iris.csv\n",
      "/kaggle/input/iris/database.sqlite\n"
     ]
    }
   ],
   "source": [
    "# This Python 3 environment comes with many helpful analytics libraries installed\n",
    "# It is defined by the kaggle/python Docker image: https://github.com/kaggle/docker-python\n",
    "# For example, here's several helpful packages to load\n",
    "\n",
    "import numpy as np # linear algebra\n",
    "import pandas as pd # data processing, CSV file I/O (e.g. pd.read_csv)\n",
    "\n",
    "# Input data files are available in the read-only \"../input/\" directory\n",
    "# For example, running this (by clicking run or pressing Shift+Enter) will list all files under the input directory\n",
    "\n",
    "import os\n",
    "for dirname, _, filenames in os.walk('/kaggle/input'):\n",
    "    for filename in filenames:\n",
    "        print(os.path.join(dirname, filename))\n",
    "\n",
    "# You can write up to 20GB to the current directory (/kaggle/working/) that gets preserved as output when you create a version using \"Save & Run All\" \n",
    "# You can also write temporary files to /kaggle/temp/, but they won't be saved outside of the current session"
   ]
  },
  {
   "cell_type": "code",
   "execution_count": 2,
   "id": "08a803b9",
   "metadata": {
    "execution": {
     "iopub.execute_input": "2023-10-08T18:14:45.018437Z",
     "iopub.status.busy": "2023-10-08T18:14:45.017973Z",
     "iopub.status.idle": "2023-10-08T18:14:45.022812Z",
     "shell.execute_reply": "2023-10-08T18:14:45.021754Z"
    },
    "papermill": {
     "duration": 0.014546,
     "end_time": "2023-10-08T18:14:45.025218",
     "exception": false,
     "start_time": "2023-10-08T18:14:45.010672",
     "status": "completed"
    },
    "tags": []
   },
   "outputs": [],
   "source": [
    "x = np.array([5.1,4.9,4.7,4.6,5,5.4,4.6])\n",
    "y = np.array([3.5,3,3.2,3.1,3.6,3.9,3.4])"
   ]
  },
  {
   "cell_type": "code",
   "execution_count": 3,
   "id": "69e6049b",
   "metadata": {
    "execution": {
     "iopub.execute_input": "2023-10-08T18:14:45.039304Z",
     "iopub.status.busy": "2023-10-08T18:14:45.038961Z",
     "iopub.status.idle": "2023-10-08T18:14:45.043811Z",
     "shell.execute_reply": "2023-10-08T18:14:45.042559Z"
    },
    "papermill": {
     "duration": 0.014583,
     "end_time": "2023-10-08T18:14:45.045789",
     "exception": false,
     "start_time": "2023-10-08T18:14:45.031206",
     "status": "completed"
    },
    "tags": []
   },
   "outputs": [],
   "source": [
    "import matplotlib.pyplot as plt"
   ]
  },
  {
   "cell_type": "code",
   "execution_count": 4,
   "id": "58bf06ef",
   "metadata": {
    "execution": {
     "iopub.execute_input": "2023-10-08T18:14:45.059324Z",
     "iopub.status.busy": "2023-10-08T18:14:45.058976Z",
     "iopub.status.idle": "2023-10-08T18:14:45.381899Z",
     "shell.execute_reply": "2023-10-08T18:14:45.380619Z"
    },
    "papermill": {
     "duration": 0.332958,
     "end_time": "2023-10-08T18:14:45.384696",
     "exception": false,
     "start_time": "2023-10-08T18:14:45.051738",
     "status": "completed"
    },
    "tags": []
   },
   "outputs": [
    {
     "data": {
      "image/png": "[encoded data removed]",
      "text/plain": [
       "<Figure size 500x300 with 1 Axes>"
      ]
     },
     "metadata": {},
     "output_type": "display_data"
    }
   ],
   "source": [
    "plt.figure(figsize=(5,3))\n",
    "plt.xlabel('Sepal Length')\n",
    "plt.ylabel('Sepal Width')\n",
    "plt.title('Length vs Width')\n",
    "plt.scatter(x,y)\n",
    "plt.legend(['train_data'])\n",
    "plt.show()\n"
   ]
  },
  {
   "cell_type": "code",
   "execution_count": 5,
   "id": "0ba7a996",
   "metadata": {
    "execution": {
     "iopub.execute_input": "2023-10-08T18:14:45.399474Z",
     "iopub.status.busy": "2023-10-08T18:14:45.399058Z",
     "iopub.status.idle": "2023-10-08T18:14:47.114320Z",
     "shell.execute_reply": "2023-10-08T18:14:47.112975Z"
    },
    "papermill": {
     "duration": 1.725524,
     "end_time": "2023-10-08T18:14:47.116711",
     "exception": false,
     "start_time": "2023-10-08T18:14:45.391187",
     "status": "completed"
    },
    "tags": []
   },
   "outputs": [
    {
     "data": {
      "text/html": [
       "<style>#sk-container-id-1 {color: black;background-color: white;}#sk-container-id-1 pre{padding: 0;}#sk-container-id-1 div.sk-toggleable {background-color: white;}#sk-container-id-1 label.sk-toggleable__label {cursor: pointer;display: block;width: 100%;margin-bottom: 0;padding: 0.3em;box-sizing: border-box;text-align: center;}#sk-container-id-1 label.sk-toggleable__label-arrow:before {content: \"▸\";float: left;margin-right: 0.25em;color: #696969;}#sk-container-id-1 label.sk-toggleable__label-arrow:hover:before {color: black;}#sk-container-id-1 div.sk-estimator:hover label.sk-toggleable__label-arrow:before {color: black;}#sk-container-id-1 div.sk-toggleable__content {max-height: 0;max-width: 0;overflow: hidden;text-align: left;background-color: #f0f8ff;}#sk-container-id-1 div.sk-toggleable__content pre {margin: 0.2em;color: black;border-radius: 0.25em;background-color: #f0f8ff;}#sk-container-id-1 input.sk-toggleable__control:checked~div.sk-toggleable__content {max-height: 200px;max-width: 100%;overflow: auto;}#sk-container-id-1 input.sk-toggleable__control:checked~label.sk-toggleable__label-arrow:before {content: \"▾\";}#sk-container-id-1 div.sk-estimator input.sk-toggleable__control:checked~label.sk-toggleable__label {background-color: #d4ebff;}#sk-container-id-1 div.sk-label input.sk-toggleable__control:checked~label.sk-toggleable__label {background-color: #d4ebff;}#sk-container-id-1 input.sk-hidden--visually {border: 0;clip: rect(1px 1px 1px 1px);clip: rect(1px, 1px, 1px, 1px);height: 1px;margin: -1px;overflow: hidden;padding: 0;position: absolute;width: 1px;}#sk-container-id-1 div.sk-estimator {font-family: monospace;background-color: #f0f8ff;border: 1px dotted black;border-radius: 0.25em;box-sizing: border-box;margin-bottom: 0.5em;}#sk-container-id-1 div.sk-estimator:hover {background-color: #d4ebff;}#sk-container-id-1 div.sk-parallel-item::after {content: \"\";width: 100%;border-bottom: 1px solid gray;flex-grow: 1;}#sk-container-id-1 div.sk-label:hover label.sk-toggleable__label {background-color: #d4ebff;}#sk-container-id-1 div.sk-serial::before {content: \"\";position: absolute;border-left: 1px solid gray;box-sizing: border-box;top: 0;bottom: 0;left: 50%;z-index: 0;}#sk-container-id-1 div.sk-serial {display: flex;flex-direction: column;align-items: center;background-color: white;padding-right: 0.2em;padding-left: 0.2em;position: relative;}#sk-container-id-1 div.sk-item {position: relative;z-index: 1;}#sk-container-id-1 div.sk-parallel {display: flex;align-items: stretch;justify-content: center;background-color: white;position: relative;}#sk-container-id-1 div.sk-item::before, #sk-container-id-1 div.sk-parallel-item::before {content: \"\";position: absolute;border-left: 1px solid gray;box-sizing: border-box;top: 0;bottom: 0;left: 50%;z-index: -1;}#sk-container-id-1 div.sk-parallel-item {display: flex;flex-direction: column;z-index: 1;position: relative;background-color: white;}#sk-container-id-1 div.sk-parallel-item:first-child::after {align-self: flex-end;width: 50%;}#sk-container-id-1 div.sk-parallel-item:last-child::after {align-self: flex-start;width: 50%;}#sk-container-id-1 div.sk-parallel-item:only-child::after {width: 0;}#sk-container-id-1 div.sk-dashed-wrapped {border: 1px dashed gray;margin: 0 0.4em 0.5em 0.4em;box-sizing: border-box;padding-bottom: 0.4em;background-color: white;}#sk-container-id-1 div.sk-label label {font-family: monospace;font-weight: bold;display: inline-block;line-height: 1.2em;}#sk-container-id-1 div.sk-label-container {text-align: center;}#sk-container-id-1 div.sk-container {/* jupyter's `normalize.less` sets `[hidden] { display: none; }` but bootstrap.min.css set `[hidden] { display: none !important; }` so we also need the `!important` here to be able to override the default hidden behavior on the sphinx rendered scikit-learn.org. See: https://github.com/scikit-learn/scikit-learn/issues/21755 */display: inline-block !important;position: relative;}#sk-container-id-1 div.sk-text-repr-fallback {display: none;}</style><div id=\"sk-container-id-1\" class=\"sk-top-container\"><div class=\"sk-text-repr-fallback\"><pre>LinearRegression()</pre><b>In a Jupyter environment, please rerun this cell to show the HTML representation or trust the notebook. <br />On GitHub, the HTML representation is unable to render, please try loading this page with nbviewer.org.</b></div><div class=\"sk-container\" hidden><div class=\"sk-item\"><div class=\"sk-estimator sk-toggleable\"><input class=\"sk-toggleable__control sk-hidden--visually\" id=\"sk-estimator-id-1\" type=\"checkbox\" checked><label for=\"sk-estimator-id-1\" class=\"sk-toggleable__label sk-toggleable__label-arrow\">LinearRegression</label><div class=\"sk-toggleable__content\"><pre>LinearRegression()</pre></div></div></div></div></div>"
      ],
      "text/plain": [
       "LinearRegression()"
      ]
     },
     "execution_count": 5,
     "metadata": {},
     "output_type": "execute_result"
    }
   ],
   "source": [
    "from sklearn.linear_model import LinearRegression\n",
    "model = LinearRegression()\n",
    "x = x.reshape(-1,1)\n",
    "model.fit(x,y)"
   ]
  },
  {
   "cell_type": "code",
   "execution_count": 6,
   "id": "58da5724",
   "metadata": {
    "execution": {
     "iopub.execute_input": "2023-10-08T18:14:47.132375Z",
     "iopub.status.busy": "2023-10-08T18:14:47.131239Z",
     "iopub.status.idle": "2023-10-08T18:14:47.136405Z",
     "shell.execute_reply": "2023-10-08T18:14:47.135595Z"
    },
    "papermill": {
     "duration": 0.014908,
     "end_time": "2023-10-08T18:14:47.138608",
     "exception": false,
     "start_time": "2023-10-08T18:14:47.123700",
     "status": "completed"
    },
    "tags": []
   },
   "outputs": [],
   "source": [
    "predicted_value = model.predict(x)"
   ]
  },
  {
   "cell_type": "code",
   "execution_count": 7,
   "id": "2fabe1d2",
   "metadata": {
    "execution": {
     "iopub.execute_input": "2023-10-08T18:14:47.154798Z",
     "iopub.status.busy": "2023-10-08T18:14:47.154096Z",
     "iopub.status.idle": "2023-10-08T18:14:47.448050Z",
     "shell.execute_reply": "2023-10-08T18:14:47.446827Z"
    },
    "papermill": {
     "duration": 0.30439,
     "end_time": "2023-10-08T18:14:47.450446",
     "exception": false,
     "start_time": "2023-10-08T18:14:47.146056",
     "status": "completed"
    },
    "tags": []
   },
   "outputs": [
    {
     "data": {
      "image/png": "[encoded data removed]",
      "text/plain": [
       "<Figure size 500x300 with 1 Axes>"
      ]
     },
     "metadata": {},
     "output_type": "display_data"
    }
   ],
   "source": [
    "plt.figure(figsize=(5,3))\n",
    "plt.xlabel('Sepal Length')\n",
    "plt.ylabel('Sepal Width')\n",
    "plt.title('Length vs Width')\n",
    "plt.scatter(x,y)\n",
    "plt.plot(x,predicted_value,color='red')\n",
    "plt.legend(['train_data'])\n",
    "plt.show()"
   ]
  },
  {
   "cell_type": "code",
   "execution_count": 8,
   "id": "b30cb458",
   "metadata": {
    "execution": {
     "iopub.execute_input": "2023-10-08T18:14:47.466221Z",
     "iopub.status.busy": "2023-10-08T18:14:47.465865Z",
     "iopub.status.idle": "2023-10-08T18:14:47.471911Z",
     "shell.execute_reply": "2023-10-08T18:14:47.470946Z"
    },
    "papermill": {
     "duration": 0.016227,
     "end_time": "2023-10-08T18:14:47.473790",
     "exception": false,
     "start_time": "2023-10-08T18:14:47.457563",
     "status": "completed"
    },
    "tags": []
   },
   "outputs": [
    {
     "data": {
      "text/plain": [
       "-0.5719780219780177"
      ]
     },
     "execution_count": 8,
     "metadata": {},
     "output_type": "execute_result"
    }
   ],
   "source": [
    "model.intercept_"
   ]
  },
  {
   "cell_type": "code",
   "execution_count": 9,
   "id": "486dc901",
   "metadata": {
    "execution": {
     "iopub.execute_input": "2023-10-08T18:14:47.489822Z",
     "iopub.status.busy": "2023-10-08T18:14:47.489423Z",
     "iopub.status.idle": "2023-10-08T18:14:47.788615Z",
     "shell.execute_reply": "2023-10-08T18:14:47.787643Z"
    },
    "papermill": {
     "duration": 0.309433,
     "end_time": "2023-10-08T18:14:47.790498",
     "exception": false,
     "start_time": "2023-10-08T18:14:47.481065",
     "status": "completed"
    },
    "tags": []
   },
   "outputs": [
    {
     "data": {
      "image/png": "[encoded data removed]",
      "text/plain": [
       "<Figure size 500x300 with 1 Axes>"
      ]
     },
     "metadata": {},
     "output_type": "display_data"
    }
   ],
   "source": [
    "plt.figure(figsize=(5,3))\n",
    "plt.xlabel('Sepal Length')\n",
    "plt.ylabel('Sepal Width')\n",
    "plt.title('Length vs Width')\n",
    "plt.scatter(x,y,color='red')\n",
    "plt.plot(x,predicted_value,color='lightblue')\n",
    "x_test = np.array([6,7])\n",
    "plt.scatter(x_test,model.predict(x_test.reshape(-1,1)),color='darkgreen')\n",
    "plt.legend(['train_data','best_fit_line','test_data'])\n",
    "plt.show()"
   ]
  },
  {
   "cell_type": "code",
   "execution_count": 10,
   "id": "fde2d561",
   "metadata": {
    "execution": {
     "iopub.execute_input": "2023-10-08T18:14:47.807955Z",
     "iopub.status.busy": "2023-10-08T18:14:47.807264Z",
     "iopub.status.idle": "2023-10-08T18:14:47.824482Z",
     "shell.execute_reply": "2023-10-08T18:14:47.823260Z"
    },
    "papermill": {
     "duration": 0.029,
     "end_time": "2023-10-08T18:14:47.827075",
     "exception": false,
     "start_time": "2023-10-08T18:14:47.798075",
     "status": "completed"
    },
    "tags": []
   },
   "outputs": [],
   "source": [
    "path = '/kaggle/input/iris/Iris.csv'\n",
    "df = pd.read_csv(path)"
   ]
  },
  {
   "cell_type": "code",
   "execution_count": 11,
   "id": "d28790a0",
   "metadata": {
    "execution": {
     "iopub.execute_input": "2023-10-08T18:14:47.846001Z",
     "iopub.status.busy": "2023-10-08T18:14:47.845206Z",
     "iopub.status.idle": "2023-10-08T18:14:47.854710Z",
     "shell.execute_reply": "2023-10-08T18:14:47.852995Z"
    },
    "papermill": {
     "duration": 0.022094,
     "end_time": "2023-10-08T18:14:47.856842",
     "exception": false,
     "start_time": "2023-10-08T18:14:47.834748",
     "status": "completed"
    },
    "tags": []
   },
   "outputs": [
    {
     "data": {
      "text/plain": [
       "(150, 6)"
      ]
     },
     "execution_count": 11,
     "metadata": {},
     "output_type": "execute_result"
    }
   ],
   "source": [
    "df.shape"
   ]
  },
  {
   "cell_type": "code",
   "execution_count": 12,
   "id": "c413a38d",
   "metadata": {
    "execution": {
     "iopub.execute_input": "2023-10-08T18:14:47.886504Z",
     "iopub.status.busy": "2023-10-08T18:14:47.885320Z",
     "iopub.status.idle": "2023-10-08T18:14:47.912174Z",
     "shell.execute_reply": "2023-10-08T18:14:47.911174Z"
    },
    "papermill": {
     "duration": 0.044832,
     "end_time": "2023-10-08T18:14:47.914266",
     "exception": false,
     "start_time": "2023-10-08T18:14:47.869434",
     "status": "completed"
    },
    "tags": []
   },
   "outputs": [
    {
     "data": {
      "text/html": [
       "<div>\n",
       "<style scoped>\n",
       "    .dataframe tbody tr th:only-of-type {\n",
       "        vertical-align: middle;\n",
       "    }\n",
       "\n",
       "    .dataframe tbody tr th {\n",
       "        vertical-align: top;\n",
       "    }\n",
       "\n",
       "    .dataframe thead th {\n",
       "        text-align: right;\n",
       "    }\n",
       "</style>\n",
       "<table border=\"1\" class=\"dataframe\">\n",
       "  <thead>\n",
       "    <tr style=\"text-align: right;\">\n",
       "      <th></th>\n",
       "      <th>Id</th>\n",
       "      <th>SepalLengthCm</th>\n",
       "      <th>SepalWidthCm</th>\n",
       "      <th>PetalLengthCm</th>\n",
       "      <th>PetalWidthCm</th>\n",
       "      <th>Species</th>\n",
       "    </tr>\n",
       "  </thead>\n",
       "  <tbody>\n",
       "    <tr>\n",
       "      <th>0</th>\n",
       "      <td>1</td>\n",
       "      <td>5.1</td>\n",
       "      <td>3.5</td>\n",
       "      <td>1.4</td>\n",
       "      <td>0.2</td>\n",
       "      <td>Iris-setosa</td>\n",
       "    </tr>\n",
       "    <tr>\n",
       "      <th>1</th>\n",
       "      <td>2</td>\n",
       "      <td>4.9</td>\n",
       "      <td>3.0</td>\n",
       "      <td>1.4</td>\n",
       "      <td>0.2</td>\n",
       "      <td>Iris-setosa</td>\n",
       "    </tr>\n",
       "    <tr>\n",
       "      <th>2</th>\n",
       "      <td>3</td>\n",
       "      <td>4.7</td>\n",
       "      <td>3.2</td>\n",
       "      <td>1.3</td>\n",
       "      <td>0.2</td>\n",
       "      <td>Iris-setosa</td>\n",
       "    </tr>\n",
       "    <tr>\n",
       "      <th>3</th>\n",
       "      <td>4</td>\n",
       "      <td>4.6</td>\n",
       "      <td>3.1</td>\n",
       "      <td>1.5</td>\n",
       "      <td>0.2</td>\n",
       "      <td>Iris-setosa</td>\n",
       "    </tr>\n",
       "    <tr>\n",
       "      <th>4</th>\n",
       "      <td>5</td>\n",
       "      <td>5.0</td>\n",
       "      <td>3.6</td>\n",
       "      <td>1.4</td>\n",
       "      <td>0.2</td>\n",
       "      <td>Iris-setosa</td>\n",
       "    </tr>\n",
       "  </tbody>\n",
       "</table>\n",
       "</div>"
      ],
      "text/plain": [
       "   Id  SepalLengthCm  SepalWidthCm  PetalLengthCm  PetalWidthCm      Species\n",
       "0   1            5.1           3.5            1.4           0.2  Iris-setosa\n",
       "1   2            4.9           3.0            1.4           0.2  Iris-setosa\n",
       "2   3            4.7           3.2            1.3           0.2  Iris-setosa\n",
       "3   4            4.6           3.1            1.5           0.2  Iris-setosa\n",
       "4   5            5.0           3.6            1.4           0.2  Iris-setosa"
      ]
     },
     "execution_count": 12,
     "metadata": {},
     "output_type": "execute_result"
    }
   ],
   "source": [
    "df.head()"
   ]
  },
  {
   "cell_type": "code",
   "execution_count": 13,
   "id": "a1640186",
   "metadata": {
    "execution": {
     "iopub.execute_input": "2023-10-08T18:14:47.932085Z",
     "iopub.status.busy": "2023-10-08T18:14:47.931647Z",
     "iopub.status.idle": "2023-10-08T18:14:47.942723Z",
     "shell.execute_reply": "2023-10-08T18:14:47.941613Z"
    },
    "papermill": {
     "duration": 0.022644,
     "end_time": "2023-10-08T18:14:47.944830",
     "exception": false,
     "start_time": "2023-10-08T18:14:47.922186",
     "status": "completed"
    },
    "tags": []
   },
   "outputs": [
    {
     "data": {
      "text/plain": [
       "array([3.5, 3. , 3.2, 3.1, 3.6, 3.9, 3.4, 2.9, 3.7, 4. , 4.4, 3.8, 3.3,\n",
       "       4.1, 4.2, 2.3, 2.8, 2.4, 2.7, 2. , 2.2, 2.5, 2.6])"
      ]
     },
     "execution_count": 13,
     "metadata": {},
     "output_type": "execute_result"
    }
   ],
   "source": [
    "df['SepalWidthCm'].unique()"
   ]
  },
  {
   "cell_type": "code",
   "execution_count": 14,
   "id": "d18b5d97",
   "metadata": {
    "execution": {
     "iopub.execute_input": "2023-10-08T18:14:47.962728Z",
     "iopub.status.busy": "2023-10-08T18:14:47.962074Z",
     "iopub.status.idle": "2023-10-08T18:14:47.971100Z",
     "shell.execute_reply": "2023-10-08T18:14:47.969897Z"
    },
    "papermill": {
     "duration": 0.022086,
     "end_time": "2023-10-08T18:14:47.974561",
     "exception": false,
     "start_time": "2023-10-08T18:14:47.952475",
     "status": "completed"
    },
    "tags": []
   },
   "outputs": [
    {
     "data": {
      "text/plain": [
       "Index(['Id', 'SepalLengthCm', 'SepalWidthCm', 'PetalLengthCm', 'PetalWidthCm',\n",
       "       'Species'],\n",
       "      dtype='object')"
      ]
     },
     "execution_count": 14,
     "metadata": {},
     "output_type": "execute_result"
    }
   ],
   "source": [
    "df.columns"
   ]
  },
  {
   "cell_type": "code",
   "execution_count": 15,
   "id": "b62acd2f",
   "metadata": {
    "execution": {
     "iopub.execute_input": "2023-10-08T18:14:47.997926Z",
     "iopub.status.busy": "2023-10-08T18:14:47.997158Z",
     "iopub.status.idle": "2023-10-08T18:14:48.848656Z",
     "shell.execute_reply": "2023-10-08T18:14:48.847411Z"
    },
    "papermill": {
     "duration": 0.864843,
     "end_time": "2023-10-08T18:14:48.851202",
     "exception": false,
     "start_time": "2023-10-08T18:14:47.986359",
     "status": "completed"
    },
    "tags": []
   },
   "outputs": [
    {
     "data": {
      "text/plain": [
       "<Axes: >"
      ]
     },
     "execution_count": 15,
     "metadata": {},
     "output_type": "execute_result"
    },
    {
     "data": {
      "image/png": "[encoded data removed]",
      "text/plain": [
       "<Figure size 640x480 with 2 Axes>"
      ]
     },
     "metadata": {},
     "output_type": "display_data"
    }
   ],
   "source": [
    "import seaborn as sns\n",
    "import pandas as pd\n",
    "df = pd.read_csv('/kaggle/input/iris/Iris.csv')\n",
    "df = df.drop(columns=['SepalWidthCm', 'Species'])\n",
    "sns.heatmap(df.corr(), annot=True)\n"
   ]
  },
  {
   "cell_type": "code",
   "execution_count": 16,
   "id": "da6585e3",
   "metadata": {
    "execution": {
     "iopub.execute_input": "2023-10-08T18:14:48.871670Z",
     "iopub.status.busy": "2023-10-08T18:14:48.871040Z",
     "iopub.status.idle": "2023-10-08T18:14:48.877021Z",
     "shell.execute_reply": "2023-10-08T18:14:48.875806Z"
    },
    "papermill": {
     "duration": 0.018181,
     "end_time": "2023-10-08T18:14:48.878987",
     "exception": false,
     "start_time": "2023-10-08T18:14:48.860806",
     "status": "completed"
    },
    "tags": []
   },
   "outputs": [
    {
     "name": "stdout",
     "output_type": "stream",
     "text": [
      "Training Size = 120.0\n"
     ]
    }
   ],
   "source": [
    "print('Training Size =',0.80*150)"
   ]
  },
  {
   "cell_type": "code",
   "execution_count": 17,
   "id": "ca78ccd2",
   "metadata": {
    "execution": {
     "iopub.execute_input": "2023-10-08T18:14:48.899773Z",
     "iopub.status.busy": "2023-10-08T18:14:48.899317Z",
     "iopub.status.idle": "2023-10-08T18:14:48.904568Z",
     "shell.execute_reply": "2023-10-08T18:14:48.903324Z"
    },
    "papermill": {
     "duration": 0.017865,
     "end_time": "2023-10-08T18:14:48.906944",
     "exception": false,
     "start_time": "2023-10-08T18:14:48.889079",
     "status": "completed"
    },
    "tags": []
   },
   "outputs": [],
   "source": [
    "x_train = x[:121]\n",
    "x_test = x[121:]\n",
    "\n",
    "y_train = y[:121]\n",
    "y_test = y[121:]"
   ]
  },
  {
   "cell_type": "code",
   "execution_count": 18,
   "id": "d033d80c",
   "metadata": {
    "execution": {
     "iopub.execute_input": "2023-10-08T18:14:48.926053Z",
     "iopub.status.busy": "2023-10-08T18:14:48.925650Z",
     "iopub.status.idle": "2023-10-08T18:14:48.931701Z",
     "shell.execute_reply": "2023-10-08T18:14:48.930841Z"
    },
    "papermill": {
     "duration": 0.018087,
     "end_time": "2023-10-08T18:14:48.933826",
     "exception": false,
     "start_time": "2023-10-08T18:14:48.915739",
     "status": "completed"
    },
    "tags": []
   },
   "outputs": [],
   "source": [
    "from sklearn.model_selection import train_test_split\n",
    "x_train,x_test,y_train,y_test = train_test_split(x,y,test_size=0.3,random_state=0)"
   ]
  },
  {
   "cell_type": "code",
   "execution_count": 19,
   "id": "56ae99f7",
   "metadata": {
    "execution": {
     "iopub.execute_input": "2023-10-08T18:14:48.955490Z",
     "iopub.status.busy": "2023-10-08T18:14:48.954151Z",
     "iopub.status.idle": "2023-10-08T18:14:48.960235Z",
     "shell.execute_reply": "2023-10-08T18:14:48.958768Z"
    },
    "papermill": {
     "duration": 0.019326,
     "end_time": "2023-10-08T18:14:48.962407",
     "exception": false,
     "start_time": "2023-10-08T18:14:48.943081",
     "status": "completed"
    },
    "tags": []
   },
   "outputs": [],
   "source": [
    "from sklearn.linear_model import LinearRegression\n",
    "lr = LinearRegression()"
   ]
  },
  {
   "cell_type": "code",
   "execution_count": 20,
   "id": "7d60824b",
   "metadata": {
    "execution": {
     "iopub.execute_input": "2023-10-08T18:14:48.981880Z",
     "iopub.status.busy": "2023-10-08T18:14:48.981456Z",
     "iopub.status.idle": "2023-10-08T18:14:48.990254Z",
     "shell.execute_reply": "2023-10-08T18:14:48.989217Z"
    },
    "papermill": {
     "duration": 0.020825,
     "end_time": "2023-10-08T18:14:48.992316",
     "exception": false,
     "start_time": "2023-10-08T18:14:48.971491",
     "status": "completed"
    },
    "tags": []
   },
   "outputs": [
    {
     "data": {
      "text/html": [
       "<style>#sk-container-id-2 {color: black;background-color: white;}#sk-container-id-2 pre{padding: 0;}#sk-container-id-2 div.sk-toggleable {background-color: white;}#sk-container-id-2 label.sk-toggleable__label {cursor: pointer;display: block;width: 100%;margin-bottom: 0;padding: 0.3em;box-sizing: border-box;text-align: center;}#sk-container-id-2 label.sk-toggleable__label-arrow:before {content: \"▸\";float: left;margin-right: 0.25em;color: #696969;}#sk-container-id-2 label.sk-toggleable__label-arrow:hover:before {color: black;}#sk-container-id-2 div.sk-estimator:hover label.sk-toggleable__label-arrow:before {color: black;}#sk-container-id-2 div.sk-toggleable__content {max-height: 0;max-width: 0;overflow: hidden;text-align: left;background-color: #f0f8ff;}#sk-container-id-2 div.sk-toggleable__content pre {margin: 0.2em;color: black;border-radius: 0.25em;background-color: #f0f8ff;}#sk-container-id-2 input.sk-toggleable__control:checked~div.sk-toggleable__content {max-height: 200px;max-width: 100%;overflow: auto;}#sk-container-id-2 input.sk-toggleable__control:checked~label.sk-toggleable__label-arrow:before {content: \"▾\";}#sk-container-id-2 div.sk-estimator input.sk-toggleable__control:checked~label.sk-toggleable__label {background-color: #d4ebff;}#sk-container-id-2 div.sk-label input.sk-toggleable__control:checked~label.sk-toggleable__label {background-color: #d4ebff;}#sk-container-id-2 input.sk-hidden--visually {border: 0;clip: rect(1px 1px 1px 1px);clip: rect(1px, 1px, 1px, 1px);height: 1px;margin: -1px;overflow: hidden;padding: 0;position: absolute;width: 1px;}#sk-container-id-2 div.sk-estimator {font-family: monospace;background-color: #f0f8ff;border: 1px dotted black;border-radius: 0.25em;box-sizing: border-box;margin-bottom: 0.5em;}#sk-container-id-2 div.sk-estimator:hover {background-color: #d4ebff;}#sk-container-id-2 div.sk-parallel-item::after {content: \"\";width: 100%;border-bottom: 1px solid gray;flex-grow: 1;}#sk-container-id-2 div.sk-label:hover label.sk-toggleable__label {background-color: #d4ebff;}#sk-container-id-2 div.sk-serial::before {content: \"\";position: absolute;border-left: 1px solid gray;box-sizing: border-box;top: 0;bottom: 0;left: 50%;z-index: 0;}#sk-container-id-2 div.sk-serial {display: flex;flex-direction: column;align-items: center;background-color: white;padding-right: 0.2em;padding-left: 0.2em;position: relative;}#sk-container-id-2 div.sk-item {position: relative;z-index: 1;}#sk-container-id-2 div.sk-parallel {display: flex;align-items: stretch;justify-content: center;background-color: white;position: relative;}#sk-container-id-2 div.sk-item::before, #sk-container-id-2 div.sk-parallel-item::before {content: \"\";position: absolute;border-left: 1px solid gray;box-sizing: border-box;top: 0;bottom: 0;left: 50%;z-index: -1;}#sk-container-id-2 div.sk-parallel-item {display: flex;flex-direction: column;z-index: 1;position: relative;background-color: white;}#sk-container-id-2 div.sk-parallel-item:first-child::after {align-self: flex-end;width: 50%;}#sk-container-id-2 div.sk-parallel-item:last-child::after {align-self: flex-start;width: 50%;}#sk-container-id-2 div.sk-parallel-item:only-child::after {width: 0;}#sk-container-id-2 div.sk-dashed-wrapped {border: 1px dashed gray;margin: 0 0.4em 0.5em 0.4em;box-sizing: border-box;padding-bottom: 0.4em;background-color: white;}#sk-container-id-2 div.sk-label label {font-family: monospace;font-weight: bold;display: inline-block;line-height: 1.2em;}#sk-container-id-2 div.sk-label-container {text-align: center;}#sk-container-id-2 div.sk-container {/* jupyter's `normalize.less` sets `[hidden] { display: none; }` but bootstrap.min.css set `[hidden] { display: none !important; }` so we also need the `!important` here to be able to override the default hidden behavior on the sphinx rendered scikit-learn.org. See: https://github.com/scikit-learn/scikit-learn/issues/21755 */display: inline-block !important;position: relative;}#sk-container-id-2 div.sk-text-repr-fallback {display: none;}</style><div id=\"sk-container-id-2\" class=\"sk-top-container\"><div class=\"sk-text-repr-fallback\"><pre>LinearRegression()</pre><b>In a Jupyter environment, please rerun this cell to show the HTML representation or trust the notebook. <br />On GitHub, the HTML representation is unable to render, please try loading this page with nbviewer.org.</b></div><div class=\"sk-container\" hidden><div class=\"sk-item\"><div class=\"sk-estimator sk-toggleable\"><input class=\"sk-toggleable__control sk-hidden--visually\" id=\"sk-estimator-id-2\" type=\"checkbox\" checked><label for=\"sk-estimator-id-2\" class=\"sk-toggleable__label sk-toggleable__label-arrow\">LinearRegression</label><div class=\"sk-toggleable__content\"><pre>LinearRegression()</pre></div></div></div></div></div>"
      ],
      "text/plain": [
       "LinearRegression()"
      ]
     },
     "execution_count": 20,
     "metadata": {},
     "output_type": "execute_result"
    }
   ],
   "source": [
    "#y=y.reshape(-1,1)\n",
    "lr.fit(x_train,y_train)"
   ]
  },
  {
   "cell_type": "code",
   "execution_count": 21,
   "id": "5ec02ab6",
   "metadata": {
    "execution": {
     "iopub.execute_input": "2023-10-08T18:14:49.012521Z",
     "iopub.status.busy": "2023-10-08T18:14:49.012133Z",
     "iopub.status.idle": "2023-10-08T18:14:49.016745Z",
     "shell.execute_reply": "2023-10-08T18:14:49.015763Z"
    },
    "papermill": {
     "duration": 0.017573,
     "end_time": "2023-10-08T18:14:49.019145",
     "exception": false,
     "start_time": "2023-10-08T18:14:49.001572",
     "status": "completed"
    },
    "tags": []
   },
   "outputs": [],
   "source": [
    "c = lr.intercept_"
   ]
  },
  {
   "cell_type": "code",
   "execution_count": 22,
   "id": "60fb8bd4",
   "metadata": {
    "execution": {
     "iopub.execute_input": "2023-10-08T18:14:49.040039Z",
     "iopub.status.busy": "2023-10-08T18:14:49.039325Z",
     "iopub.status.idle": "2023-10-08T18:14:49.044921Z",
     "shell.execute_reply": "2023-10-08T18:14:49.043689Z"
    },
    "papermill": {
     "duration": 0.018583,
     "end_time": "2023-10-08T18:14:49.047079",
     "exception": false,
     "start_time": "2023-10-08T18:14:49.028496",
     "status": "completed"
    },
    "tags": []
   },
   "outputs": [
    {
     "data": {
      "text/plain": [
       "-1.3465648854961807"
      ]
     },
     "execution_count": 22,
     "metadata": {},
     "output_type": "execute_result"
    }
   ],
   "source": [
    "c"
   ]
  },
  {
   "cell_type": "code",
   "execution_count": 23,
   "id": "db3112c1",
   "metadata": {
    "execution": {
     "iopub.execute_input": "2023-10-08T18:14:49.066999Z",
     "iopub.status.busy": "2023-10-08T18:14:49.066629Z",
     "iopub.status.idle": "2023-10-08T18:14:49.073923Z",
     "shell.execute_reply": "2023-10-08T18:14:49.072820Z"
    },
    "papermill": {
     "duration": 0.020069,
     "end_time": "2023-10-08T18:14:49.076122",
     "exception": false,
     "start_time": "2023-10-08T18:14:49.056053",
     "status": "completed"
    },
    "tags": []
   },
   "outputs": [
    {
     "data": {
      "text/plain": [
       "array([0.96946565])"
      ]
     },
     "execution_count": 23,
     "metadata": {},
     "output_type": "execute_result"
    }
   ],
   "source": [
    "m = lr.coef_\n",
    "m"
   ]
  },
  {
   "cell_type": "code",
   "execution_count": 24,
   "id": "a077fa70",
   "metadata": {
    "execution": {
     "iopub.execute_input": "2023-10-08T18:14:49.096951Z",
     "iopub.status.busy": "2023-10-08T18:14:49.096554Z",
     "iopub.status.idle": "2023-10-08T18:14:49.103971Z",
     "shell.execute_reply": "2023-10-08T18:14:49.102880Z"
    },
    "papermill": {
     "duration": 0.019949,
     "end_time": "2023-10-08T18:14:49.105984",
     "exception": false,
     "start_time": "2023-10-08T18:14:49.086035",
     "status": "completed"
    },
    "tags": []
   },
   "outputs": [
    {
     "data": {
      "text/plain": [
       "array([3.1129771 , 3.59770992, 3.88854962, 3.50076336])"
      ]
     },
     "execution_count": 24,
     "metadata": {},
     "output_type": "execute_result"
    }
   ],
   "source": [
    "y_pred_train = lr.predict(x_train)\n",
    "y_pred_train"
   ]
  },
  {
   "cell_type": "code",
   "execution_count": 25,
   "id": "5bb1503a",
   "metadata": {
    "execution": {
     "iopub.execute_input": "2023-10-08T18:14:49.126240Z",
     "iopub.status.busy": "2023-10-08T18:14:49.125847Z",
     "iopub.status.idle": "2023-10-08T18:14:49.383327Z",
     "shell.execute_reply": "2023-10-08T18:14:49.381914Z"
    },
    "papermill": {
     "duration": 0.270844,
     "end_time": "2023-10-08T18:14:49.386000",
     "exception": false,
     "start_time": "2023-10-08T18:14:49.115156",
     "status": "completed"
    },
    "tags": []
   },
   "outputs": [
    {
     "data": {
      "image/png": "[encoded data removed]",
      "text/plain": [
       "<Figure size 640x480 with 1 Axes>"
      ]
     },
     "metadata": {},
     "output_type": "display_data"
    }
   ],
   "source": [
    "import matplotlib.pyplot as plt\n",
    "plt.scatter(y_train,y_pred_train)\n",
    "plt.xlabel('Actual')\n",
    "plt.ylabel('Predicted')\n",
    "plt.show()"
   ]
  },
  {
   "cell_type": "code",
   "execution_count": 26,
   "id": "b30894d3",
   "metadata": {
    "execution": {
     "iopub.execute_input": "2023-10-08T18:14:49.406603Z",
     "iopub.status.busy": "2023-10-08T18:14:49.406208Z",
     "iopub.status.idle": "2023-10-08T18:14:49.413173Z",
     "shell.execute_reply": "2023-10-08T18:14:49.412033Z"
    },
    "papermill": {
     "duration": 0.020121,
     "end_time": "2023-10-08T18:14:49.415630",
     "exception": false,
     "start_time": "2023-10-08T18:14:49.395509",
     "status": "completed"
    },
    "tags": []
   },
   "outputs": [
    {
     "data": {
      "text/plain": [
       "0.9398636443097724"
      ]
     },
     "execution_count": 26,
     "metadata": {},
     "output_type": "execute_result"
    }
   ],
   "source": [
    "from sklearn.metrics import r2_score\n",
    "r2_score(y_train,y_pred_train)"
   ]
  },
  {
   "cell_type": "code",
   "execution_count": 27,
   "id": "428c9800",
   "metadata": {
    "execution": {
     "iopub.execute_input": "2023-10-08T18:14:49.436996Z",
     "iopub.status.busy": "2023-10-08T18:14:49.436589Z",
     "iopub.status.idle": "2023-10-08T18:14:49.442115Z",
     "shell.execute_reply": "2023-10-08T18:14:49.440864Z"
    },
    "papermill": {
     "duration": 0.018954,
     "end_time": "2023-10-08T18:14:49.444640",
     "exception": false,
     "start_time": "2023-10-08T18:14:49.425686",
     "status": "completed"
    },
    "tags": []
   },
   "outputs": [],
   "source": [
    "y_pred_test = lr.predict(x_test)"
   ]
  },
  {
   "cell_type": "code",
   "execution_count": 28,
   "id": "f912367c",
   "metadata": {
    "execution": {
     "iopub.execute_input": "2023-10-08T18:14:49.466783Z",
     "iopub.status.busy": "2023-10-08T18:14:49.466322Z",
     "iopub.status.idle": "2023-10-08T18:14:49.713958Z",
     "shell.execute_reply": "2023-10-08T18:14:49.712605Z"
    },
    "papermill": {
     "duration": 0.262323,
     "end_time": "2023-10-08T18:14:49.716489",
     "exception": false,
     "start_time": "2023-10-08T18:14:49.454166",
     "status": "completed"
    },
    "tags": []
   },
   "outputs": [
    {
     "data": {
      "image/png": "[encoded data removed]",
      "text/plain": [
       "<Figure size 640x480 with 1 Axes>"
      ]
     },
     "metadata": {},
     "output_type": "display_data"
    }
   ],
   "source": [
    "#import matplotlib.pyplot as plt\n",
    "plt.scatter(y_test,y_pred_test)\n",
    "plt.xlabel('Actual')\n",
    "plt.ylabel('Predicted')\n",
    "plt.show()"
   ]
  },
  {
   "cell_type": "code",
   "execution_count": 29,
   "id": "b5708617",
   "metadata": {
    "execution": {
     "iopub.execute_input": "2023-10-08T18:14:49.739071Z",
     "iopub.status.busy": "2023-10-08T18:14:49.738463Z",
     "iopub.status.idle": "2023-10-08T18:14:49.745787Z",
     "shell.execute_reply": "2023-10-08T18:14:49.744497Z"
    },
    "papermill": {
     "duration": 0.021579,
     "end_time": "2023-10-08T18:14:49.748438",
     "exception": false,
     "start_time": "2023-10-08T18:14:49.726859",
     "status": "completed"
    },
    "tags": []
   },
   "outputs": [
    {
     "data": {
      "text/plain": [
       "-2.069357846279356"
      ]
     },
     "execution_count": 29,
     "metadata": {},
     "output_type": "execute_result"
    }
   ],
   "source": [
    "r2_score(y_test,y_pred_test)"
   ]
  }
 ],
 "metadata": {
  "kernelspec": {
   "display_name": "Python 3",
   "language": "python",
   "name": "python3"
  },
  "language_info": {
   "codemirror_mode": {
    "name": "ipython",
    "version": 3
   },
   "file_extension": ".py",
   "mimetype": "text/x-python",
   "name": "python",
   "nbconvert_exporter": "python",
   "pygments_lexer": "ipython3",
   "version": "3.10.12"
  },
  "papermill": {
   "default_parameters": {},
   "duration": 9.229277,
   "end_time": "2023-10-08T18:14:50.481292",
   "environment_variables": {},
   "exception": null,
   "input_path": "__notebook__.ipynb",
   "output_path": "__notebook__.ipynb",
   "parameters": {},
   "start_time": "2023-10-08T18:14:41.252015",
   "version": "2.4.0"
  }
 },
 "nbformat": 4,
 "nbformat_minor": 5
}
