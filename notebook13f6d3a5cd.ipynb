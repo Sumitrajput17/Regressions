{
 "cells": [
  {
   "cell_type": "code",
   "execution_count": 1,
   "id": "1317befe",
   "metadata": {
    "_cell_guid": "b1076dfc-b9ad-4769-8c92-a6c4dae69d19",
    "_uuid": "8f2839f25d086af736a60e9eeb907d3b93b6e0e5",
    "execution": {
     "iopub.execute_input": "2023-10-10T13:07:06.605768Z",
     "iopub.status.busy": "2023-10-10T13:07:06.605127Z",
     "iopub.status.idle": "2023-10-10T13:07:06.950603Z",
     "shell.execute_reply": "2023-10-10T13:07:06.949486Z"
    },
    "papermill": {
     "duration": 0.353824,
     "end_time": "2023-10-10T13:07:06.952963",
     "exception": false,
     "start_time": "2023-10-10T13:07:06.599139",
     "status": "completed"
    },
    "tags": []
   },
   "outputs": [],
   "source": [
    "# This Python 3 environment comes with many helpful analytics libraries installed\n",
    "# It is defined by the kaggle/python Docker image: https://github.com/kaggle/docker-python\n",
    "# For example, here's several helpful packages to load\n",
    "\n",
    "import numpy as np # linear algebra\n",
    "import pandas as pd # data processing, CSV file I/O (e.g. pd.read_csv)\n",
    "\n",
    "# Input data files are available in the read-only \"../input/\" directory\n",
    "# For example, running this (by clicking run or pressing Shift+Enter) will list all files under the input directory\n",
    "\n",
    "import os\n",
    "for dirname, _, filenames in os.walk('/kaggle/input'):\n",
    "    for filename in filenames:\n",
    "        print(os.path.join(dirname, filename))\n",
    "\n",
    "# You can write up to 20GB to the current directory (/kaggle/working/) that gets preserved as output when you create a version using \"Save & Run All\" \n",
    "# You can also write temporary files to /kaggle/temp/, but they won't be saved outside of the current session"
   ]
  },
  {
   "cell_type": "code",
   "execution_count": 2,
   "id": "e11b8ab7",
   "metadata": {
    "execution": {
     "iopub.execute_input": "2023-10-10T13:07:06.964572Z",
     "iopub.status.busy": "2023-10-10T13:07:06.964142Z",
     "iopub.status.idle": "2023-10-10T13:07:06.969622Z",
     "shell.execute_reply": "2023-10-10T13:07:06.968627Z"
    },
    "papermill": {
     "duration": 0.012658,
     "end_time": "2023-10-10T13:07:06.971527",
     "exception": false,
     "start_time": "2023-10-10T13:07:06.958869",
     "status": "completed"
    },
    "tags": []
   },
   "outputs": [],
   "source": [
    "#import libraries\n",
    "import numpy as np\n",
    "import pandas as pd\n",
    "import matplotlib.pyplot as plt\n",
    "%matplotlib inline"
   ]
  },
  {
   "cell_type": "code",
   "execution_count": 3,
   "id": "dd74118b",
   "metadata": {
    "execution": {
     "iopub.execute_input": "2023-10-10T13:07:06.980678Z",
     "iopub.status.busy": "2023-10-10T13:07:06.980366Z",
     "iopub.status.idle": "2023-10-10T13:07:07.250774Z",
     "shell.execute_reply": "2023-10-10T13:07:07.250017Z"
    },
    "papermill": {
     "duration": 0.277625,
     "end_time": "2023-10-10T13:07:07.253242",
     "exception": false,
     "start_time": "2023-10-10T13:07:06.975617",
     "status": "completed"
    },
    "tags": []
   },
   "outputs": [
    {
     "data": {
      "text/plain": [
       "Text(0, 0.5, 'y dataset')"
      ]
     },
     "execution_count": 3,
     "metadata": {},
     "output_type": "execute_result"
    },
    {
     "data": {
      "image/png": "[encoded data removed]",
      "text/plain": [
       "<Figure size 640x480 with 1 Axes>"
      ]
     },
     "metadata": {},
     "output_type": "display_data"
    }
   ],
   "source": [
    "x = 6*np.random.rand(100,1)-3\n",
    "y = 0.5*x**2+1.5*x+2+np.random.randn(100,1)\n",
    "#quadratic equation used y=0.5x^2 + 1.5x + 2 + ouliner\n",
    "plt.scatter(x,y,color = 'g')\n",
    "plt.xlabel('x dataset')\n",
    "plt.ylabel('y dataset')"
   ]
  },
  {
   "cell_type": "code",
   "execution_count": 4,
   "id": "8d78926a",
   "metadata": {
    "execution": {
     "iopub.execute_input": "2023-10-10T13:07:07.264714Z",
     "iopub.status.busy": "2023-10-10T13:07:07.263775Z",
     "iopub.status.idle": "2023-10-10T13:07:08.333430Z",
     "shell.execute_reply": "2023-10-10T13:07:08.332614Z"
    },
    "papermill": {
     "duration": 1.077442,
     "end_time": "2023-10-10T13:07:08.335703",
     "exception": false,
     "start_time": "2023-10-10T13:07:07.258261",
     "status": "completed"
    },
    "tags": []
   },
   "outputs": [],
   "source": [
    "from sklearn.model_selection import train_test_split\n",
    "x_train,x_test,y_train,y_test = train_test_split(x,y,test_size = 0.2,random_state = 42)"
   ]
  },
  {
   "cell_type": "code",
   "execution_count": 5,
   "id": "67ca0349",
   "metadata": {
    "execution": {
     "iopub.execute_input": "2023-10-10T13:07:08.346041Z",
     "iopub.status.busy": "2023-10-10T13:07:08.345737Z",
     "iopub.status.idle": "2023-10-10T13:07:08.499728Z",
     "shell.execute_reply": "2023-10-10T13:07:08.498905Z"
    },
    "papermill": {
     "duration": 0.161709,
     "end_time": "2023-10-10T13:07:08.501983",
     "exception": false,
     "start_time": "2023-10-10T13:07:08.340274",
     "status": "completed"
    },
    "tags": []
   },
   "outputs": [],
   "source": [
    "#lets implement a simple linear regression\n",
    "from sklearn.linear_model import LinearRegression\n",
    "regression_1 = LinearRegression()"
   ]
  },
  {
   "cell_type": "code",
   "execution_count": 6,
   "id": "ed170e46",
   "metadata": {
    "execution": {
     "iopub.execute_input": "2023-10-10T13:07:08.511772Z",
     "iopub.status.busy": "2023-10-10T13:07:08.511458Z",
     "iopub.status.idle": "2023-10-10T13:07:08.533470Z",
     "shell.execute_reply": "2023-10-10T13:07:08.532413Z"
    },
    "papermill": {
     "duration": 0.029177,
     "end_time": "2023-10-10T13:07:08.535529",
     "exception": false,
     "start_time": "2023-10-10T13:07:08.506352",
     "status": "completed"
    },
    "tags": []
   },
   "outputs": [
    {
     "data": {
      "text/html": [
       "<style>#sk-container-id-1 {color: black;background-color: white;}#sk-container-id-1 pre{padding: 0;}#sk-container-id-1 div.sk-toggleable {background-color: white;}#sk-container-id-1 label.sk-toggleable__label {cursor: pointer;display: block;width: 100%;margin-bottom: 0;padding: 0.3em;box-sizing: border-box;text-align: center;}#sk-container-id-1 label.sk-toggleable__label-arrow:before {content: \"▸\";float: left;margin-right: 0.25em;color: #696969;}#sk-container-id-1 label.sk-toggleable__label-arrow:hover:before {color: black;}#sk-container-id-1 div.sk-estimator:hover label.sk-toggleable__label-arrow:before {color: black;}#sk-container-id-1 div.sk-toggleable__content {max-height: 0;max-width: 0;overflow: hidden;text-align: left;background-color: #f0f8ff;}#sk-container-id-1 div.sk-toggleable__content pre {margin: 0.2em;color: black;border-radius: 0.25em;background-color: #f0f8ff;}#sk-container-id-1 input.sk-toggleable__control:checked~div.sk-toggleable__content {max-height: 200px;max-width: 100%;overflow: auto;}#sk-container-id-1 input.sk-toggleable__control:checked~label.sk-toggleable__label-arrow:before {content: \"▾\";}#sk-container-id-1 div.sk-estimator input.sk-toggleable__control:checked~label.sk-toggleable__label {background-color: #d4ebff;}#sk-container-id-1 div.sk-label input.sk-toggleable__control:checked~label.sk-toggleable__label {background-color: #d4ebff;}#sk-container-id-1 input.sk-hidden--visually {border: 0;clip: rect(1px 1px 1px 1px);clip: rect(1px, 1px, 1px, 1px);height: 1px;margin: -1px;overflow: hidden;padding: 0;position: absolute;width: 1px;}#sk-container-id-1 div.sk-estimator {font-family: monospace;background-color: #f0f8ff;border: 1px dotted black;border-radius: 0.25em;box-sizing: border-box;margin-bottom: 0.5em;}#sk-container-id-1 div.sk-estimator:hover {background-color: #d4ebff;}#sk-container-id-1 div.sk-parallel-item::after {content: \"\";width: 100%;border-bottom: 1px solid gray;flex-grow: 1;}#sk-container-id-1 div.sk-label:hover label.sk-toggleable__label {background-color: #d4ebff;}#sk-container-id-1 div.sk-serial::before {content: \"\";position: absolute;border-left: 1px solid gray;box-sizing: border-box;top: 0;bottom: 0;left: 50%;z-index: 0;}#sk-container-id-1 div.sk-serial {display: flex;flex-direction: column;align-items: center;background-color: white;padding-right: 0.2em;padding-left: 0.2em;position: relative;}#sk-container-id-1 div.sk-item {position: relative;z-index: 1;}#sk-container-id-1 div.sk-parallel {display: flex;align-items: stretch;justify-content: center;background-color: white;position: relative;}#sk-container-id-1 div.sk-item::before, #sk-container-id-1 div.sk-parallel-item::before {content: \"\";position: absolute;border-left: 1px solid gray;box-sizing: border-box;top: 0;bottom: 0;left: 50%;z-index: -1;}#sk-container-id-1 div.sk-parallel-item {display: flex;flex-direction: column;z-index: 1;position: relative;background-color: white;}#sk-container-id-1 div.sk-parallel-item:first-child::after {align-self: flex-end;width: 50%;}#sk-container-id-1 div.sk-parallel-item:last-child::after {align-self: flex-start;width: 50%;}#sk-container-id-1 div.sk-parallel-item:only-child::after {width: 0;}#sk-container-id-1 div.sk-dashed-wrapped {border: 1px dashed gray;margin: 0 0.4em 0.5em 0.4em;box-sizing: border-box;padding-bottom: 0.4em;background-color: white;}#sk-container-id-1 div.sk-label label {font-family: monospace;font-weight: bold;display: inline-block;line-height: 1.2em;}#sk-container-id-1 div.sk-label-container {text-align: center;}#sk-container-id-1 div.sk-container {/* jupyter's `normalize.less` sets `[hidden] { display: none; }` but bootstrap.min.css set `[hidden] { display: none !important; }` so we also need the `!important` here to be able to override the default hidden behavior on the sphinx rendered scikit-learn.org. See: https://github.com/scikit-learn/scikit-learn/issues/21755 */display: inline-block !important;position: relative;}#sk-container-id-1 div.sk-text-repr-fallback {display: none;}</style><div id=\"sk-container-id-1\" class=\"sk-top-container\"><div class=\"sk-text-repr-fallback\"><pre>LinearRegression()</pre><b>In a Jupyter environment, please rerun this cell to show the HTML representation or trust the notebook. <br />On GitHub, the HTML representation is unable to render, please try loading this page with nbviewer.org.</b></div><div class=\"sk-container\" hidden><div class=\"sk-item\"><div class=\"sk-estimator sk-toggleable\"><input class=\"sk-toggleable__control sk-hidden--visually\" id=\"sk-estimator-id-1\" type=\"checkbox\" checked><label for=\"sk-estimator-id-1\" class=\"sk-toggleable__label sk-toggleable__label-arrow\">LinearRegression</label><div class=\"sk-toggleable__content\"><pre>LinearRegression()</pre></div></div></div></div></div>"
      ],
      "text/plain": [
       "LinearRegression()"
      ]
     },
     "execution_count": 6,
     "metadata": {},
     "output_type": "execute_result"
    }
   ],
   "source": [
    "regression_1.fit(x_train,y_train)"
   ]
  },
  {
   "cell_type": "code",
   "execution_count": 7,
   "id": "92ca3180",
   "metadata": {
    "execution": {
     "iopub.execute_input": "2023-10-10T13:07:08.546261Z",
     "iopub.status.busy": "2023-10-10T13:07:08.545507Z",
     "iopub.status.idle": "2023-10-10T13:07:08.551489Z",
     "shell.execute_reply": "2023-10-10T13:07:08.550494Z"
    },
    "papermill": {
     "duration": 0.01321,
     "end_time": "2023-10-10T13:07:08.553422",
     "exception": false,
     "start_time": "2023-10-10T13:07:08.540212",
     "status": "completed"
    },
    "tags": []
   },
   "outputs": [
    {
     "name": "stdout",
     "output_type": "stream",
     "text": [
      "0.6339055197037355\n"
     ]
    }
   ],
   "source": [
    "from sklearn.metrics import r2_score\n",
    "score = r2_score(y_test,regression_1.predict(x_test))\n",
    "print(score)"
   ]
  },
  {
   "cell_type": "code",
   "execution_count": 8,
   "id": "9ac5db3f",
   "metadata": {
    "execution": {
     "iopub.execute_input": "2023-10-10T13:07:08.563733Z",
     "iopub.status.busy": "2023-10-10T13:07:08.563208Z",
     "iopub.status.idle": "2023-10-10T13:07:08.814621Z",
     "shell.execute_reply": "2023-10-10T13:07:08.813629Z"
    },
    "papermill": {
     "duration": 0.258589,
     "end_time": "2023-10-10T13:07:08.816547",
     "exception": false,
     "start_time": "2023-10-10T13:07:08.557958",
     "status": "completed"
    },
    "tags": []
   },
   "outputs": [
    {
     "data": {
      "text/plain": [
       "Text(0, 0.5, 'y dataset')"
      ]
     },
     "execution_count": 8,
     "metadata": {},
     "output_type": "execute_result"
    },
    {
     "data": {
      "image/png": "[encoded data removed]",
      "text/plain": [
       "<Figure size 640x480 with 1 Axes>"
      ]
     },
     "metadata": {},
     "output_type": "display_data"
    }
   ],
   "source": [
    "#vizualizing the model\n",
    "plt.plot(x_train,regression_1.predict(x_train),color = 'r')\n",
    "plt.scatter(x_train,y_train)\n",
    "plt.xlabel(\"X dataset\")\n",
    "plt.ylabel(\"y dataset\")"
   ]
  },
  {
   "cell_type": "code",
   "execution_count": 9,
   "id": "eef471db",
   "metadata": {
    "execution": {
     "iopub.execute_input": "2023-10-10T13:07:08.828977Z",
     "iopub.status.busy": "2023-10-10T13:07:08.828179Z",
     "iopub.status.idle": "2023-10-10T13:07:08.832013Z",
     "shell.execute_reply": "2023-10-10T13:07:08.831215Z"
    },
    "papermill": {
     "duration": 0.011934,
     "end_time": "2023-10-10T13:07:08.833746",
     "exception": false,
     "start_time": "2023-10-10T13:07:08.821812",
     "status": "completed"
    },
    "tags": []
   },
   "outputs": [],
   "source": [
    "#applying polynomial transformation\n",
    "from sklearn.preprocessing import PolynomialFeatures"
   ]
  },
  {
   "cell_type": "code",
   "execution_count": 10,
   "id": "61576ed1",
   "metadata": {
    "execution": {
     "iopub.execute_input": "2023-10-10T13:07:08.845361Z",
     "iopub.status.busy": "2023-10-10T13:07:08.845056Z",
     "iopub.status.idle": "2023-10-10T13:07:08.850221Z",
     "shell.execute_reply": "2023-10-10T13:07:08.849407Z"
    },
    "papermill": {
     "duration": 0.013092,
     "end_time": "2023-10-10T13:07:08.852035",
     "exception": false,
     "start_time": "2023-10-10T13:07:08.838943",
     "status": "completed"
    },
    "tags": []
   },
   "outputs": [],
   "source": [
    "poly = PolynomialFeatures(degree = 2,include_bias=True)\n",
    "x_train_poly = poly.fit_transform(x_train)\n",
    "x_test_poly = poly.fit_transform(x_test)"
   ]
  },
  {
   "cell_type": "code",
   "execution_count": 11,
   "id": "da675d7f",
   "metadata": {
    "execution": {
     "iopub.execute_input": "2023-10-10T13:07:08.863739Z",
     "iopub.status.busy": "2023-10-10T13:07:08.862845Z",
     "iopub.status.idle": "2023-10-10T13:07:08.871814Z",
     "shell.execute_reply": "2023-10-10T13:07:08.870992Z"
    },
    "papermill": {
     "duration": 0.016613,
     "end_time": "2023-10-10T13:07:08.873686",
     "exception": false,
     "start_time": "2023-10-10T13:07:08.857073",
     "status": "completed"
    },
    "tags": []
   },
   "outputs": [
    {
     "data": {
      "text/plain": [
       "array([[ 1.00000000e+00, -1.50183837e+00,  2.25551849e+00],\n",
       "       [ 1.00000000e+00,  2.37787127e+00,  5.65427179e+00],\n",
       "       [ 1.00000000e+00,  1.09409828e+00,  1.19705104e+00],\n",
       "       [ 1.00000000e+00, -1.07271803e-01,  1.15072398e-02],\n",
       "       [ 1.00000000e+00, -1.90653245e+00,  3.63486597e+00],\n",
       "       [ 1.00000000e+00,  2.76433021e+00,  7.64152150e+00],\n",
       "       [ 1.00000000e+00,  2.41389809e+00,  5.82690397e+00],\n",
       "       [ 1.00000000e+00, -2.93211467e+00,  8.59729644e+00],\n",
       "       [ 1.00000000e+00, -2.96389456e+00,  8.78467095e+00],\n",
       "       [ 1.00000000e+00,  1.84909535e+00,  3.41915360e+00],\n",
       "       [ 1.00000000e+00,  1.43588446e+00,  2.06176418e+00],\n",
       "       [ 1.00000000e+00, -2.54461333e+00,  6.47505699e+00],\n",
       "       [ 1.00000000e+00, -2.82010022e+00,  7.95296526e+00],\n",
       "       [ 1.00000000e+00, -1.90025950e+00,  3.61098617e+00],\n",
       "       [ 1.00000000e+00,  4.46026093e-01,  1.98939275e-01],\n",
       "       [ 1.00000000e+00, -6.55685340e-01,  4.29923264e-01],\n",
       "       [ 1.00000000e+00, -1.41264697e+00,  1.99557147e+00],\n",
       "       [ 1.00000000e+00,  2.87765164e+00,  8.28087897e+00],\n",
       "       [ 1.00000000e+00, -2.74210872e+00,  7.51916021e+00],\n",
       "       [ 1.00000000e+00, -5.95212182e-01,  3.54277541e-01],\n",
       "       [ 1.00000000e+00,  9.18429029e-01,  8.43511882e-01],\n",
       "       [ 1.00000000e+00,  2.71256851e+00,  7.35802795e+00],\n",
       "       [ 1.00000000e+00, -1.67142518e+00,  2.79366214e+00],\n",
       "       [ 1.00000000e+00,  1.22253803e+00,  1.49459923e+00],\n",
       "       [ 1.00000000e+00, -1.13666182e+00,  1.29200008e+00],\n",
       "       [ 1.00000000e+00,  7.11920852e-01,  5.06831299e-01],\n",
       "       [ 1.00000000e+00, -2.43748889e+00,  5.94135210e+00],\n",
       "       [ 1.00000000e+00, -2.39496824e+00,  5.73587286e+00],\n",
       "       [ 1.00000000e+00, -2.68868220e+00,  7.22901200e+00],\n",
       "       [ 1.00000000e+00, -2.78014693e+00,  7.72921697e+00],\n",
       "       [ 1.00000000e+00, -1.39430713e+00,  1.94409238e+00],\n",
       "       [ 1.00000000e+00,  7.00171503e-01,  4.90240133e-01],\n",
       "       [ 1.00000000e+00,  2.81250671e-01,  7.91019397e-02],\n",
       "       [ 1.00000000e+00,  1.40441419e+00,  1.97237921e+00],\n",
       "       [ 1.00000000e+00,  1.67328509e+00,  2.79988300e+00],\n",
       "       [ 1.00000000e+00, -1.37108444e+00,  1.87987253e+00],\n",
       "       [ 1.00000000e+00,  9.13019471e-01,  8.33604555e-01],\n",
       "       [ 1.00000000e+00,  8.30610015e-01,  6.89912997e-01],\n",
       "       [ 1.00000000e+00, -1.65114989e+00,  2.72629596e+00],\n",
       "       [ 1.00000000e+00, -1.62818051e-01,  2.65097178e-02],\n",
       "       [ 1.00000000e+00, -7.30073313e-02,  5.33007042e-03],\n",
       "       [ 1.00000000e+00, -1.44326072e+00,  2.08300150e+00],\n",
       "       [ 1.00000000e+00,  1.56452140e+00,  2.44772720e+00],\n",
       "       [ 1.00000000e+00, -2.42700314e+00,  5.89034424e+00],\n",
       "       [ 1.00000000e+00, -2.99924183e+00,  8.99545158e+00],\n",
       "       [ 1.00000000e+00, -2.12498345e+00,  4.51555464e+00],\n",
       "       [ 1.00000000e+00, -8.56277645e-01,  7.33211406e-01],\n",
       "       [ 1.00000000e+00, -1.18462037e+00,  1.40332541e+00],\n",
       "       [ 1.00000000e+00,  2.00996061e+00,  4.03994166e+00],\n",
       "       [ 1.00000000e+00, -2.38353249e+00,  5.68122714e+00],\n",
       "       [ 1.00000000e+00, -8.26355468e-02,  6.82863359e-03],\n",
       "       [ 1.00000000e+00,  1.79012789e+00,  3.20455785e+00],\n",
       "       [ 1.00000000e+00, -2.09711982e+00,  4.39791153e+00],\n",
       "       [ 1.00000000e+00,  2.20749057e+00,  4.87301462e+00],\n",
       "       [ 1.00000000e+00, -1.32466387e+00,  1.75473437e+00],\n",
       "       [ 1.00000000e+00,  1.15982919e+00,  1.34520374e+00],\n",
       "       [ 1.00000000e+00, -8.84640542e-01,  7.82588888e-01],\n",
       "       [ 1.00000000e+00, -1.76102129e-01,  3.10119598e-02],\n",
       "       [ 1.00000000e+00,  5.06756020e-01,  2.56801663e-01],\n",
       "       [ 1.00000000e+00,  2.41686035e+00,  5.84121394e+00],\n",
       "       [ 1.00000000e+00,  7.16319065e-01,  5.13113003e-01],\n",
       "       [ 1.00000000e+00, -1.07235869e+00,  1.14995316e+00],\n",
       "       [ 1.00000000e+00, -1.52839828e+00,  2.33600129e+00],\n",
       "       [ 1.00000000e+00, -1.02869409e-01,  1.05821154e-02],\n",
       "       [ 1.00000000e+00,  2.65888359e+00,  7.06966196e+00],\n",
       "       [ 1.00000000e+00, -1.07628608e-01,  1.15839173e-02],\n",
       "       [ 1.00000000e+00, -5.32655658e-01,  2.83722050e-01],\n",
       "       [ 1.00000000e+00,  4.97251597e-01,  2.47259151e-01],\n",
       "       [ 1.00000000e+00, -1.28096264e+00,  1.64086528e+00],\n",
       "       [ 1.00000000e+00, -1.32825793e+00,  1.76426913e+00],\n",
       "       [ 1.00000000e+00,  1.35294375e+00,  1.83045680e+00],\n",
       "       [ 1.00000000e+00, -2.82149803e+00,  7.96085113e+00],\n",
       "       [ 1.00000000e+00, -2.77551807e+00,  7.70350058e+00],\n",
       "       [ 1.00000000e+00,  1.97139034e+00,  3.88637988e+00],\n",
       "       [ 1.00000000e+00, -6.58334408e-02,  4.33404193e-03],\n",
       "       [ 1.00000000e+00,  2.85679944e-01,  8.16130306e-02],\n",
       "       [ 1.00000000e+00,  1.14531385e+00,  1.31174382e+00],\n",
       "       [ 1.00000000e+00,  1.82833389e+00,  3.34280482e+00],\n",
       "       [ 1.00000000e+00,  5.75733492e-01,  3.31469054e-01],\n",
       "       [ 1.00000000e+00,  2.70880178e+00,  7.33760708e+00]])"
      ]
     },
     "execution_count": 11,
     "metadata": {},
     "output_type": "execute_result"
    }
   ],
   "source": [
    "x_train_poly\n"
   ]
  },
  {
   "cell_type": "code",
   "execution_count": 12,
   "id": "4b95d19a",
   "metadata": {
    "execution": {
     "iopub.execute_input": "2023-10-10T13:07:08.886028Z",
     "iopub.status.busy": "2023-10-10T13:07:08.885260Z",
     "iopub.status.idle": "2023-10-10T13:07:08.891718Z",
     "shell.execute_reply": "2023-10-10T13:07:08.891018Z"
    },
    "papermill": {
     "duration": 0.014303,
     "end_time": "2023-10-10T13:07:08.893384",
     "exception": false,
     "start_time": "2023-10-10T13:07:08.879081",
     "status": "completed"
    },
    "tags": []
   },
   "outputs": [
    {
     "data": {
      "text/plain": [
       "array([[ 1.00000000e+00, -1.57455939e+00,  2.47923728e+00],\n",
       "       [ 1.00000000e+00, -2.14224725e+00,  4.58922326e+00],\n",
       "       [ 1.00000000e+00,  9.93333338e-01,  9.86711121e-01],\n",
       "       [ 1.00000000e+00, -3.64937220e-01,  1.33179174e-01],\n",
       "       [ 1.00000000e+00, -2.63019946e+00,  6.91794921e+00],\n",
       "       [ 1.00000000e+00, -2.80255649e-02,  7.85432290e-04],\n",
       "       [ 1.00000000e+00,  1.75730920e+00,  3.08813562e+00],\n",
       "       [ 1.00000000e+00,  1.10730515e+00,  1.22612469e+00],\n",
       "       [ 1.00000000e+00,  2.84428178e+00,  8.08993884e+00],\n",
       "       [ 1.00000000e+00,  2.86850333e+00,  8.22831134e+00],\n",
       "       [ 1.00000000e+00,  2.40770631e+00,  5.79704970e+00],\n",
       "       [ 1.00000000e+00, -2.31458718e+00,  5.35731384e+00],\n",
       "       [ 1.00000000e+00, -4.16418710e-01,  1.73404542e-01],\n",
       "       [ 1.00000000e+00,  1.79398979e+00,  3.21839936e+00],\n",
       "       [ 1.00000000e+00,  1.75685266e+00,  3.08653129e+00],\n",
       "       [ 1.00000000e+00, -4.81446926e-01,  2.31791143e-01],\n",
       "       [ 1.00000000e+00,  1.01927285e+00,  1.03891714e+00],\n",
       "       [ 1.00000000e+00, -1.51196876e+00,  2.28604952e+00],\n",
       "       [ 1.00000000e+00,  4.00858809e-02,  1.60687785e-03],\n",
       "       [ 1.00000000e+00,  6.62801289e-01,  4.39305549e-01]])"
      ]
     },
     "execution_count": 12,
     "metadata": {},
     "output_type": "execute_result"
    }
   ],
   "source": [
    "x_test_poly"
   ]
  },
  {
   "cell_type": "code",
   "execution_count": 13,
   "id": "bd9df4b5",
   "metadata": {
    "execution": {
     "iopub.execute_input": "2023-10-10T13:07:08.905928Z",
     "iopub.status.busy": "2023-10-10T13:07:08.905376Z",
     "iopub.status.idle": "2023-10-10T13:07:08.920313Z",
     "shell.execute_reply": "2023-10-10T13:07:08.919197Z"
    },
    "papermill": {
     "duration": 0.023576,
     "end_time": "2023-10-10T13:07:08.922375",
     "exception": false,
     "start_time": "2023-10-10T13:07:08.898799",
     "status": "completed"
    },
    "tags": []
   },
   "outputs": [
    {
     "name": "stdout",
     "output_type": "stream",
     "text": [
      "0.9160290512395215\n"
     ]
    }
   ],
   "source": [
    "from sklearn.metrics import r2_score\n",
    "regression = LinearRegression()\n",
    "regression.fit(x_train_poly,y_train)\n",
    "y_pred = regression.predict(x_test_poly)\n",
    "score = r2_score(y_test,y_pred)\n",
    "print(score)"
   ]
  },
  {
   "cell_type": "code",
   "execution_count": 14,
   "id": "f03a45e9",
   "metadata": {
    "execution": {
     "iopub.execute_input": "2023-10-10T13:07:08.935129Z",
     "iopub.status.busy": "2023-10-10T13:07:08.934486Z",
     "iopub.status.idle": "2023-10-10T13:07:08.939328Z",
     "shell.execute_reply": "2023-10-10T13:07:08.938395Z"
    },
    "papermill": {
     "duration": 0.013664,
     "end_time": "2023-10-10T13:07:08.941489",
     "exception": false,
     "start_time": "2023-10-10T13:07:08.927825",
     "status": "completed"
    },
    "tags": []
   },
   "outputs": [
    {
     "name": "stdout",
     "output_type": "stream",
     "text": [
      "[[0.         1.4434694  0.56099586]]\n"
     ]
    }
   ],
   "source": [
    "print(regression.coef_)"
   ]
  },
  {
   "cell_type": "code",
   "execution_count": 15,
   "id": "66cb9284",
   "metadata": {
    "execution": {
     "iopub.execute_input": "2023-10-10T13:07:08.954173Z",
     "iopub.status.busy": "2023-10-10T13:07:08.953583Z",
     "iopub.status.idle": "2023-10-10T13:07:08.958579Z",
     "shell.execute_reply": "2023-10-10T13:07:08.957708Z"
    },
    "papermill": {
     "duration": 0.013594,
     "end_time": "2023-10-10T13:07:08.960717",
     "exception": false,
     "start_time": "2023-10-10T13:07:08.947123",
     "status": "completed"
    },
    "tags": []
   },
   "outputs": [
    {
     "name": "stdout",
     "output_type": "stream",
     "text": [
      "[1.82829958]\n"
     ]
    }
   ],
   "source": [
    "print(regression.intercept_)"
   ]
  },
  {
   "cell_type": "code",
   "execution_count": 16,
   "id": "f609cb51",
   "metadata": {
    "execution": {
     "iopub.execute_input": "2023-10-10T13:07:08.973358Z",
     "iopub.status.busy": "2023-10-10T13:07:08.972748Z",
     "iopub.status.idle": "2023-10-10T13:07:09.209642Z",
     "shell.execute_reply": "2023-10-10T13:07:09.208480Z"
    },
    "papermill": {
     "duration": 0.245606,
     "end_time": "2023-10-10T13:07:09.211797",
     "exception": false,
     "start_time": "2023-10-10T13:07:08.966191",
     "status": "completed"
    },
    "tags": []
   },
   "outputs": [
    {
     "data": {
      "text/plain": [
       "<matplotlib.collections.PathCollection at 0x7c0bfc1db670>"
      ]
     },
     "execution_count": 16,
     "metadata": {},
     "output_type": "execute_result"
    },
    {
     "data": {
      "image/png": "[encoded data removed]",
      "text/plain": [
       "<Figure size 640x480 with 1 Axes>"
      ]
     },
     "metadata": {},
     "output_type": "display_data"
    }
   ],
   "source": [
    "plt.scatter(x_train,regression.predict(x_train_poly))\n",
    "plt.scatter(x_train,y_train)"
   ]
  },
  {
   "cell_type": "code",
   "execution_count": 17,
   "id": "f4f4e4d3",
   "metadata": {
    "execution": {
     "iopub.execute_input": "2023-10-10T13:07:09.226559Z",
     "iopub.status.busy": "2023-10-10T13:07:09.225487Z",
     "iopub.status.idle": "2023-10-10T13:07:09.240598Z",
     "shell.execute_reply": "2023-10-10T13:07:09.239574Z"
    },
    "papermill": {
     "duration": 0.024585,
     "end_time": "2023-10-10T13:07:09.242640",
     "exception": false,
     "start_time": "2023-10-10T13:07:09.218055",
     "status": "completed"
    },
    "tags": []
   },
   "outputs": [
    {
     "data": {
      "text/plain": [
       "array([[ 1.00000000e+00, -3.00000000e+00,  9.00000000e+00],\n",
       "       [ 1.00000000e+00, -2.96984925e+00,  8.82000455e+00],\n",
       "       [ 1.00000000e+00, -2.93969849e+00,  8.64182723e+00],\n",
       "       [ 1.00000000e+00, -2.90954774e+00,  8.46546804e+00],\n",
       "       [ 1.00000000e+00, -2.87939698e+00,  8.29092700e+00],\n",
       "       [ 1.00000000e+00, -2.84924623e+00,  8.11820409e+00],\n",
       "       [ 1.00000000e+00, -2.81909548e+00,  7.94729931e+00],\n",
       "       [ 1.00000000e+00, -2.78894472e+00,  7.77821267e+00],\n",
       "       [ 1.00000000e+00, -2.75879397e+00,  7.61094417e+00],\n",
       "       [ 1.00000000e+00, -2.72864322e+00,  7.44549380e+00],\n",
       "       [ 1.00000000e+00, -2.69849246e+00,  7.28186157e+00],\n",
       "       [ 1.00000000e+00, -2.66834171e+00,  7.12004747e+00],\n",
       "       [ 1.00000000e+00, -2.63819095e+00,  6.96005151e+00],\n",
       "       [ 1.00000000e+00, -2.60804020e+00,  6.80187369e+00],\n",
       "       [ 1.00000000e+00, -2.57788945e+00,  6.64551400e+00],\n",
       "       [ 1.00000000e+00, -2.54773869e+00,  6.49097245e+00],\n",
       "       [ 1.00000000e+00, -2.51758794e+00,  6.33824903e+00],\n",
       "       [ 1.00000000e+00, -2.48743719e+00,  6.18734375e+00],\n",
       "       [ 1.00000000e+00, -2.45728643e+00,  6.03825661e+00],\n",
       "       [ 1.00000000e+00, -2.42713568e+00,  5.89098760e+00],\n",
       "       [ 1.00000000e+00, -2.39698492e+00,  5.74553673e+00],\n",
       "       [ 1.00000000e+00, -2.36683417e+00,  5.60190399e+00],\n",
       "       [ 1.00000000e+00, -2.33668342e+00,  5.46008939e+00],\n",
       "       [ 1.00000000e+00, -2.30653266e+00,  5.32009293e+00],\n",
       "       [ 1.00000000e+00, -2.27638191e+00,  5.18191460e+00],\n",
       "       [ 1.00000000e+00, -2.24623116e+00,  5.04555441e+00],\n",
       "       [ 1.00000000e+00, -2.21608040e+00,  4.91101235e+00],\n",
       "       [ 1.00000000e+00, -2.18592965e+00,  4.77828843e+00],\n",
       "       [ 1.00000000e+00, -2.15577889e+00,  4.64738264e+00],\n",
       "       [ 1.00000000e+00, -2.12562814e+00,  4.51829499e+00],\n",
       "       [ 1.00000000e+00, -2.09547739e+00,  4.39102548e+00],\n",
       "       [ 1.00000000e+00, -2.06532663e+00,  4.26557410e+00],\n",
       "       [ 1.00000000e+00, -2.03517588e+00,  4.14194086e+00],\n",
       "       [ 1.00000000e+00, -2.00502513e+00,  4.02012575e+00],\n",
       "       [ 1.00000000e+00, -1.97487437e+00,  3.90012878e+00],\n",
       "       [ 1.00000000e+00, -1.94472362e+00,  3.78194995e+00],\n",
       "       [ 1.00000000e+00, -1.91457286e+00,  3.66558925e+00],\n",
       "       [ 1.00000000e+00, -1.88442211e+00,  3.55104669e+00],\n",
       "       [ 1.00000000e+00, -1.85427136e+00,  3.43832226e+00],\n",
       "       [ 1.00000000e+00, -1.82412060e+00,  3.32741597e+00],\n",
       "       [ 1.00000000e+00, -1.79396985e+00,  3.21832782e+00],\n",
       "       [ 1.00000000e+00, -1.76381910e+00,  3.11105780e+00],\n",
       "       [ 1.00000000e+00, -1.73366834e+00,  3.00560592e+00],\n",
       "       [ 1.00000000e+00, -1.70351759e+00,  2.90197217e+00],\n",
       "       [ 1.00000000e+00, -1.67336683e+00,  2.80015656e+00],\n",
       "       [ 1.00000000e+00, -1.64321608e+00,  2.70015909e+00],\n",
       "       [ 1.00000000e+00, -1.61306533e+00,  2.60197975e+00],\n",
       "       [ 1.00000000e+00, -1.58291457e+00,  2.50561854e+00],\n",
       "       [ 1.00000000e+00, -1.55276382e+00,  2.41107548e+00],\n",
       "       [ 1.00000000e+00, -1.52261307e+00,  2.31835055e+00],\n",
       "       [ 1.00000000e+00, -1.49246231e+00,  2.22744375e+00],\n",
       "       [ 1.00000000e+00, -1.46231156e+00,  2.13835509e+00],\n",
       "       [ 1.00000000e+00, -1.43216080e+00,  2.05108457e+00],\n",
       "       [ 1.00000000e+00, -1.40201005e+00,  1.96563218e+00],\n",
       "       [ 1.00000000e+00, -1.37185930e+00,  1.88199793e+00],\n",
       "       [ 1.00000000e+00, -1.34170854e+00,  1.80018181e+00],\n",
       "       [ 1.00000000e+00, -1.31155779e+00,  1.72018383e+00],\n",
       "       [ 1.00000000e+00, -1.28140704e+00,  1.64200399e+00],\n",
       "       [ 1.00000000e+00, -1.25125628e+00,  1.56564228e+00],\n",
       "       [ 1.00000000e+00, -1.22110553e+00,  1.49109871e+00],\n",
       "       [ 1.00000000e+00, -1.19095477e+00,  1.41837327e+00],\n",
       "       [ 1.00000000e+00, -1.16080402e+00,  1.34746597e+00],\n",
       "       [ 1.00000000e+00, -1.13065327e+00,  1.27837681e+00],\n",
       "       [ 1.00000000e+00, -1.10050251e+00,  1.21110578e+00],\n",
       "       [ 1.00000000e+00, -1.07035176e+00,  1.14565289e+00],\n",
       "       [ 1.00000000e+00, -1.04020101e+00,  1.08201813e+00],\n",
       "       [ 1.00000000e+00, -1.01005025e+00,  1.02020151e+00],\n",
       "       [ 1.00000000e+00, -9.79899497e-01,  9.60203025e-01],\n",
       "       [ 1.00000000e+00, -9.49748744e-01,  9.02022676e-01],\n",
       "       [ 1.00000000e+00, -9.19597990e-01,  8.45660463e-01],\n",
       "       [ 1.00000000e+00, -8.89447236e-01,  7.91116386e-01],\n",
       "       [ 1.00000000e+00, -8.59296482e-01,  7.38390445e-01],\n",
       "       [ 1.00000000e+00, -8.29145729e-01,  6.87482639e-01],\n",
       "       [ 1.00000000e+00, -7.98994975e-01,  6.38392970e-01],\n",
       "       [ 1.00000000e+00, -7.68844221e-01,  5.91121436e-01],\n",
       "       [ 1.00000000e+00, -7.38693467e-01,  5.45668039e-01],\n",
       "       [ 1.00000000e+00, -7.08542714e-01,  5.02032777e-01],\n",
       "       [ 1.00000000e+00, -6.78391960e-01,  4.60215651e-01],\n",
       "       [ 1.00000000e+00, -6.48241206e-01,  4.20216661e-01],\n",
       "       [ 1.00000000e+00, -6.18090452e-01,  3.82035807e-01],\n",
       "       [ 1.00000000e+00, -5.87939698e-01,  3.45673089e-01],\n",
       "       [ 1.00000000e+00, -5.57788945e-01,  3.11128507e-01],\n",
       "       [ 1.00000000e+00, -5.27638191e-01,  2.78402061e-01],\n",
       "       [ 1.00000000e+00, -4.97487437e-01,  2.47493750e-01],\n",
       "       [ 1.00000000e+00, -4.67336683e-01,  2.18403576e-01],\n",
       "       [ 1.00000000e+00, -4.37185930e-01,  1.91131537e-01],\n",
       "       [ 1.00000000e+00, -4.07035176e-01,  1.65677634e-01],\n",
       "       [ 1.00000000e+00, -3.76884422e-01,  1.42041868e-01],\n",
       "       [ 1.00000000e+00, -3.46733668e-01,  1.20224237e-01],\n",
       "       [ 1.00000000e+00, -3.16582915e-01,  1.00224742e-01],\n",
       "       [ 1.00000000e+00, -2.86432161e-01,  8.20433827e-02],\n",
       "       [ 1.00000000e+00, -2.56281407e-01,  6.56801596e-02],\n",
       "       [ 1.00000000e+00, -2.26130653e-01,  5.11350723e-02],\n",
       "       [ 1.00000000e+00, -1.95979899e-01,  3.84081210e-02],\n",
       "       [ 1.00000000e+00, -1.65829146e-01,  2.74993056e-02],\n",
       "       [ 1.00000000e+00, -1.35678392e-01,  1.84086260e-02],\n",
       "       [ 1.00000000e+00, -1.05527638e-01,  1.11360824e-02],\n",
       "       [ 1.00000000e+00, -7.53768844e-02,  5.68167471e-03],\n",
       "       [ 1.00000000e+00, -4.52261307e-02,  2.04540289e-03],\n",
       "       [ 1.00000000e+00, -1.50753769e-02,  2.27266988e-04],\n",
       "       [ 1.00000000e+00,  1.50753769e-02,  2.27266988e-04],\n",
       "       [ 1.00000000e+00,  4.52261307e-02,  2.04540289e-03],\n",
       "       [ 1.00000000e+00,  7.53768844e-02,  5.68167471e-03],\n",
       "       [ 1.00000000e+00,  1.05527638e-01,  1.11360824e-02],\n",
       "       [ 1.00000000e+00,  1.35678392e-01,  1.84086260e-02],\n",
       "       [ 1.00000000e+00,  1.65829146e-01,  2.74993056e-02],\n",
       "       [ 1.00000000e+00,  1.95979899e-01,  3.84081210e-02],\n",
       "       [ 1.00000000e+00,  2.26130653e-01,  5.11350723e-02],\n",
       "       [ 1.00000000e+00,  2.56281407e-01,  6.56801596e-02],\n",
       "       [ 1.00000000e+00,  2.86432161e-01,  8.20433827e-02],\n",
       "       [ 1.00000000e+00,  3.16582915e-01,  1.00224742e-01],\n",
       "       [ 1.00000000e+00,  3.46733668e-01,  1.20224237e-01],\n",
       "       [ 1.00000000e+00,  3.76884422e-01,  1.42041868e-01],\n",
       "       [ 1.00000000e+00,  4.07035176e-01,  1.65677634e-01],\n",
       "       [ 1.00000000e+00,  4.37185930e-01,  1.91131537e-01],\n",
       "       [ 1.00000000e+00,  4.67336683e-01,  2.18403576e-01],\n",
       "       [ 1.00000000e+00,  4.97487437e-01,  2.47493750e-01],\n",
       "       [ 1.00000000e+00,  5.27638191e-01,  2.78402061e-01],\n",
       "       [ 1.00000000e+00,  5.57788945e-01,  3.11128507e-01],\n",
       "       [ 1.00000000e+00,  5.87939698e-01,  3.45673089e-01],\n",
       "       [ 1.00000000e+00,  6.18090452e-01,  3.82035807e-01],\n",
       "       [ 1.00000000e+00,  6.48241206e-01,  4.20216661e-01],\n",
       "       [ 1.00000000e+00,  6.78391960e-01,  4.60215651e-01],\n",
       "       [ 1.00000000e+00,  7.08542714e-01,  5.02032777e-01],\n",
       "       [ 1.00000000e+00,  7.38693467e-01,  5.45668039e-01],\n",
       "       [ 1.00000000e+00,  7.68844221e-01,  5.91121436e-01],\n",
       "       [ 1.00000000e+00,  7.98994975e-01,  6.38392970e-01],\n",
       "       [ 1.00000000e+00,  8.29145729e-01,  6.87482639e-01],\n",
       "       [ 1.00000000e+00,  8.59296482e-01,  7.38390445e-01],\n",
       "       [ 1.00000000e+00,  8.89447236e-01,  7.91116386e-01],\n",
       "       [ 1.00000000e+00,  9.19597990e-01,  8.45660463e-01],\n",
       "       [ 1.00000000e+00,  9.49748744e-01,  9.02022676e-01],\n",
       "       [ 1.00000000e+00,  9.79899497e-01,  9.60203025e-01],\n",
       "       [ 1.00000000e+00,  1.01005025e+00,  1.02020151e+00],\n",
       "       [ 1.00000000e+00,  1.04020101e+00,  1.08201813e+00],\n",
       "       [ 1.00000000e+00,  1.07035176e+00,  1.14565289e+00],\n",
       "       [ 1.00000000e+00,  1.10050251e+00,  1.21110578e+00],\n",
       "       [ 1.00000000e+00,  1.13065327e+00,  1.27837681e+00],\n",
       "       [ 1.00000000e+00,  1.16080402e+00,  1.34746597e+00],\n",
       "       [ 1.00000000e+00,  1.19095477e+00,  1.41837327e+00],\n",
       "       [ 1.00000000e+00,  1.22110553e+00,  1.49109871e+00],\n",
       "       [ 1.00000000e+00,  1.25125628e+00,  1.56564228e+00],\n",
       "       [ 1.00000000e+00,  1.28140704e+00,  1.64200399e+00],\n",
       "       [ 1.00000000e+00,  1.31155779e+00,  1.72018383e+00],\n",
       "       [ 1.00000000e+00,  1.34170854e+00,  1.80018181e+00],\n",
       "       [ 1.00000000e+00,  1.37185930e+00,  1.88199793e+00],\n",
       "       [ 1.00000000e+00,  1.40201005e+00,  1.96563218e+00],\n",
       "       [ 1.00000000e+00,  1.43216080e+00,  2.05108457e+00],\n",
       "       [ 1.00000000e+00,  1.46231156e+00,  2.13835509e+00],\n",
       "       [ 1.00000000e+00,  1.49246231e+00,  2.22744375e+00],\n",
       "       [ 1.00000000e+00,  1.52261307e+00,  2.31835055e+00],\n",
       "       [ 1.00000000e+00,  1.55276382e+00,  2.41107548e+00],\n",
       "       [ 1.00000000e+00,  1.58291457e+00,  2.50561854e+00],\n",
       "       [ 1.00000000e+00,  1.61306533e+00,  2.60197975e+00],\n",
       "       [ 1.00000000e+00,  1.64321608e+00,  2.70015909e+00],\n",
       "       [ 1.00000000e+00,  1.67336683e+00,  2.80015656e+00],\n",
       "       [ 1.00000000e+00,  1.70351759e+00,  2.90197217e+00],\n",
       "       [ 1.00000000e+00,  1.73366834e+00,  3.00560592e+00],\n",
       "       [ 1.00000000e+00,  1.76381910e+00,  3.11105780e+00],\n",
       "       [ 1.00000000e+00,  1.79396985e+00,  3.21832782e+00],\n",
       "       [ 1.00000000e+00,  1.82412060e+00,  3.32741597e+00],\n",
       "       [ 1.00000000e+00,  1.85427136e+00,  3.43832226e+00],\n",
       "       [ 1.00000000e+00,  1.88442211e+00,  3.55104669e+00],\n",
       "       [ 1.00000000e+00,  1.91457286e+00,  3.66558925e+00],\n",
       "       [ 1.00000000e+00,  1.94472362e+00,  3.78194995e+00],\n",
       "       [ 1.00000000e+00,  1.97487437e+00,  3.90012878e+00],\n",
       "       [ 1.00000000e+00,  2.00502513e+00,  4.02012575e+00],\n",
       "       [ 1.00000000e+00,  2.03517588e+00,  4.14194086e+00],\n",
       "       [ 1.00000000e+00,  2.06532663e+00,  4.26557410e+00],\n",
       "       [ 1.00000000e+00,  2.09547739e+00,  4.39102548e+00],\n",
       "       [ 1.00000000e+00,  2.12562814e+00,  4.51829499e+00],\n",
       "       [ 1.00000000e+00,  2.15577889e+00,  4.64738264e+00],\n",
       "       [ 1.00000000e+00,  2.18592965e+00,  4.77828843e+00],\n",
       "       [ 1.00000000e+00,  2.21608040e+00,  4.91101235e+00],\n",
       "       [ 1.00000000e+00,  2.24623116e+00,  5.04555441e+00],\n",
       "       [ 1.00000000e+00,  2.27638191e+00,  5.18191460e+00],\n",
       "       [ 1.00000000e+00,  2.30653266e+00,  5.32009293e+00],\n",
       "       [ 1.00000000e+00,  2.33668342e+00,  5.46008939e+00],\n",
       "       [ 1.00000000e+00,  2.36683417e+00,  5.60190399e+00],\n",
       "       [ 1.00000000e+00,  2.39698492e+00,  5.74553673e+00],\n",
       "       [ 1.00000000e+00,  2.42713568e+00,  5.89098760e+00],\n",
       "       [ 1.00000000e+00,  2.45728643e+00,  6.03825661e+00],\n",
       "       [ 1.00000000e+00,  2.48743719e+00,  6.18734375e+00],\n",
       "       [ 1.00000000e+00,  2.51758794e+00,  6.33824903e+00],\n",
       "       [ 1.00000000e+00,  2.54773869e+00,  6.49097245e+00],\n",
       "       [ 1.00000000e+00,  2.57788945e+00,  6.64551400e+00],\n",
       "       [ 1.00000000e+00,  2.60804020e+00,  6.80187369e+00],\n",
       "       [ 1.00000000e+00,  2.63819095e+00,  6.96005151e+00],\n",
       "       [ 1.00000000e+00,  2.66834171e+00,  7.12004747e+00],\n",
       "       [ 1.00000000e+00,  2.69849246e+00,  7.28186157e+00],\n",
       "       [ 1.00000000e+00,  2.72864322e+00,  7.44549380e+00],\n",
       "       [ 1.00000000e+00,  2.75879397e+00,  7.61094417e+00],\n",
       "       [ 1.00000000e+00,  2.78894472e+00,  7.77821267e+00],\n",
       "       [ 1.00000000e+00,  2.81909548e+00,  7.94729931e+00],\n",
       "       [ 1.00000000e+00,  2.84924623e+00,  8.11820409e+00],\n",
       "       [ 1.00000000e+00,  2.87939698e+00,  8.29092700e+00],\n",
       "       [ 1.00000000e+00,  2.90954774e+00,  8.46546804e+00],\n",
       "       [ 1.00000000e+00,  2.93969849e+00,  8.64182723e+00],\n",
       "       [ 1.00000000e+00,  2.96984925e+00,  8.82000455e+00],\n",
       "       [ 1.00000000e+00,  3.00000000e+00,  9.00000000e+00]])"
      ]
     },
     "execution_count": 17,
     "metadata": {},
     "output_type": "execute_result"
    }
   ],
   "source": [
    "#prediction of new data set\n",
    "x_new = np.linspace(-3,3,200).reshape(200,1)\n",
    "x_new_poly = poly.transform(x_new)\n",
    "x_new_poly"
   ]
  },
  {
   "cell_type": "code",
   "execution_count": 18,
   "id": "253b9a4c",
   "metadata": {
    "execution": {
     "iopub.execute_input": "2023-10-10T13:07:09.257577Z",
     "iopub.status.busy": "2023-10-10T13:07:09.256449Z",
     "iopub.status.idle": "2023-10-10T13:07:09.483542Z",
     "shell.execute_reply": "2023-10-10T13:07:09.482425Z"
    },
    "papermill": {
     "duration": 0.236568,
     "end_time": "2023-10-10T13:07:09.485614",
     "exception": false,
     "start_time": "2023-10-10T13:07:09.249046",
     "status": "completed"
    },
    "tags": []
   },
   "outputs": [
    {
     "data": {
      "image/png": "[encoded data removed]",
      "text/plain": [
       "<Figure size 640x480 with 1 Axes>"
      ]
     },
     "metadata": {},
     "output_type": "display_data"
    }
   ],
   "source": [
    "y_new = regression.predict(x_new_poly)\n",
    "plt.plot(x_new,y_new,\"r-\",linewidth=2,label=\"New Predictions\")\n",
    "plt.plot(x_train,y_train,\"b.\",label='Training points')\n",
    "plt.plot(x_test,y_test,\"g.\",label=\"Testing points\")\n",
    "plt.xlabel(\"X\")\n",
    "plt.ylabel(\"Y\")\n",
    "plt.legend()\n",
    "plt.show()"
   ]
  }
 ],
 "metadata": {
  "kernelspec": {
   "display_name": "Python 3",
   "language": "python",
   "name": "python3"
  },
  "language_info": {
   "codemirror_mode": {
    "name": "ipython",
    "version": 3
   },
   "file_extension": ".py",
   "mimetype": "text/x-python",
   "name": "python",
   "nbconvert_exporter": "python",
   "pygments_lexer": "ipython3",
   "version": "3.10.12"
  },
  "papermill": {
   "default_parameters": {},
   "duration": 6.31045,
   "end_time": "2023-10-10T13:07:10.011699",
   "environment_variables": {},
   "exception": null,
   "input_path": "__notebook__.ipynb",
   "output_path": "__notebook__.ipynb",
   "parameters": {},
   "start_time": "2023-10-10T13:07:03.701249",
   "version": "2.4.0"
  }
 },
 "nbformat": 4,
 "nbformat_minor": 5
}
